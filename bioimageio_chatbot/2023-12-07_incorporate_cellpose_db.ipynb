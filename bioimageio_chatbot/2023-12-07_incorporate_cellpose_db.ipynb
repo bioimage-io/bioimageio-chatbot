{
 "cells": [
  {
   "cell_type": "code",
   "execution_count": 11,
   "metadata": {},
   "outputs": [
    {
     "name": "stdout",
     "output_type": "stream",
     "text": [
      "The autoreload extension is already loaded. To reload it, use:\n",
      "  %reload_ext autoreload\n"
     ]
    }
   ],
   "source": [
    "%load_ext autoreload\n",
    "%autoreload 2\n",
    "import os\n",
    "import typing as T\n",
    "import pickle as pkl\n",
    "import matplotlib.pyplot as plt\n",
    "import sys\n",
    "import cv2\n",
    "import yaml\n",
    "import requests\n",
    "import torch\n",
    "import scipy\n",
    "import torch.nn as nn\n",
    "import numpy as np\n",
    "from xarray import DataArray\n",
    "from tqdm.auto import tqdm\n",
    "import io\n",
    "from PIL import Image\n",
    "from bioimageio_chatbot.image_processor import *\n",
    "import numpy as np\n",
    "from scipy.spatial.distance import cosine\n",
    "from random import choice"
   ]
  },
  {
   "cell_type": "code",
   "execution_count": 3,
   "metadata": {},
   "outputs": [
    {
     "data": {
      "text/plain": [
       "[]"
      ]
     },
     "execution_count": 3,
     "metadata": {},
     "output_type": "execute_result"
    }
   ],
   "source": [
    "cellpose_train_images"
   ]
  },
  {
   "cell_type": "code",
   "execution_count": null,
   "metadata": {},
   "outputs": [],
   "source": []
  },
  {
   "cell_type": "code",
   "execution_count": 5,
   "metadata": {},
   "outputs": [
    {
     "name": "stderr",
     "output_type": "stream",
     "text": [
      "100%|██████████| 540/540 [00:41<00:00, 13.11it/s]\n"
     ]
    },
    {
     "name": "stdout",
     "output_type": "stream",
     "text": [
      "Embedded database includes 540 vectors\n"
     ]
    },
    {
     "name": "stderr",
     "output_type": "stream",
     "text": [
      "Safety Counter Progress:   5%|▍         | 2594/54000 [10:53<3:35:57,  3.97it/s]\n"
     ]
    }
   ],
   "source": [
    "cellpose_train_dir = \"/Users/gkreder/Downloads/train\"\n",
    "cellpose_train_images = [os.path.join(cellpose_train_dir, x) for x in os.listdir(cellpose_train_dir) if x.endswith(\"_img.png\")]\n",
    "representative_images = get_representative_images(cellpose_train_images, verbose = True)"
   ]
  },
  {
   "cell_type": "code",
   "execution_count": 15,
   "metadata": {},
   "outputs": [
    {
     "data": {
      "text/plain": [
       "77"
      ]
     },
     "execution_count": 15,
     "metadata": {},
     "output_type": "execute_result"
    }
   ],
   "source": [
    "len(representative_images_old)"
   ]
  },
  {
   "cell_type": "code",
   "execution_count": 13,
   "metadata": {},
   "outputs": [
    {
     "name": "stdout",
     "output_type": "stream",
     "text": [
      "Embedding input images\n"
     ]
    },
    {
     "name": "stderr",
     "output_type": "stream",
     "text": [
      "100%|██████████| 540/540 [00:38<00:00, 13.90it/s]"
     ]
    },
    {
     "name": "stdout",
     "output_type": "stream",
     "text": [
      "Calculating distance matrix\n"
     ]
    },
    {
     "name": "stderr",
     "output_type": "stream",
     "text": [
      "\n",
      "100%|██████████| 540/540 [00:04<00:00, 108.71it/s]\n"
     ]
    },
    {
     "name": "stdout",
     "output_type": "stream",
     "text": [
      "Assembling representative set\n"
     ]
    },
    {
     "name": "stderr",
     "output_type": "stream",
     "text": [
      "100%|██████████| 540/540 [00:00<00:00, 3164.69it/s]\n"
     ]
    }
   ],
   "source": [
    "cellpose_train_dir = \"/Users/gkreder/Downloads/train\"\n",
    "cellpose_train_images = [os.path.join(cellpose_train_dir, x) for x in os.listdir(cellpose_train_dir) if x.endswith(\"_img.png\")]\n",
    "representative_images_new = draft_get_representative_images(cellpose_train_images, verbose = True)"
   ]
  },
  {
   "cell_type": "code",
   "execution_count": 14,
   "metadata": {},
   "outputs": [
    {
     "data": {
      "text/plain": [
       "541"
      ]
     },
     "execution_count": 14,
     "metadata": {},
     "output_type": "execute_result"
    }
   ],
   "source": [
    "len(representative_images_new)"
   ]
  }
 ],
 "metadata": {
  "kernelspec": {
   "display_name": "novel-designer",
   "language": "python",
   "name": "python3"
  },
  "language_info": {
   "codemirror_mode": {
    "name": "ipython",
    "version": 3
   },
   "file_extension": ".py",
   "mimetype": "text/x-python",
   "name": "python",
   "nbconvert_exporter": "python",
   "pygments_lexer": "ipython3",
   "version": "3.10.13"
  }
 },
 "nbformat": 4,
 "nbformat_minor": 2
}
