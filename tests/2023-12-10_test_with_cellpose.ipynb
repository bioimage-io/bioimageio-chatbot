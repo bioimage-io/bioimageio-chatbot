{
 "cells": [
  {
   "cell_type": "code",
   "execution_count": 2,
   "metadata": {},
   "outputs": [
    {
     "name": "stdout",
     "output_type": "stream",
     "text": [
      "The autoreload extension is already loaded. To reload it, use:\n",
      "  %reload_ext autoreload\n"
     ]
    }
   ],
   "source": [
    "%load_ext autoreload\n",
    "%autoreload 2\n",
    "import os\n",
    "import sys\n",
    "import pickle as pkl\n",
    "import matplotlib.pyplot as plt\n",
    "import torch.nn as nn\n",
    "import numpy as np\n",
    "from xarray import DataArray\n",
    "from PIL import Image\n",
    "import xml.etree.ElementTree as ET\n",
    "from schema_agents.provider.openai_api import retry\n",
    "import shutil\n",
    "import asyncio\n",
    "from schema_agents.role import Role\n",
    "from schema_agents.schema import Message\n",
    "from pydantic import BaseModel, Field, validator\n",
    "from bioimageio_chatbot.image_processor import *\n"
   ]
  },
  {
   "cell_type": "code",
   "execution_count": 26,
   "metadata": {},
   "outputs": [
    {
     "name": "stderr",
     "output_type": "stream",
     "text": [
      "2023-12-10 21:51:44.493 | INFO     | schema_agents.provider.openai_api:__init__:150 - OpenAI API model: gpt-4-1106-preview\n",
      "2023-12-10 21:51:44.494 | INFO     | schema_agents.role:set_event_bus:83 - Mounting AxisGuesser(Axis Guesser) to event bus: Axis Guesser - AxisGuesser.\n",
      " 26%|██▋       | 18/68 [00:00<00:00, 176.92it/s]"
     ]
    },
    {
     "name": "stdout",
     "output_type": "stream",
     "text": [
      "Embedding input images\n"
     ]
    },
    {
     "name": "stderr",
     "output_type": "stream",
     "text": [
      "100%|██████████| 68/68 [00:00<00:00, 178.49it/s]\n"
     ]
    }
   ],
   "source": [
    "db_path = \"../tmp/image_db/\"\n",
    "out_dir = \"/Users/gkreder/Downloads/test_cellpose_db\"\n",
    "suffix = \"cellpose_test\"\n",
    "cellpose_test_dir = \"/Users/gkreder/Downloads/test\"\n",
    "input_files = [os.path.join(cellpose_test_dir, x) for x in os.listdir(cellpose_test_dir) if x.endswith('_img.png')]\n",
    "representative_images = await get_representative_images(input_files, verbose = True, llm_axis_guessing=False, threshold_distance=0.00001)\n",
    "# return(representative_images)"
   ]
  },
  {
   "cell_type": "code",
   "execution_count": 36,
   "metadata": {},
   "outputs": [],
   "source": [
    "img1 = representative_images[0][2]\n",
    "img2 = representative_images[1][2]"
   ]
  },
  {
   "cell_type": "code",
   "execution_count": 43,
   "metadata": {},
   "outputs": [
    {
     "data": {
      "text/plain": [
       "0.05084341764450073"
      ]
     },
     "execution_count": 43,
     "metadata": {},
     "output_type": "execute_result"
    }
   ],
   "source": [
    "min_distance_to_representative(img1, [['a', 'b', img2]])"
   ]
  },
  {
   "cell_type": "code",
   "execution_count": null,
   "metadata": {},
   "outputs": [],
   "source": []
  },
  {
   "cell_type": "code",
   "execution_count": 9,
   "metadata": {},
   "outputs": [
    {
     "name": "stderr",
     "output_type": "stream",
     "text": [
      "2023-12-10 21:31:59.687 | INFO     | schema_agents.provider.openai_api:__init__:150 - OpenAI API model: gpt-4-1106-preview\n",
      "2023-12-10 21:31:59.688 | INFO     | schema_agents.role:set_event_bus:83 - Mounting AxisGuesser(Axis Guesser) to event bus: Axis Guesser - AxisGuesser.\n",
      " 26%|██▋       | 18/68 [00:00<00:00, 175.98it/s]"
     ]
    },
    {
     "name": "stdout",
     "output_type": "stream",
     "text": [
      "Embedding input images\n"
     ]
    },
    {
     "name": "stderr",
     "output_type": "stream",
     "text": [
      "100%|██████████| 68/68 [00:00<00:00, 177.88it/s]\n"
     ]
    },
    {
     "name": "stdout",
     "output_type": "stream",
     "text": [
      "\n",
      "Generating LabeledImage (start): \n",
      "{\n",
      "  \"shape\": [360, 480, 3],\n",
      "  \"axes\": {\n",
      "    \"labels\": [\"y\", \"x"
     ]
    },
    {
     "name": "stderr",
     "output_type": "stream",
     "text": [
      "2023-12-10 21:32:03.410 | INFO     | schema_agents.provider.openai_api:update_cost:101 - Total running cost: $1.185 | Max budget: $10.000 | Current cost: $0.005, prompt_tokens=342, completion_tokens=38\n"
     ]
    },
    {
     "name": "stdout",
     "output_type": "stream",
     "text": [
      "\", \"c\"]\n",
      "  }\n",
      "}\n",
      "Generating LabeledImage (finished): {\n",
      "  \"shape\": [360, 480, 3],\n",
      "  \"axes\": {\n",
      "    \"labels\": [\"y\", \"x\", \"c\"]\n",
      "  }\n",
      "}\n",
      "Warning: not supported field items\n",
      "Warning: not supported field items\n",
      "Warning: not supported field allOf\n",
      "\n",
      "Generating LabeledImage (start): \n",
      "{\n",
      "  \"shape\": [367, 324, 3],\n",
      "  \"axes\": {\n",
      "    \"labels\": [\"y\", \"x\", \""
     ]
    },
    {
     "name": "stderr",
     "output_type": "stream",
     "text": [
      "2023-12-10 21:32:06.643 | INFO     | schema_agents.provider.openai_api:update_cost:101 - Total running cost: $1.190 | Max budget: $10.000 | Current cost: $0.005, prompt_tokens=342, completion_tokens=38\n"
     ]
    },
    {
     "name": "stdout",
     "output_type": "stream",
     "text": [
      "c\"]\n",
      "  }\n",
      "}\n",
      "Generating LabeledImage (finished): {\n",
      "  \"shape\": [367, 324, 3],\n",
      "  \"axes\": {\n",
      "    \"labels\": [\"y\", \"x\", \"c\"]\n",
      "  }\n",
      "}\n",
      "Warning: not supported field items\n",
      "Warning: not supported field items\n",
      "Warning: not supported field allOf\n",
      "\n",
      "Generating LabeledImage (start): \n",
      "{\n",
      "  \"shape\": [383, 512, 3],\n",
      "  \"axes\": {\n",
      "    \"labels\": [\"y\", \"x\", \"c\"]\n"
     ]
    },
    {
     "name": "stderr",
     "output_type": "stream",
     "text": [
      "2023-12-10 21:32:09.621 | INFO     | schema_agents.provider.openai_api:update_cost:101 - Total running cost: $1.194 | Max budget: $10.000 | Current cost: $0.005, prompt_tokens=342, completion_tokens=38\n"
     ]
    },
    {
     "name": "stdout",
     "output_type": "stream",
     "text": [
      "  }\n",
      "}\n",
      "Generating LabeledImage (finished): {\n",
      "  \"shape\": [383, 512, 3],\n",
      "  \"axes\": {\n",
      "    \"labels\": [\"y\", \"x\", \"c\"]\n",
      "  }\n",
      "}\n",
      "Warning: not supported field items\n",
      "Warning: not supported field items\n",
      "Warning: not supported field allOf\n",
      "\n",
      "Generating LabeledImage (start): \n",
      "{\"shape\":[512,512,3],\"axes\":{\"labels\":[\"y\",\"x"
     ]
    },
    {
     "name": "stderr",
     "output_type": "stream",
     "text": [
      "2023-12-10 21:32:11.147 | INFO     | schema_agents.provider.openai_api:update_cost:101 - Total running cost: $1.198 | Max budget: $10.000 | Current cost: $0.004, prompt_tokens=342, completion_tokens=24\n"
     ]
    },
    {
     "name": "stdout",
     "output_type": "stream",
     "text": [
      "\",\"c\"]}}\n",
      "Generating LabeledImage (finished): {\"shape\":[512,512,3],\"axes\":{\"labels\":[\"y\",\"x\",\"c\"]}}\n",
      "Warning: not supported field items\n",
      "Warning: not supported field items\n",
      "Warning: not supported field allOf\n",
      "\n",
      "Generating LabeledImage (start): \n",
      "{\"shape\":[384,512,3],\"axes\":{\"labels\":[\"y\",\"x"
     ]
    },
    {
     "name": "stderr",
     "output_type": "stream",
     "text": [
      "2023-12-10 21:32:12.318 | INFO     | schema_agents.provider.openai_api:update_cost:101 - Total running cost: $1.203 | Max budget: $10.000 | Current cost: $0.004, prompt_tokens=342, completion_tokens=24\n"
     ]
    },
    {
     "name": "stdout",
     "output_type": "stream",
     "text": [
      "\",\"c\"]}}\n",
      "Generating LabeledImage (finished): {\"shape\":[384,512,3],\"axes\":{\"labels\":[\"y\",\"x\",\"c\"]}}\n",
      "Warning: not supported field items\n",
      "Warning: not supported field items\n",
      "Warning: not supported field allOf\n",
      "\n",
      "Generating LabeledImage (start): \n",
      "{\n",
      "  \"shape\": [383, 512, 3],\n",
      "  \"axes\": {\n",
      "    \"labels\": [\"y\", \"x\", \"c\"]\n"
     ]
    },
    {
     "name": "stderr",
     "output_type": "stream",
     "text": [
      "2023-12-10 21:32:14.844 | INFO     | schema_agents.provider.openai_api:update_cost:101 - Total running cost: $1.207 | Max budget: $10.000 | Current cost: $0.005, prompt_tokens=342, completion_tokens=38\n"
     ]
    },
    {
     "name": "stdout",
     "output_type": "stream",
     "text": [
      "  }\n",
      "}\n",
      "Generating LabeledImage (finished): {\n",
      "  \"shape\": [383, 512, 3],\n",
      "  \"axes\": {\n",
      "    \"labels\": [\"y\", \"x\", \"c\"]\n",
      "  }\n",
      "}\n",
      "Warning: not supported field items\n",
      "Warning: not supported field items\n",
      "Warning: not supported field allOf\n",
      "\n",
      "Generating LabeledImage (start): \n",
      "{\n",
      "  \"shape\": [217, 318, 3],\n",
      "  \"axes\": {\n",
      "    \"labels\": [\"y\", \"x\", \""
     ]
    },
    {
     "name": "stderr",
     "output_type": "stream",
     "text": [
      "2023-12-10 21:32:17.260 | INFO     | schema_agents.provider.openai_api:update_cost:101 - Total running cost: $1.212 | Max budget: $10.000 | Current cost: $0.005, prompt_tokens=342, completion_tokens=38\n"
     ]
    },
    {
     "name": "stdout",
     "output_type": "stream",
     "text": [
      "c\"]\n",
      "  }\n",
      "}\n",
      "Generating LabeledImage (finished): {\n",
      "  \"shape\": [217, 318, 3],\n",
      "  \"axes\": {\n",
      "    \"labels\": [\"y\", \"x\", \"c\"]\n",
      "  }\n",
      "}\n",
      "Warning: not supported field items\n",
      "Warning: not supported field items\n",
      "Warning: not supported field allOf\n",
      "\n",
      "Generating LabeledImage (start): \n",
      "{\n",
      "  \"shape\": [512, 384, 3],\n",
      "  \"axes\": {\n",
      "    \"labels\": [\"y\", \"x\", \"c\"]\n"
     ]
    },
    {
     "name": "stderr",
     "output_type": "stream",
     "text": [
      "2023-12-10 21:32:20.151 | INFO     | schema_agents.provider.openai_api:update_cost:101 - Total running cost: $1.216 | Max budget: $10.000 | Current cost: $0.005, prompt_tokens=342, completion_tokens=38\n"
     ]
    },
    {
     "name": "stdout",
     "output_type": "stream",
     "text": [
      "  }\n",
      "}\n",
      "Generating LabeledImage (finished): {\n",
      "  \"shape\": [512, 384, 3],\n",
      "  \"axes\": {\n",
      "    \"labels\": [\"y\", \"x\", \"c\"]\n",
      "  }\n",
      "}\n",
      "Warning: not supported field items\n",
      "Warning: not supported field items\n",
      "Warning: not supported field allOf\n",
      "\n",
      "Generating LabeledImage (start): \n",
      "{\n",
      "  \"shape\": [135, 512, 3],\n",
      "  \"axes\": {\n",
      "    \"labels\": [\"y\", \"x\", \"c\"]\n"
     ]
    },
    {
     "name": "stderr",
     "output_type": "stream",
     "text": [
      "2023-12-10 21:32:22.278 | INFO     | schema_agents.provider.openai_api:update_cost:101 - Total running cost: $1.221 | Max budget: $10.000 | Current cost: $0.005, prompt_tokens=342, completion_tokens=38\n"
     ]
    },
    {
     "name": "stdout",
     "output_type": "stream",
     "text": [
      "  }\n",
      "}\n",
      "Generating LabeledImage (finished): {\n",
      "  \"shape\": [135, 512, 3],\n",
      "  \"axes\": {\n",
      "    \"labels\": [\"y\", \"x\", \"c\"]\n",
      "  }\n",
      "}\n",
      "Warning: not supported field items\n",
      "Warning: not supported field items\n",
      "Warning: not supported field allOf\n",
      "\n",
      "Generating LabeledImage (start): \n",
      "{\n",
      "  \"shape\": [384, 512, 3],\n",
      "  \"axes\": {\n",
      "    \"labels\": [\"y\", \"x\", \"c\"]\n"
     ]
    },
    {
     "name": "stderr",
     "output_type": "stream",
     "text": [
      "2023-12-10 21:32:25.662 | INFO     | schema_agents.provider.openai_api:update_cost:101 - Total running cost: $1.225 | Max budget: $10.000 | Current cost: $0.005, prompt_tokens=342, completion_tokens=38\n"
     ]
    },
    {
     "name": "stdout",
     "output_type": "stream",
     "text": [
      "  }\n",
      "}\n",
      "Generating LabeledImage (finished): {\n",
      "  \"shape\": [384, 512, 3],\n",
      "  \"axes\": {\n",
      "    \"labels\": [\"y\", \"x\", \"c\"]\n",
      "  }\n",
      "}\n",
      "Warning: not supported field items\n",
      "Warning: not supported field items\n",
      "Warning: not supported field allOf\n",
      "\n",
      "Generating LabeledImage (start): \n",
      "{\n",
      "  \"shape\": [512, 512, 3],\n",
      "  \"axes\": {\n",
      "    \"labels\": [\"y\", \"x"
     ]
    },
    {
     "name": "stderr",
     "output_type": "stream",
     "text": [
      "2023-12-10 21:32:27.781 | INFO     | schema_agents.provider.openai_api:update_cost:101 - Total running cost: $1.230 | Max budget: $10.000 | Current cost: $0.005, prompt_tokens=342, completion_tokens=38\n"
     ]
    },
    {
     "name": "stdout",
     "output_type": "stream",
     "text": [
      "\", \"c\"]\n",
      "  }\n",
      "}\n",
      "Generating LabeledImage (finished): {\n",
      "  \"shape\": [512, 512, 3],\n",
      "  \"axes\": {\n",
      "    \"labels\": [\"y\", \"x\", \"c\"]\n",
      "  }\n",
      "}\n",
      "Warning: not supported field items\n",
      "Warning: not supported field items\n",
      "Warning: not supported field allOf\n",
      "\n",
      "Generating LabeledImage (start): \n",
      "{\n",
      "  \"shape\": [383, 512, 3],\n",
      "  \"axes\": {\n",
      "    \"labels\": [\"y\", \"x\", \""
     ]
    },
    {
     "name": "stderr",
     "output_type": "stream",
     "text": [
      "2023-12-10 21:32:29.486 | INFO     | schema_agents.provider.openai_api:update_cost:101 - Total running cost: $1.235 | Max budget: $10.000 | Current cost: $0.005, prompt_tokens=342, completion_tokens=38\n"
     ]
    },
    {
     "name": "stdout",
     "output_type": "stream",
     "text": [
      "c\"]\n",
      "  }\n",
      "}\n",
      "Generating LabeledImage (finished): {\n",
      "  \"shape\": [383, 512, 3],\n",
      "  \"axes\": {\n",
      "    \"labels\": [\"y\", \"x\", \"c\"]\n",
      "  }\n",
      "}\n",
      "Warning: not supported field items\n",
      "Warning: not supported field items\n",
      "Warning: not supported field allOf\n",
      "\n",
      "Generating LabeledImage (start): \n",
      "{\n",
      "  \"shape\": [383, 512, 3],\n",
      "  \"axes\": {\n",
      "    \"labels\": [\"y\", \"x\", \"c\"]\n"
     ]
    },
    {
     "name": "stderr",
     "output_type": "stream",
     "text": [
      "2023-12-10 21:32:31.595 | INFO     | schema_agents.provider.openai_api:update_cost:101 - Total running cost: $1.239 | Max budget: $10.000 | Current cost: $0.005, prompt_tokens=342, completion_tokens=38\n"
     ]
    },
    {
     "name": "stdout",
     "output_type": "stream",
     "text": [
      "  }\n",
      "}\n",
      "Generating LabeledImage (finished): {\n",
      "  \"shape\": [383, 512, 3],\n",
      "  \"axes\": {\n",
      "    \"labels\": [\"y\", \"x\", \"c\"]\n",
      "  }\n",
      "}\n",
      "Warning: not supported field items\n",
      "Warning: not supported field items\n",
      "Warning: not supported field allOf\n",
      "\n",
      "Generating LabeledImage (start): \n",
      "{\n",
      "  \"shape\": [384, 512, 3],\n",
      "  \"axes\": {\n",
      "    \"labels\": [\"y\", \"x\", \""
     ]
    },
    {
     "name": "stderr",
     "output_type": "stream",
     "text": [
      "2023-12-10 21:32:33.699 | INFO     | schema_agents.provider.openai_api:update_cost:101 - Total running cost: $1.244 | Max budget: $10.000 | Current cost: $0.005, prompt_tokens=342, completion_tokens=38\n"
     ]
    },
    {
     "name": "stdout",
     "output_type": "stream",
     "text": [
      "c\"]\n",
      "  }\n",
      "}\n",
      "Generating LabeledImage (finished): {\n",
      "  \"shape\": [384, 512, 3],\n",
      "  \"axes\": {\n",
      "    \"labels\": [\"y\", \"x\", \"c\"]\n",
      "  }\n",
      "}\n",
      "Warning: not supported field items\n",
      "Warning: not supported field items\n",
      "Warning: not supported field allOf\n",
      "\n",
      "Generating LabeledImage (start): \n",
      "{\n",
      "  \"shape\": [225, 225, 3],\n",
      "  \"axes\": {\n",
      "    \"labels\": [\"y\", \"x\", \"c\"]\n"
     ]
    },
    {
     "name": "stderr",
     "output_type": "stream",
     "text": [
      "2023-12-10 21:32:35.716 | INFO     | schema_agents.provider.openai_api:update_cost:101 - Total running cost: $1.248 | Max budget: $10.000 | Current cost: $0.005, prompt_tokens=342, completion_tokens=38\n"
     ]
    },
    {
     "name": "stdout",
     "output_type": "stream",
     "text": [
      "  }\n",
      "}\n",
      "Generating LabeledImage (finished): {\n",
      "  \"shape\": [225, 225, 3],\n",
      "  \"axes\": {\n",
      "    \"labels\": [\"y\", \"x\", \"c\"]\n",
      "  }\n",
      "}\n",
      "Warning: not supported field items\n",
      "Warning: not supported field items\n",
      "Warning: not supported field allOf\n",
      "\n",
      "Generating LabeledImage (start): \n",
      "{\n",
      "  \"shape\": [308, 512, 3],\n",
      "  \"axes\": {\n",
      "    \"labels\": [\"y\", \"x\", \""
     ]
    },
    {
     "name": "stderr",
     "output_type": "stream",
     "text": [
      "2023-12-10 21:32:38.167 | INFO     | schema_agents.provider.openai_api:update_cost:101 - Total running cost: $1.253 | Max budget: $10.000 | Current cost: $0.005, prompt_tokens=342, completion_tokens=38\n"
     ]
    },
    {
     "name": "stdout",
     "output_type": "stream",
     "text": [
      "c\"]\n",
      "  }\n",
      "}\n",
      "Generating LabeledImage (finished): {\n",
      "  \"shape\": [308, 512, 3],\n",
      "  \"axes\": {\n",
      "    \"labels\": [\"y\", \"x\", \"c\"]\n",
      "  }\n",
      "}\n",
      "Warning: not supported field items\n",
      "Warning: not supported field items\n",
      "Warning: not supported field allOf\n",
      "\n",
      "Generating LabeledImage (start): \n",
      "{\n",
      "  \"shape\": [440, 512, 3],\n",
      "  \"axes\": {\n",
      "    \"labels\": [\"y\", \"x\", \"c\"]\n"
     ]
    },
    {
     "name": "stderr",
     "output_type": "stream",
     "text": [
      "2023-12-10 21:32:41.314 | INFO     | schema_agents.provider.openai_api:update_cost:101 - Total running cost: $1.257 | Max budget: $10.000 | Current cost: $0.005, prompt_tokens=342, completion_tokens=38\n"
     ]
    },
    {
     "name": "stdout",
     "output_type": "stream",
     "text": [
      "  }\n",
      "}\n",
      "Generating LabeledImage (finished): {\n",
      "  \"shape\": [440, 512, 3],\n",
      "  \"axes\": {\n",
      "    \"labels\": [\"y\", \"x\", \"c\"]\n",
      "  }\n",
      "}\n",
      "Warning: not supported field items\n",
      "Warning: not supported field items\n",
      "Warning: not supported field allOf\n",
      "\n",
      "Generating LabeledImage (start): \n",
      "{\n",
      "  \"shape\": [385, 512, 3],\n",
      "  \"axes\": {\n",
      "    \"labels\": [\"y\", \"x"
     ]
    },
    {
     "name": "stderr",
     "output_type": "stream",
     "text": [
      "2023-12-10 21:32:43.595 | INFO     | schema_agents.provider.openai_api:update_cost:101 - Total running cost: $1.262 | Max budget: $10.000 | Current cost: $0.005, prompt_tokens=342, completion_tokens=38\n"
     ]
    },
    {
     "name": "stdout",
     "output_type": "stream",
     "text": [
      "\", \"c\"]\n",
      "  }\n",
      "}\n",
      "Generating LabeledImage (finished): {\n",
      "  \"shape\": [385, 512, 3],\n",
      "  \"axes\": {\n",
      "    \"labels\": [\"y\", \"x\", \"c\"]\n",
      "  }\n",
      "}\n",
      "Warning: not supported field items\n",
      "Warning: not supported field items\n",
      "Warning: not supported field allOf\n",
      "\n",
      "Generating LabeledImage (start): \n",
      "{\n",
      "  \"shape\": [383, 512, 3],\n",
      "  \"axes\": {\n",
      "    \"labels\": [\"y\", \"x"
     ]
    },
    {
     "name": "stderr",
     "output_type": "stream",
     "text": [
      "2023-12-10 21:32:45.802 | INFO     | schema_agents.provider.openai_api:update_cost:101 - Total running cost: $1.266 | Max budget: $10.000 | Current cost: $0.005, prompt_tokens=342, completion_tokens=38\n"
     ]
    },
    {
     "name": "stdout",
     "output_type": "stream",
     "text": [
      "\", \"c\"]\n",
      "  }\n",
      "}\n",
      "Generating LabeledImage (finished): {\n",
      "  \"shape\": [383, 512, 3],\n",
      "  \"axes\": {\n",
      "    \"labels\": [\"y\", \"x\", \"c\"]\n",
      "  }\n",
      "}\n",
      "Warning: not supported field items\n",
      "Warning: not supported field items\n",
      "Warning: not supported field allOf\n",
      "\n",
      "Generating LabeledImage (start): \n",
      "{\n",
      "  \"shape\": [250, 360, 3],\n",
      "  \"axes\": {\n",
      "    \"labels\": [\"y\", \"x\", \""
     ]
    },
    {
     "name": "stderr",
     "output_type": "stream",
     "text": [
      "2023-12-10 21:32:48.111 | INFO     | schema_agents.provider.openai_api:update_cost:101 - Total running cost: $1.271 | Max budget: $10.000 | Current cost: $0.005, prompt_tokens=342, completion_tokens=38\n"
     ]
    },
    {
     "name": "stdout",
     "output_type": "stream",
     "text": [
      "c\"]\n",
      "  }\n",
      "}\n",
      "Generating LabeledImage (finished): {\n",
      "  \"shape\": [250, 360, 3],\n",
      "  \"axes\": {\n",
      "    \"labels\": [\"y\", \"x\", \"c\"]\n",
      "  }\n",
      "}\n",
      "Warning: not supported field items\n",
      "Warning: not supported field items\n",
      "Warning: not supported field allOf\n",
      "\n",
      "Generating LabeledImage (start): \n",
      "{\"shape\":[384,512,3],\"axes\":{\"labels\":[\"y\",\"x"
     ]
    },
    {
     "name": "stderr",
     "output_type": "stream",
     "text": [
      "2023-12-10 21:32:49.535 | INFO     | schema_agents.provider.openai_api:update_cost:101 - Total running cost: $1.275 | Max budget: $10.000 | Current cost: $0.004, prompt_tokens=342, completion_tokens=24\n"
     ]
    },
    {
     "name": "stdout",
     "output_type": "stream",
     "text": [
      "\",\"c\"]}}\n",
      "Generating LabeledImage (finished): {\"shape\":[384,512,3],\"axes\":{\"labels\":[\"y\",\"x\",\"c\"]}}\n",
      "Warning: not supported field items\n",
      "Warning: not supported field items\n",
      "Warning: not supported field allOf\n",
      "\n",
      "Generating LabeledImage (start): \n",
      "{\n",
      "  \"shape\": [194, 260, 3],\n",
      "  \"axes\": {\n",
      "    \"labels\": [\"y\", \"x\", \""
     ]
    },
    {
     "name": "stderr",
     "output_type": "stream",
     "text": [
      "2023-12-10 21:32:52.835 | INFO     | schema_agents.provider.openai_api:update_cost:101 - Total running cost: $1.280 | Max budget: $10.000 | Current cost: $0.005, prompt_tokens=342, completion_tokens=38\n"
     ]
    },
    {
     "name": "stdout",
     "output_type": "stream",
     "text": [
      "c\"]\n",
      "  }\n",
      "}\n",
      "Generating LabeledImage (finished): {\n",
      "  \"shape\": [194, 260, 3],\n",
      "  \"axes\": {\n",
      "    \"labels\": [\"y\", \"x\", \"c\"]\n",
      "  }\n",
      "}\n",
      "Warning: not supported field items\n",
      "Warning: not supported field items\n",
      "Warning: not supported field allOf\n",
      "\n",
      "Generating LabeledImage (start): \n",
      "{\n",
      "  \"shape\": [300, 400, 3],\n",
      "  \"axes\": {\n",
      "    \"labels\": [\"y\", \"x"
     ]
    },
    {
     "name": "stderr",
     "output_type": "stream",
     "text": [
      "2023-12-10 21:32:54.953 | INFO     | schema_agents.provider.openai_api:update_cost:101 - Total running cost: $1.284 | Max budget: $10.000 | Current cost: $0.005, prompt_tokens=342, completion_tokens=38\n"
     ]
    },
    {
     "name": "stdout",
     "output_type": "stream",
     "text": [
      "\", \"c\"]\n",
      "  }\n",
      "}\n",
      "Generating LabeledImage (finished): {\n",
      "  \"shape\": [300, 400, 3],\n",
      "  \"axes\": {\n",
      "    \"labels\": [\"y\", \"x\", \"c\"]\n",
      "  }\n",
      "}\n",
      "Warning: not supported field items\n",
      "Warning: not supported field items\n",
      "Warning: not supported field allOf\n",
      "\n",
      "Generating LabeledImage (start): \n",
      "{\n",
      "  \"shape\": [576, 720, 3],\n",
      "  \"axes\": {\n",
      "    \"labels\": [\"y\", \"x\", \""
     ]
    },
    {
     "name": "stderr",
     "output_type": "stream",
     "text": [
      "2023-12-10 21:32:56.836 | INFO     | schema_agents.provider.openai_api:update_cost:101 - Total running cost: $1.289 | Max budget: $10.000 | Current cost: $0.005, prompt_tokens=342, completion_tokens=38\n"
     ]
    },
    {
     "name": "stdout",
     "output_type": "stream",
     "text": [
      "c\"]\n",
      "  }\n",
      "}\n",
      "Generating LabeledImage (finished): {\n",
      "  \"shape\": [576, 720, 3],\n",
      "  \"axes\": {\n",
      "    \"labels\": [\"y\", \"x\", \"c\"]\n",
      "  }\n",
      "}\n",
      "Warning: not supported field items\n",
      "Warning: not supported field items\n",
      "Warning: not supported field allOf\n",
      "\n",
      "Generating LabeledImage (start): \n",
      "{\n",
      "  \"shape\": [288, 512, 3],\n",
      "  \"axes\": {\n",
      "    \"labels\": [\"y\", \"x\", \""
     ]
    },
    {
     "name": "stderr",
     "output_type": "stream",
     "text": [
      "2023-12-10 21:32:59.157 | INFO     | schema_agents.provider.openai_api:update_cost:101 - Total running cost: $1.293 | Max budget: $10.000 | Current cost: $0.005, prompt_tokens=342, completion_tokens=38\n"
     ]
    },
    {
     "name": "stdout",
     "output_type": "stream",
     "text": [
      "c\"]\n",
      "  }\n",
      "}\n",
      "Generating LabeledImage (finished): {\n",
      "  \"shape\": [288, 512, 3],\n",
      "  \"axes\": {\n",
      "    \"labels\": [\"y\", \"x\", \"c\"]\n",
      "  }\n",
      "}\n",
      "Warning: not supported field items\n",
      "Warning: not supported field items\n",
      "Warning: not supported field allOf\n",
      "\n",
      "Generating LabeledImage (start): \n",
      "{\n",
      "  \"shape\": [512, 512, 3],\n",
      "  \"axes\": {\n",
      "    \"labels\": [\"y\", \"x\", \"c\"]\n"
     ]
    },
    {
     "name": "stderr",
     "output_type": "stream",
     "text": [
      "2023-12-10 21:33:02.633 | INFO     | schema_agents.provider.openai_api:update_cost:101 - Total running cost: $1.298 | Max budget: $10.000 | Current cost: $0.005, prompt_tokens=342, completion_tokens=38\n"
     ]
    },
    {
     "name": "stdout",
     "output_type": "stream",
     "text": [
      "  }\n",
      "}\n",
      "Generating LabeledImage (finished): {\n",
      "  \"shape\": [512, 512, 3],\n",
      "  \"axes\": {\n",
      "    \"labels\": [\"y\", \"x\", \"c\"]\n",
      "  }\n",
      "}\n",
      "Warning: not supported field items\n",
      "Warning: not supported field items\n",
      "Warning: not supported field allOf\n",
      "\n",
      "Generating LabeledImage (start): \n",
      "{\n",
      "  \"shape\": [288, 512, 3],\n",
      "  \"axes\": {\n",
      "    \"labels\": [\"y\", \"x"
     ]
    },
    {
     "name": "stderr",
     "output_type": "stream",
     "text": [
      "2023-12-10 21:33:04.875 | INFO     | schema_agents.provider.openai_api:update_cost:101 - Total running cost: $1.303 | Max budget: $10.000 | Current cost: $0.005, prompt_tokens=342, completion_tokens=38\n"
     ]
    },
    {
     "name": "stdout",
     "output_type": "stream",
     "text": [
      "\", \"c\"]\n",
      "  }\n",
      "}\n",
      "Generating LabeledImage (finished): {\n",
      "  \"shape\": [288, 512, 3],\n",
      "  \"axes\": {\n",
      "    \"labels\": [\"y\", \"x\", \"c\"]\n",
      "  }\n",
      "}\n",
      "Warning: not supported field items\n",
      "Warning: not supported field items\n",
      "Warning: not supported field allOf\n",
      "\n",
      "Generating LabeledImage (start): \n",
      "{\n",
      "  \"shape\": [288, 288, 3],\n",
      "  \"axes\": {\n",
      "    \"labels\": [\"y\", \"x\", \"c\"]\n"
     ]
    },
    {
     "name": "stderr",
     "output_type": "stream",
     "text": [
      "2023-12-10 21:33:07.145 | INFO     | schema_agents.provider.openai_api:update_cost:101 - Total running cost: $1.307 | Max budget: $10.000 | Current cost: $0.005, prompt_tokens=342, completion_tokens=38\n"
     ]
    },
    {
     "name": "stdout",
     "output_type": "stream",
     "text": [
      "  }\n",
      "}\n",
      "Generating LabeledImage (finished): {\n",
      "  \"shape\": [288, 288, 3],\n",
      "  \"axes\": {\n",
      "    \"labels\": [\"y\", \"x\", \"c\"]\n",
      "  }\n",
      "}\n",
      "Warning: not supported field items\n",
      "Warning: not supported field items\n",
      "Warning: not supported field allOf\n",
      "\n",
      "Generating LabeledImage (start): \n",
      "{\n",
      "  \"shape\": [408, 512, 3],\n",
      "  \"axes\": {\n",
      "    \"labels\": [\"y\", \"x\", \"c\"]\n"
     ]
    },
    {
     "name": "stderr",
     "output_type": "stream",
     "text": [
      "2023-12-10 21:33:09.097 | INFO     | schema_agents.provider.openai_api:update_cost:101 - Total running cost: $1.312 | Max budget: $10.000 | Current cost: $0.005, prompt_tokens=342, completion_tokens=38\n"
     ]
    },
    {
     "name": "stdout",
     "output_type": "stream",
     "text": [
      "  }\n",
      "}\n",
      "Generating LabeledImage (finished): {\n",
      "  \"shape\": [408, 512, 3],\n",
      "  \"axes\": {\n",
      "    \"labels\": [\"y\", \"x\", \"c\"]\n",
      "  }\n",
      "}\n",
      "Warning: not supported field items\n",
      "Warning: not supported field items\n",
      "Warning: not supported field allOf\n",
      "\n",
      "Generating LabeledImage (start): \n",
      "{\n",
      "  \"shape\": [400, 400, 3],\n",
      "  \"axes\": {\n",
      "    \"labels\": [\"y\", \"x\", \""
     ]
    },
    {
     "name": "stderr",
     "output_type": "stream",
     "text": [
      "2023-12-10 21:33:11.849 | INFO     | schema_agents.provider.openai_api:update_cost:101 - Total running cost: $1.316 | Max budget: $10.000 | Current cost: $0.005, prompt_tokens=342, completion_tokens=38\n"
     ]
    },
    {
     "name": "stdout",
     "output_type": "stream",
     "text": [
      "c\"]\n",
      "  }\n",
      "}\n",
      "Generating LabeledImage (finished): {\n",
      "  \"shape\": [400, 400, 3],\n",
      "  \"axes\": {\n",
      "    \"labels\": [\"y\", \"x\", \"c\"]\n",
      "  }\n",
      "}\n",
      "Warning: not supported field items\n",
      "Warning: not supported field items\n",
      "Warning: not supported field allOf\n",
      "\n",
      "Generating LabeledImage (start): \n",
      "{\n",
      "  \"shape\": [308, 512, 3],\n",
      "  \"axes\": {\n",
      "    \"labels\": [\"y\", \"x\", \"c\"]\n"
     ]
    },
    {
     "name": "stderr",
     "output_type": "stream",
     "text": [
      "2023-12-10 21:33:14.285 | INFO     | schema_agents.provider.openai_api:update_cost:101 - Total running cost: $1.321 | Max budget: $10.000 | Current cost: $0.005, prompt_tokens=342, completion_tokens=38\n"
     ]
    },
    {
     "name": "stdout",
     "output_type": "stream",
     "text": [
      "  }\n",
      "}\n",
      "Generating LabeledImage (finished): {\n",
      "  \"shape\": [308, 512, 3],\n",
      "  \"axes\": {\n",
      "    \"labels\": [\"y\", \"x\", \"c\"]\n",
      "  }\n",
      "}\n",
      "Warning: not supported field items\n",
      "Warning: not supported field items\n",
      "Warning: not supported field allOf\n",
      "\n",
      "Generating LabeledImage (start): \n",
      "{\n",
      "  \"shape\": [376, 400, 3],\n",
      "  \"axes\": {\n",
      "    \"labels\": [\"y\", \"x\", \"c\"]\n"
     ]
    },
    {
     "name": "stderr",
     "output_type": "stream",
     "text": [
      "2023-12-10 21:33:16.708 | INFO     | schema_agents.provider.openai_api:update_cost:101 - Total running cost: $1.325 | Max budget: $10.000 | Current cost: $0.005, prompt_tokens=342, completion_tokens=38\n"
     ]
    },
    {
     "name": "stdout",
     "output_type": "stream",
     "text": [
      "  }\n",
      "}\n",
      "Generating LabeledImage (finished): {\n",
      "  \"shape\": [376, 400, 3],\n",
      "  \"axes\": {\n",
      "    \"labels\": [\"y\", \"x\", \"c\"]\n",
      "  }\n",
      "}\n",
      "Warning: not supported field items\n",
      "Warning: not supported field items\n",
      "Warning: not supported field allOf\n",
      "\n",
      "Generating LabeledImage (start): \n",
      "{\n",
      "  \"shape\": [383, 512, 3],\n",
      "  \"axes\": {\n",
      "    \"labels\": [\"y\", \"x\", \""
     ]
    },
    {
     "name": "stderr",
     "output_type": "stream",
     "text": [
      "2023-12-10 21:33:19.296 | INFO     | schema_agents.provider.openai_api:update_cost:101 - Total running cost: $1.330 | Max budget: $10.000 | Current cost: $0.005, prompt_tokens=342, completion_tokens=38\n"
     ]
    },
    {
     "name": "stdout",
     "output_type": "stream",
     "text": [
      "c\"]\n",
      "  }\n",
      "}\n",
      "Generating LabeledImage (finished): {\n",
      "  \"shape\": [383, 512, 3],\n",
      "  \"axes\": {\n",
      "    \"labels\": [\"y\", \"x\", \"c\"]\n",
      "  }\n",
      "}\n",
      "Warning: not supported field items\n",
      "Warning: not supported field items\n",
      "Warning: not supported field allOf\n",
      "\n",
      "Generating LabeledImage (start): \n",
      "{\n",
      "  \"shape\": [342, 512, 3],\n",
      "  \"axes\": {\n",
      "    \"labels\": [\"y\", \"x\", \"c\"]\n"
     ]
    },
    {
     "name": "stderr",
     "output_type": "stream",
     "text": [
      "2023-12-10 21:33:20.868 | INFO     | schema_agents.provider.openai_api:update_cost:101 - Total running cost: $1.334 | Max budget: $10.000 | Current cost: $0.005, prompt_tokens=342, completion_tokens=38\n"
     ]
    },
    {
     "name": "stdout",
     "output_type": "stream",
     "text": [
      "  }\n",
      "}\n",
      "Generating LabeledImage (finished): {\n",
      "  \"shape\": [342, 512, 3],\n",
      "  \"axes\": {\n",
      "    \"labels\": [\"y\", \"x\", \"c\"]\n",
      "  }\n",
      "}\n",
      "Warning: not supported field items\n",
      "Warning: not supported field items\n",
      "Warning: not supported field allOf\n",
      "\n",
      "Generating LabeledImage (start): \n",
      "{\n",
      "  \"shape\": [360, 480, 3],\n",
      "  \"axes\": {\n",
      "    \"labels\": [\"y\", \"x"
     ]
    },
    {
     "name": "stderr",
     "output_type": "stream",
     "text": [
      "2023-12-10 21:33:22.451 | INFO     | schema_agents.provider.openai_api:update_cost:101 - Total running cost: $1.339 | Max budget: $10.000 | Current cost: $0.005, prompt_tokens=342, completion_tokens=38\n"
     ]
    },
    {
     "name": "stdout",
     "output_type": "stream",
     "text": [
      "\", \"c\"]\n",
      "  }\n",
      "}\n",
      "Generating LabeledImage (finished): {\n",
      "  \"shape\": [360, 480, 3],\n",
      "  \"axes\": {\n",
      "    \"labels\": [\"y\", \"x\", \"c\"]\n",
      "  }\n",
      "}\n",
      "Warning: not supported field items\n",
      "Warning: not supported field items\n",
      "Warning: not supported field allOf\n",
      "\n",
      "Generating LabeledImage (start): \n",
      "{\n",
      "  \"shape\": [384, 512, 3],\n",
      "  \"axes\": {\n",
      "    \"labels\": [\"y\", \"x\", \"c\"]\n"
     ]
    },
    {
     "name": "stderr",
     "output_type": "stream",
     "text": [
      "2023-12-10 21:33:27.059 | INFO     | schema_agents.provider.openai_api:update_cost:101 - Total running cost: $1.344 | Max budget: $10.000 | Current cost: $0.005, prompt_tokens=342, completion_tokens=38\n"
     ]
    },
    {
     "name": "stdout",
     "output_type": "stream",
     "text": [
      "  }\n",
      "}\n",
      "Generating LabeledImage (finished): {\n",
      "  \"shape\": [384, 512, 3],\n",
      "  \"axes\": {\n",
      "    \"labels\": [\"y\", \"x\", \"c\"]\n",
      "  }\n",
      "}\n",
      "Warning: not supported field items\n",
      "Warning: not supported field items\n",
      "Warning: not supported field allOf\n",
      "\n",
      "Generating LabeledImage (start): \n",
      "{\n",
      "  \"shape\": [383, 512, 3],\n",
      "  \"axes\": {\n",
      "    \"labels\": [\"y\", \"x\", \"c\"]\n"
     ]
    },
    {
     "name": "stderr",
     "output_type": "stream",
     "text": [
      "2023-12-10 21:33:29.585 | INFO     | schema_agents.provider.openai_api:update_cost:101 - Total running cost: $1.348 | Max budget: $10.000 | Current cost: $0.005, prompt_tokens=342, completion_tokens=38\n"
     ]
    },
    {
     "name": "stdout",
     "output_type": "stream",
     "text": [
      "  }\n",
      "}\n",
      "Generating LabeledImage (finished): {\n",
      "  \"shape\": [383, 512, 3],\n",
      "  \"axes\": {\n",
      "    \"labels\": [\"y\", \"x\", \"c\"]\n",
      "  }\n",
      "}\n",
      "Warning: not supported field items\n",
      "Warning: not supported field items\n",
      "Warning: not supported field allOf\n",
      "\n",
      "Generating LabeledImage (start): \n",
      "{\"shape\":[512,512,3],\"axes\":{\"labels\":[\"y\",\"x\",\"c"
     ]
    },
    {
     "name": "stderr",
     "output_type": "stream",
     "text": [
      "2023-12-10 21:33:31.083 | INFO     | schema_agents.provider.openai_api:update_cost:101 - Total running cost: $1.352 | Max budget: $10.000 | Current cost: $0.004, prompt_tokens=342, completion_tokens=24\n"
     ]
    },
    {
     "name": "stdout",
     "output_type": "stream",
     "text": [
      "\"]}}\n",
      "Generating LabeledImage (finished): {\"shape\":[512,512,3],\"axes\":{\"labels\":[\"y\",\"x\",\"c\"]}}\n",
      "Warning: not supported field items\n",
      "Warning: not supported field items\n",
      "Warning: not supported field allOf\n",
      "\n",
      "Generating LabeledImage (start): \n",
      "{\n",
      "  \"shape\": [512, 512, 3],\n",
      "  \"axes\": {\n",
      "    \"labels\": [\"y\", \"x"
     ]
    },
    {
     "name": "stderr",
     "output_type": "stream",
     "text": [
      "2023-12-10 21:33:33.178 | INFO     | schema_agents.provider.openai_api:update_cost:101 - Total running cost: $1.357 | Max budget: $10.000 | Current cost: $0.005, prompt_tokens=342, completion_tokens=38\n"
     ]
    },
    {
     "name": "stdout",
     "output_type": "stream",
     "text": [
      "\", \"c\"]\n",
      "  }\n",
      "}\n",
      "Generating LabeledImage (finished): {\n",
      "  \"shape\": [512, 512, 3],\n",
      "  \"axes\": {\n",
      "    \"labels\": [\"y\", \"x\", \"c\"]\n",
      "  }\n",
      "}\n",
      "Warning: not supported field items\n",
      "Warning: not supported field items\n",
      "Warning: not supported field allOf\n",
      "\n",
      "Generating LabeledImage (start): \n",
      "{\n",
      "  \"shape\": [382, 512, 3],\n",
      "  \"axes\": {\n",
      "    \"labels\": [\"y\", \"x\", \""
     ]
    },
    {
     "name": "stderr",
     "output_type": "stream",
     "text": [
      "2023-12-10 21:33:35.056 | INFO     | schema_agents.provider.openai_api:update_cost:101 - Total running cost: $1.361 | Max budget: $10.000 | Current cost: $0.005, prompt_tokens=342, completion_tokens=38\n"
     ]
    },
    {
     "name": "stdout",
     "output_type": "stream",
     "text": [
      "c\"]\n",
      "  }\n",
      "}\n",
      "Generating LabeledImage (finished): {\n",
      "  \"shape\": [382, 512, 3],\n",
      "  \"axes\": {\n",
      "    \"labels\": [\"y\", \"x\", \"c\"]\n",
      "  }\n",
      "}\n",
      "Warning: not supported field items\n",
      "Warning: not supported field items\n",
      "Warning: not supported field allOf\n",
      "\n",
      "Generating LabeledImage (start): \n",
      "{\n",
      "  \"shape\": [292, 512, 3],\n",
      "  \"axes\": {\n",
      "    \"labels\": [\"y\", \"x\", \"c\"]\n"
     ]
    },
    {
     "name": "stderr",
     "output_type": "stream",
     "text": [
      "2023-12-10 21:33:37.563 | INFO     | schema_agents.provider.openai_api:update_cost:101 - Total running cost: $1.366 | Max budget: $10.000 | Current cost: $0.005, prompt_tokens=342, completion_tokens=38\n"
     ]
    },
    {
     "name": "stdout",
     "output_type": "stream",
     "text": [
      "  }\n",
      "}\n",
      "Generating LabeledImage (finished): {\n",
      "  \"shape\": [292, 512, 3],\n",
      "  \"axes\": {\n",
      "    \"labels\": [\"y\", \"x\", \"c\"]\n",
      "  }\n",
      "}\n",
      "Warning: not supported field items\n",
      "Warning: not supported field items\n",
      "Warning: not supported field allOf\n",
      "\n",
      "Generating LabeledImage (start): \n",
      "{\n",
      "  \"shape\": [512, 455, 3],\n",
      "  \"axes\": {\n",
      "    \"labels\": [\"y\", \"x\", \"c\"]\n"
     ]
    },
    {
     "name": "stderr",
     "output_type": "stream",
     "text": [
      "2023-12-10 21:33:39.954 | INFO     | schema_agents.provider.openai_api:update_cost:101 - Total running cost: $1.371 | Max budget: $10.000 | Current cost: $0.005, prompt_tokens=342, completion_tokens=38\n"
     ]
    },
    {
     "name": "stdout",
     "output_type": "stream",
     "text": [
      "  }\n",
      "}\n",
      "Generating LabeledImage (finished): {\n",
      "  \"shape\": [512, 455, 3],\n",
      "  \"axes\": {\n",
      "    \"labels\": [\"y\", \"x\", \"c\"]\n",
      "  }\n",
      "}\n",
      "Warning: not supported field items\n",
      "Warning: not supported field items\n",
      "Warning: not supported field allOf\n",
      "\n",
      "Generating LabeledImage (start): \n",
      "{\n",
      "  \"shape\": [380, 500, 3],\n",
      "  \"axes\": {\n",
      "    \"labels\": [\"y\", \"x\", \"c\"]\n"
     ]
    },
    {
     "name": "stderr",
     "output_type": "stream",
     "text": [
      "2023-12-10 21:33:43.856 | INFO     | schema_agents.provider.openai_api:update_cost:101 - Total running cost: $1.375 | Max budget: $10.000 | Current cost: $0.005, prompt_tokens=342, completion_tokens=38\n"
     ]
    },
    {
     "name": "stdout",
     "output_type": "stream",
     "text": [
      "  }\n",
      "}\n",
      "Generating LabeledImage (finished): {\n",
      "  \"shape\": [380, 500, 3],\n",
      "  \"axes\": {\n",
      "    \"labels\": [\"y\", \"x\", \"c\"]\n",
      "  }\n",
      "}\n",
      "Warning: not supported field items\n",
      "Warning: not supported field items\n",
      "Warning: not supported field allOf\n",
      "\n",
      "Generating LabeledImage (start): \n",
      "{\"shape\":[300,500,3],\"axes\":{\"labels\":[\"y\",\"x\",\"c"
     ]
    },
    {
     "name": "stderr",
     "output_type": "stream",
     "text": [
      "2023-12-10 21:33:44.976 | INFO     | schema_agents.provider.openai_api:update_cost:101 - Total running cost: $1.379 | Max budget: $10.000 | Current cost: $0.004, prompt_tokens=342, completion_tokens=24\n"
     ]
    },
    {
     "name": "stdout",
     "output_type": "stream",
     "text": [
      "\"]}}\n",
      "Generating LabeledImage (finished): {\"shape\":[300,500,3],\"axes\":{\"labels\":[\"y\",\"x\",\"c\"]}}\n",
      "Warning: not supported field items\n",
      "Warning: not supported field items\n",
      "Warning: not supported field allOf\n",
      "\n",
      "Generating LabeledImage (start): \n",
      "{\n",
      "  \"shape\": [194, 259, 3],\n",
      "  \"axes\": {\n",
      "    \"labels\": [\"y\", \"x\", \""
     ]
    },
    {
     "name": "stderr",
     "output_type": "stream",
     "text": [
      "2023-12-10 21:33:48.114 | INFO     | schema_agents.provider.openai_api:update_cost:101 - Total running cost: $1.384 | Max budget: $10.000 | Current cost: $0.005, prompt_tokens=342, completion_tokens=38\n"
     ]
    },
    {
     "name": "stdout",
     "output_type": "stream",
     "text": [
      "c\"]\n",
      "  }\n",
      "}\n",
      "Generating LabeledImage (finished): {\n",
      "  \"shape\": [194, 259, 3],\n",
      "  \"axes\": {\n",
      "    \"labels\": [\"y\", \"x\", \"c\"]\n",
      "  }\n",
      "}\n",
      "Warning: not supported field items\n",
      "Warning: not supported field items\n",
      "Warning: not supported field allOf\n",
      "\n",
      "Generating LabeledImage (start): \n",
      "{\"shape\":[384,512,3],\"axes\":{\"labels\":[\"y"
     ]
    },
    {
     "name": "stderr",
     "output_type": "stream",
     "text": [
      "2023-12-10 21:33:49.592 | INFO     | schema_agents.provider.openai_api:update_cost:101 - Total running cost: $1.388 | Max budget: $10.000 | Current cost: $0.004, prompt_tokens=342, completion_tokens=24\n"
     ]
    },
    {
     "name": "stdout",
     "output_type": "stream",
     "text": [
      "\",\"x\",\"c\"]}}\n",
      "Generating LabeledImage (finished): {\"shape\":[384,512,3],\"axes\":{\"labels\":[\"y\",\"x\",\"c\"]}}\n",
      "Warning: not supported field items\n",
      "Warning: not supported field items\n",
      "Warning: not supported field allOf\n",
      "\n",
      "Generating LabeledImage (start): \n",
      "{\n",
      "  \"shape\": [505, 512, 3],\n",
      "  \"axes\": {\n",
      "    \"labels\": [\"y\", \"x\", \"c\"]\n"
     ]
    },
    {
     "name": "stderr",
     "output_type": "stream",
     "text": [
      "2023-12-10 21:33:51.771 | INFO     | schema_agents.provider.openai_api:update_cost:101 - Total running cost: $1.392 | Max budget: $10.000 | Current cost: $0.005, prompt_tokens=342, completion_tokens=38\n"
     ]
    },
    {
     "name": "stdout",
     "output_type": "stream",
     "text": [
      "  }\n",
      "}\n",
      "Generating LabeledImage (finished): {\n",
      "  \"shape\": [505, 512, 3],\n",
      "  \"axes\": {\n",
      "    \"labels\": [\"y\", \"x\", \"c\"]\n",
      "  }\n",
      "}\n",
      "Warning: not supported field items\n",
      "Warning: not supported field items\n",
      "Warning: not supported field allOf\n",
      "\n",
      "Generating LabeledImage (start): \n",
      "{\"shape\":[512,512,3],\"axes\":{\"labels\":[\"y"
     ]
    },
    {
     "name": "stderr",
     "output_type": "stream",
     "text": [
      "2023-12-10 21:33:53.344 | INFO     | schema_agents.provider.openai_api:update_cost:101 - Total running cost: $1.397 | Max budget: $10.000 | Current cost: $0.004, prompt_tokens=342, completion_tokens=24\n"
     ]
    },
    {
     "name": "stdout",
     "output_type": "stream",
     "text": [
      "\",\"x\",\"c\"]}}\n",
      "Generating LabeledImage (finished): {\"shape\":[512,512,3],\"axes\":{\"labels\":[\"y\",\"x\",\"c\"]}}\n",
      "Warning: not supported field items\n",
      "Warning: not supported field items\n",
      "Warning: not supported field allOf\n",
      "\n",
      "Generating LabeledImage (start): \n",
      "{\n",
      "  \"shape\": [383, 512, 3],\n",
      "  \"axes\": {\n",
      "    \"labels\": [\"y\","
     ]
    },
    {
     "name": "stderr",
     "output_type": "stream",
     "text": [
      "2023-12-10 21:33:55.157 | INFO     | schema_agents.provider.openai_api:update_cost:101 - Total running cost: $1.401 | Max budget: $10.000 | Current cost: $0.005, prompt_tokens=342, completion_tokens=38\n"
     ]
    },
    {
     "name": "stdout",
     "output_type": "stream",
     "text": [
      " \"x\", \"c\"]\n",
      "  }\n",
      "}\n",
      "Generating LabeledImage (finished): {\n",
      "  \"shape\": [383, 512, 3],\n",
      "  \"axes\": {\n",
      "    \"labels\": [\"y\", \"x\", \"c\"]\n",
      "  }\n",
      "}\n",
      "Warning: not supported field items\n",
      "Warning: not supported field items\n",
      "Warning: not supported field allOf\n",
      "\n",
      "Generating LabeledImage (start): \n",
      "{\n",
      "  \"shape\": [364, 512, 3],\n",
      "  \"axes\": {\n",
      "    \"labels\": [\"y\", \"x\", \""
     ]
    },
    {
     "name": "stderr",
     "output_type": "stream",
     "text": [
      "2023-12-10 21:33:56.943 | INFO     | schema_agents.provider.openai_api:update_cost:101 - Total running cost: $1.406 | Max budget: $10.000 | Current cost: $0.005, prompt_tokens=342, completion_tokens=38\n"
     ]
    },
    {
     "name": "stdout",
     "output_type": "stream",
     "text": [
      "c\"]\n",
      "  }\n",
      "}\n",
      "Generating LabeledImage (finished): {\n",
      "  \"shape\": [364, 512, 3],\n",
      "  \"axes\": {\n",
      "    \"labels\": [\"y\", \"x\", \"c\"]\n",
      "  }\n",
      "}\n",
      "Warning: not supported field items\n",
      "Warning: not supported field items\n",
      "Warning: not supported field allOf\n",
      "\n",
      "Generating LabeledImage (start): \n",
      "{\n",
      "  \"shape\": [328, 512, 3],\n",
      "  \"axes\": {\n",
      "    \"labels\": [\"y\", \"x"
     ]
    },
    {
     "name": "stderr",
     "output_type": "stream",
     "text": [
      "2023-12-10 21:33:59.082 | INFO     | schema_agents.provider.openai_api:update_cost:101 - Total running cost: $1.410 | Max budget: $10.000 | Current cost: $0.005, prompt_tokens=342, completion_tokens=38\n"
     ]
    },
    {
     "name": "stdout",
     "output_type": "stream",
     "text": [
      "\", \"c\"]\n",
      "  }\n",
      "}\n",
      "Generating LabeledImage (finished): {\n",
      "  \"shape\": [328, 512, 3],\n",
      "  \"axes\": {\n",
      "    \"labels\": [\"y\", \"x\", \"c\"]\n",
      "  }\n",
      "}\n",
      "Warning: not supported field items\n",
      "Warning: not supported field items\n",
      "Warning: not supported field allOf\n",
      "\n",
      "Generating LabeledImage (start): \n",
      "{\n",
      "  \"shape\": [186, 271, 3],\n",
      "  \"axes\": {\n",
      "    \"labels\": [\"y\", \"x\", \"c\"]\n"
     ]
    },
    {
     "name": "stderr",
     "output_type": "stream",
     "text": [
      "2023-12-10 21:34:01.900 | INFO     | schema_agents.provider.openai_api:update_cost:101 - Total running cost: $1.415 | Max budget: $10.000 | Current cost: $0.005, prompt_tokens=342, completion_tokens=38\n"
     ]
    },
    {
     "name": "stdout",
     "output_type": "stream",
     "text": [
      "  }\n",
      "}\n",
      "Generating LabeledImage (finished): {\n",
      "  \"shape\": [186, 271, 3],\n",
      "  \"axes\": {\n",
      "    \"labels\": [\"y\", \"x\", \"c\"]\n",
      "  }\n",
      "}\n",
      "Warning: not supported field items\n",
      "Warning: not supported field items\n",
      "Warning: not supported field allOf\n",
      "\n",
      "Generating LabeledImage (start): \n",
      "{\n",
      "  \"shape\": [421, 512, 3],\n",
      "  \"axes\": {\n",
      "    \"labels\": [\"y\", \"x\", \""
     ]
    },
    {
     "name": "stderr",
     "output_type": "stream",
     "text": [
      "2023-12-10 21:34:04.293 | INFO     | schema_agents.provider.openai_api:update_cost:101 - Total running cost: $1.419 | Max budget: $10.000 | Current cost: $0.005, prompt_tokens=342, completion_tokens=38\n"
     ]
    },
    {
     "name": "stdout",
     "output_type": "stream",
     "text": [
      "c\"]\n",
      "  }\n",
      "}\n",
      "Generating LabeledImage (finished): {\n",
      "  \"shape\": [421, 512, 3],\n",
      "  \"axes\": {\n",
      "    \"labels\": [\"y\", \"x\", \"c\"]\n",
      "  }\n",
      "}\n",
      "Warning: not supported field items\n",
      "Warning: not supported field items\n",
      "Warning: not supported field allOf\n",
      "\n",
      "Generating LabeledImage (start): \n",
      "{\n",
      "  \"shape\": [340, 512, 3],\n",
      "  \"axes\": {\n",
      "    \"labels\": [\"y\", \"x\", \""
     ]
    },
    {
     "name": "stderr",
     "output_type": "stream",
     "text": [
      "2023-12-10 21:34:06.367 | INFO     | schema_agents.provider.openai_api:update_cost:101 - Total running cost: $1.424 | Max budget: $10.000 | Current cost: $0.005, prompt_tokens=342, completion_tokens=38\n"
     ]
    },
    {
     "name": "stdout",
     "output_type": "stream",
     "text": [
      "c\"]\n",
      "  }\n",
      "}\n",
      "Generating LabeledImage (finished): {\n",
      "  \"shape\": [340, 512, 3],\n",
      "  \"axes\": {\n",
      "    \"labels\": [\"y\", \"x\", \"c\"]\n",
      "  }\n",
      "}\n",
      "Warning: not supported field items\n",
      "Warning: not supported field items\n",
      "Warning: not supported field allOf\n",
      "\n",
      "Generating LabeledImage (start): \n",
      "{\n",
      "  \"shape\": [385, 512, 3],\n",
      "  \"axes\": {\n",
      "    \"labels\": [\"y\", \"x\", \"c\"]\n"
     ]
    },
    {
     "name": "stderr",
     "output_type": "stream",
     "text": [
      "2023-12-10 21:34:08.593 | INFO     | schema_agents.provider.openai_api:update_cost:101 - Total running cost: $1.429 | Max budget: $10.000 | Current cost: $0.005, prompt_tokens=342, completion_tokens=38\n"
     ]
    },
    {
     "name": "stdout",
     "output_type": "stream",
     "text": [
      "  }\n",
      "}\n",
      "Generating LabeledImage (finished): {\n",
      "  \"shape\": [385, 512, 3],\n",
      "  \"axes\": {\n",
      "    \"labels\": [\"y\", \"x\", \"c\"]\n",
      "  }\n",
      "}\n",
      "Warning: not supported field items\n",
      "Warning: not supported field items\n",
      "Warning: not supported field allOf\n",
      "\n",
      "Generating LabeledImage (start): \n",
      "{\n",
      "  \"shape\": [383, 512, 3],\n",
      "  \"axes\": {\n",
      "    \"labels\": [\"y\", \"x\", \""
     ]
    },
    {
     "name": "stderr",
     "output_type": "stream",
     "text": [
      "2023-12-10 21:34:10.294 | INFO     | schema_agents.provider.openai_api:update_cost:101 - Total running cost: $1.433 | Max budget: $10.000 | Current cost: $0.005, prompt_tokens=342, completion_tokens=38\n"
     ]
    },
    {
     "name": "stdout",
     "output_type": "stream",
     "text": [
      "c\"]\n",
      "  }\n",
      "}\n",
      "Generating LabeledImage (finished): {\n",
      "  \"shape\": [383, 512, 3],\n",
      "  \"axes\": {\n",
      "    \"labels\": [\"y\", \"x\", \"c\"]\n",
      "  }\n",
      "}\n",
      "Warning: not supported field items\n",
      "Warning: not supported field items\n",
      "Warning: not supported field allOf\n",
      "\n",
      "Generating LabeledImage (start): \n",
      "{\n",
      "  \"shape\": [512, 512, 3],\n",
      "  \"axes\": {\n",
      "    \"labels\": [\"y\", \"x\", \""
     ]
    },
    {
     "name": "stderr",
     "output_type": "stream",
     "text": [
      "2023-12-10 21:34:13.281 | INFO     | schema_agents.provider.openai_api:update_cost:101 - Total running cost: $1.438 | Max budget: $10.000 | Current cost: $0.005, prompt_tokens=342, completion_tokens=38\n"
     ]
    },
    {
     "name": "stdout",
     "output_type": "stream",
     "text": [
      "c\"]\n",
      "  }\n",
      "}\n",
      "Generating LabeledImage (finished): {\n",
      "  \"shape\": [512, 512, 3],\n",
      "  \"axes\": {\n",
      "    \"labels\": [\"y\", \"x\", \"c\"]\n",
      "  }\n",
      "}\n",
      "Warning: not supported field items\n",
      "Warning: not supported field items\n",
      "Warning: not supported field allOf\n",
      "\n",
      "Generating LabeledImage (start): \n",
      "{\n",
      "  \"shape\": [383, 512, 3],\n",
      "  \"axes\": {\n",
      "    \"labels\": [\"y\", \"x\", \"c\"]\n"
     ]
    },
    {
     "name": "stderr",
     "output_type": "stream",
     "text": [
      "2023-12-10 21:34:15.305 | INFO     | schema_agents.provider.openai_api:update_cost:101 - Total running cost: $1.442 | Max budget: $10.000 | Current cost: $0.005, prompt_tokens=342, completion_tokens=38\n"
     ]
    },
    {
     "name": "stdout",
     "output_type": "stream",
     "text": [
      "  }\n",
      "}\n",
      "Generating LabeledImage (finished): {\n",
      "  \"shape\": [383, 512, 3],\n",
      "  \"axes\": {\n",
      "    \"labels\": [\"y\", \"x\", \"c\"]\n",
      "  }\n",
      "}\n",
      "Warning: not supported field items\n",
      "Warning: not supported field items\n",
      "Warning: not supported field allOf\n",
      "\n",
      "Generating LabeledImage (start): \n",
      "{\"shape\":[384,512,3],\"axes\":{\"labels\":[\"y"
     ]
    },
    {
     "name": "stderr",
     "output_type": "stream",
     "text": [
      "2023-12-10 21:34:16.549 | INFO     | schema_agents.provider.openai_api:update_cost:101 - Total running cost: $1.446 | Max budget: $10.000 | Current cost: $0.004, prompt_tokens=342, completion_tokens=24\n"
     ]
    },
    {
     "name": "stdout",
     "output_type": "stream",
     "text": [
      "\",\"x\",\"c\"]}}\n",
      "Generating LabeledImage (finished): {\"shape\":[384,512,3],\"axes\":{\"labels\":[\"y\",\"x\",\"c\"]}}\n",
      "Warning: not supported field items\n",
      "Warning: not supported field items\n",
      "Warning: not supported field allOf\n",
      "\n",
      "Generating LabeledImage (start): \n",
      "{\n",
      "  \"shape\": [340, 512, 3],\n",
      "  \"axes\": {\n",
      "    \"labels\": [\"y\", \"x\", \""
     ]
    },
    {
     "name": "stderr",
     "output_type": "stream",
     "text": [
      "2023-12-10 21:34:18.515 | INFO     | schema_agents.provider.openai_api:update_cost:101 - Total running cost: $1.451 | Max budget: $10.000 | Current cost: $0.005, prompt_tokens=342, completion_tokens=38\n"
     ]
    },
    {
     "name": "stdout",
     "output_type": "stream",
     "text": [
      "c\"]\n",
      "  }\n",
      "}\n",
      "Generating LabeledImage (finished): {\n",
      "  \"shape\": [340, 512, 3],\n",
      "  \"axes\": {\n",
      "    \"labels\": [\"y\", \"x\", \"c\"]\n",
      "  }\n",
      "}\n",
      "Warning: not supported field items\n",
      "Warning: not supported field items\n",
      "Warning: not supported field allOf\n",
      "\n",
      "Generating LabeledImage (start): \n",
      "{\n",
      "  \"shape\": [383, 512, 3],\n",
      "  \"axes\": {\n",
      "    \"labels\": [\"y\", \"x"
     ]
    },
    {
     "name": "stderr",
     "output_type": "stream",
     "text": [
      "2023-12-10 21:34:20.424 | INFO     | schema_agents.provider.openai_api:update_cost:101 - Total running cost: $1.455 | Max budget: $10.000 | Current cost: $0.005, prompt_tokens=342, completion_tokens=38\n"
     ]
    },
    {
     "name": "stdout",
     "output_type": "stream",
     "text": [
      "\", \"c\"]\n",
      "  }\n",
      "}\n",
      "Generating LabeledImage (finished): {\n",
      "  \"shape\": [383, 512, 3],\n",
      "  \"axes\": {\n",
      "    \"labels\": [\"y\", \"x\", \"c\"]\n",
      "  }\n",
      "}\n",
      "Warning: not supported field items\n",
      "Warning: not supported field items\n",
      "Warning: not supported field allOf\n",
      "\n",
      "Generating LabeledImage (start): \n",
      "{\n",
      "  \"shape\": [383, 512, 3],\n",
      "  \"axes\": {\n",
      "    \"labels\": [\"y\", \"x\", \""
     ]
    },
    {
     "name": "stderr",
     "output_type": "stream",
     "text": [
      "2023-12-10 21:34:22.240 | INFO     | schema_agents.provider.openai_api:update_cost:101 - Total running cost: $1.460 | Max budget: $10.000 | Current cost: $0.005, prompt_tokens=342, completion_tokens=38\n"
     ]
    },
    {
     "name": "stdout",
     "output_type": "stream",
     "text": [
      "c\"]\n",
      "  }\n",
      "}\n",
      "Generating LabeledImage (finished): {\n",
      "  \"shape\": [383, 512, 3],\n",
      "  \"axes\": {\n",
      "    \"labels\": [\"y\", \"x\", \"c\"]\n",
      "  }\n",
      "}\n",
      "Warning: not supported field items\n",
      "Warning: not supported field items\n",
      "Warning: not supported field allOf\n",
      "\n",
      "Generating LabeledImage (start): \n",
      "{\n",
      "  \"shape\": [408, 512, 3],\n",
      "  \"axes\": {\n",
      "    \"labels\": [\"y\", \"x\", \""
     ]
    },
    {
     "name": "stderr",
     "output_type": "stream",
     "text": [
      "2023-12-10 21:34:24.256 | INFO     | schema_agents.provider.openai_api:update_cost:101 - Total running cost: $1.465 | Max budget: $10.000 | Current cost: $0.005, prompt_tokens=342, completion_tokens=38\n"
     ]
    },
    {
     "name": "stdout",
     "output_type": "stream",
     "text": [
      "c\"]\n",
      "  }\n",
      "}\n",
      "Generating LabeledImage (finished): {\n",
      "  \"shape\": [408, 512, 3],\n",
      "  \"axes\": {\n",
      "    \"labels\": [\"y\", \"x\", \"c\"]\n",
      "  }\n",
      "}\n",
      "Warning: not supported field items\n",
      "Warning: not supported field items\n",
      "Warning: not supported field allOf\n",
      "\n",
      "Generating LabeledImage (start): \n",
      "{\n",
      "  \"shape\": [168, 300, 3],\n",
      "  \"axes\": {\n",
      "    \"labels\": [\"y\", \"x\", \"c\"]\n"
     ]
    },
    {
     "name": "stderr",
     "output_type": "stream",
     "text": [
      "2023-12-10 21:34:26.536 | INFO     | schema_agents.provider.openai_api:update_cost:101 - Total running cost: $1.469 | Max budget: $10.000 | Current cost: $0.005, prompt_tokens=342, completion_tokens=38\n"
     ]
    },
    {
     "name": "stdout",
     "output_type": "stream",
     "text": [
      "  }\n",
      "}\n",
      "Generating LabeledImage (finished): {\n",
      "  \"shape\": [168, 300, 3],\n",
      "  \"axes\": {\n",
      "    \"labels\": [\"y\", \"x\", \"c\"]\n",
      "  }\n",
      "}\n",
      "Warning: not supported field items\n",
      "Warning: not supported field items\n",
      "Warning: not supported field allOf\n",
      "\n",
      "Generating LabeledImage (start): \n",
      "{\n",
      "  \"shape\": [268, 380, 3],\n",
      "  \"axes\": {\n",
      "    \"labels\": [\"y\", \"x\", \""
     ]
    },
    {
     "name": "stderr",
     "output_type": "stream",
     "text": [
      "2023-12-10 21:34:28.258 | INFO     | schema_agents.provider.openai_api:update_cost:101 - Total running cost: $1.474 | Max budget: $10.000 | Current cost: $0.005, prompt_tokens=342, completion_tokens=38\n"
     ]
    },
    {
     "name": "stdout",
     "output_type": "stream",
     "text": [
      "c\"]\n",
      "  }\n",
      "}\n",
      "Generating LabeledImage (finished): {\n",
      "  \"shape\": [268, 380, 3],\n",
      "  \"axes\": {\n",
      "    \"labels\": [\"y\", \"x\", \"c\"]\n",
      "  }\n",
      "}\n",
      "Warning: not supported field items\n",
      "Warning: not supported field items\n",
      "Warning: not supported field allOf\n",
      "\n",
      "Generating LabeledImage (start): \n",
      "{\n",
      "  \"shape\": [192, 262, 3],\n",
      "  \"axes\": {\n",
      "    \"labels\": [\"y\", \"x\", \""
     ]
    },
    {
     "name": "stderr",
     "output_type": "stream",
     "text": [
      "2023-12-10 21:34:29.896 | INFO     | schema_agents.provider.openai_api:update_cost:101 - Total running cost: $1.478 | Max budget: $10.000 | Current cost: $0.005, prompt_tokens=342, completion_tokens=38\n"
     ]
    },
    {
     "name": "stdout",
     "output_type": "stream",
     "text": [
      "c\"]\n",
      "  }\n",
      "}\n",
      "Generating LabeledImage (finished): {\n",
      "  \"shape\": [192, 262, 3],\n",
      "  \"axes\": {\n",
      "    \"labels\": [\"y\", \"x\", \"c\"]\n",
      "  }\n",
      "}\n",
      "Warning: not supported field items\n",
      "Warning: not supported field items\n",
      "Warning: not supported field allOf\n",
      "\n",
      "Generating LabeledImage (start): \n",
      "{\n",
      "  \"shape\": [383, 512, 3],\n",
      "  \"axes\": {\n",
      "    \"labels\": [\"y\", \"x\", \"c\"]\n"
     ]
    },
    {
     "name": "stderr",
     "output_type": "stream",
     "text": [
      "2023-12-10 21:34:31.972 | INFO     | schema_agents.provider.openai_api:update_cost:101 - Total running cost: $1.483 | Max budget: $10.000 | Current cost: $0.005, prompt_tokens=342, completion_tokens=38\n"
     ]
    },
    {
     "name": "stdout",
     "output_type": "stream",
     "text": [
      "  }\n",
      "}\n",
      "Generating LabeledImage (finished): {\n",
      "  \"shape\": [383, 512, 3],\n",
      "  \"axes\": {\n",
      "    \"labels\": [\"y\", \"x\", \"c\"]\n",
      "  }\n",
      "}\n",
      "Warning: not supported field items\n",
      "Warning: not supported field items\n",
      "Warning: not supported field allOf\n",
      "\n",
      "Generating LabeledImage (start): \n",
      "{\n",
      "  \"shape\": [384, 512, 3],\n",
      "  \"axes\": {\n",
      "    \"labels\": [\"y\", \"x"
     ]
    },
    {
     "name": "stderr",
     "output_type": "stream",
     "text": [
      "2023-12-10 21:34:33.508 | INFO     | schema_agents.provider.openai_api:update_cost:101 - Total running cost: $1.487 | Max budget: $10.000 | Current cost: $0.005, prompt_tokens=342, completion_tokens=38\n"
     ]
    },
    {
     "name": "stdout",
     "output_type": "stream",
     "text": [
      "\", \"c\"]\n",
      "  }\n",
      "}\n",
      "Generating LabeledImage (finished): {\n",
      "  \"shape\": [384, 512, 3],\n",
      "  \"axes\": {\n",
      "    \"labels\": [\"y\", \"x\", \"c\"]\n",
      "  }\n",
      "}\n",
      "Warning: not supported field items\n",
      "Warning: not supported field items\n",
      "Warning: not supported field allOf\n",
      "\n",
      "Generating LabeledImage (start): \n",
      "\n",
      "Generating LabeledImage (start): \n",
      "\n",
      "Generating LabeledImage (start): \n",
      "\n",
      "Generating LabeledImage (start): \n",
      "\n",
      "Generating LabeledImage (start): \n",
      "\n",
      "Generating LabeledImage (start): \n",
      "{\n",
      " \n",
      "Generating LabeledImage (start): \n",
      "\n",
      "Generating LabeledImage (start): \n",
      "{\n",
      " \n",
      "Generating LabeledImage (start): \n",
      "\n",
      "Generating LabeledImage (start): \n",
      "\n",
      "Generating LabeledImage (start): \n",
      "\n",
      "Generating LabeledImage (start): \n",
      "\n",
      "Generating LabeledImage (start): \n",
      "{\n",
      " \n",
      "Generating LabeledImage (start): \n",
      "{\n",
      " \n",
      "Generating LabeledImage (start): \n",
      " \"shape\n",
      "Generating LabeledImage (start): \n",
      " \"shape{\n",
      " \n",
      "Generating LabeledImage (start): \n",
      "\n",
      "Generating LabeledImage (start): \n",
      "\n",
      "Generating LabeledImage (start): \n",
      "{\n",
      " \n",
      "Generating LabeledImage (start): \n",
      "{\"shape{\n",
      " \n",
      "Generating LabeledImage (start): \n",
      "\n",
      "Generating LabeledImage (start): \n",
      "\n",
      "Generating LabeledImage (start): \n",
      "\n",
      "Generating LabeledImage (start): \n",
      "\n",
      "Generating LabeledImage (start): \n",
      "{\n",
      " {\n",
      " \n",
      "Generating LabeledImage (start): \n",
      "\n",
      "Generating LabeledImage (start): \n",
      " \"shape{\"shape{\n",
      "  \"shape{\n",
      " \n",
      "Generating LabeledImage (start): \n",
      " \"shape\n",
      "Generating LabeledImage (start): \n",
      "\": [{\n",
      " \": [{\n",
      " {\n",
      "  \"shape \"shape{\n",
      " {\n",
      " \":[512 \"shape\n",
      "Generating LabeledImage (start): \n",
      "{\n",
      "  \"shape{\n",
      " {\n",
      " {\n",
      " {\n",
      " \n",
      "Generating LabeledImage (start): \n",
      " \"shape{\n",
      " {\n",
      " {\n",
      " \":[512\": [\": [{\n",
      "  \"shape\n",
      "Generating LabeledImage (start): \n",
      "\": [ \"shape\": [ \"shape512,\n",
      "Generating LabeledImage (start): \n",
      "\": [\": [ \"shape \"shape360,{\n",
      " \": [\": [ \"shape \"shape383,,512 \"shape \"shape\n",
      "Generating LabeledImage (start): \n",
      " \"shape\": [440, \"shape\n",
      "Generating LabeledImage (start): \n",
      " \"shape217,,512{\n",
      " \": [ 512 \"shape \"shape{\"shape383,\": [\": [512, \"shape384,\": [{\n",
      " 225, 480512, \"shape 512\": [\n",
      "Generating LabeledImage (start): \n",
      "\": [ 512\": [\n",
      "Generating LabeledImage (start): \n",
      "\": [ 318,3\": [\": [340,\": [ \"shape,3\n",
      "Generating LabeledImage (start): \n",
      "\": [367,505,186, 512{\n",
      " \":[384\": [383, 225\": [,  512{\n",
      "  \"shape135,, , {\"shape 512576,\": [ 512512,300,3],\n",
      "],\"axes, 380,383, 271288,{\n",
      " \": [,  \"shape{\n",
      " ,512, 512, 324, 342,384, \"shape 5123],\n",
      " 512\": [\":[4003],\n",
      ", 3],\n",
      " 512 512 720  \"288, 500, ],\"axes, \":{\"labels,  4003],\n",
      " \"shape 512 512\n",
      "Generating LabeledImage (start): \n",
      "\":{\"labels3],\n",
      "382,3],\n",
      "\": [ 288 384\": [, ,3  \",  512  \"3],\n",
      " 5123],\n",
      ", ,400axes\":{\n",
      "  \"shape408,  \", 3],\n",
      "3],\n",
      " 512\":[\"y  \" \"shape\": [  \", , , \": [194,, , ,  512308,, \":[\"y  \"  \"3],\n",
      "3],\n",
      "],\"axes3],\n",
      "3],\n",
      "{\n",
      " 192,,3, , 3],\n",
      ",   \" 512axes\":axes\":axes\":, axes\":308,\",\"xaxes\":3],\n",
      "3],\n",
      "\": [ {\n",
      "    2593],\n",
      " 5123],\n",
      "\",\"xaxes\":  \""
     ]
    },
    {
     "name": "stderr",
     "output_type": "stream",
     "text": [
      "2023-12-10 21:34:34.945 | INFO     | schema_agents.provider.openai_api:update_cost:101 - Total running cost: $1.492 | Max budget: $10.000 | Current cost: $0.004, prompt_tokens=342, completion_tokens=24\n",
      "2023-12-10 21:34:34.974 | INFO     | schema_agents.provider.openai_api:update_cost:101 - Total running cost: $1.496 | Max budget: $10.000 | Current cost: $0.004, prompt_tokens=342, completion_tokens=24\n"
     ]
    },
    {
     "name": "stdout",
     "output_type": "stream",
     "text": [
      "  \", 3],\n",
      "\":{\"labels3],\n",
      "  \"],\"axes3],\n",
      "  \" 2623],\n",
      "  \"axes\":, 3],\n",
      " {\n",
      "    {\n",
      "    {\n",
      "    \"shape {\n",
      "   3],\n",
      " 512 \"labels  \"  \"\",\"c, axes\":axes\":  \"  \"axes\":,  {\n",
      "   \",\"c3],\n",
      "axes\": {\n",
      "   340,axes\":  \"\":{\"labels\":[\"yaxes\":  \"\"]}}\n",
      "Generating LabeledImage (finished): {\"shape\":[512,512,3],\"axes\":{\"labels\":[\"y\",\"x\",\"c\"]}}\n",
      "Warning: not supported field items\n",
      "Warning: not supported field items\n",
      "Warning: not supported field allOf\n",
      ",  \"labels \"labels  \"axes\": \"labelsaxes\":3],\n",
      "  \"\": [\" \"labels, \"]}}\n",
      "Generating LabeledImage (finished): {\"shape\":[512,512,3],\"axes\":{\"labels\":[\"y\",\"x\",\"c\"]}}\n",
      "  \"Warning: not supported field items\n",
      "Warning: not supported field items\n",
      "Warning: not supported field allOf\n",
      " {\n",
      "    {\n",
      "     \"3],\n",
      "3],\n",
      "axes\": {\n",
      "   axes\": {\n",
      "    {\n",
      "   3],\n",
      " {\n",
      "   axes\":\": [\"axes\": {\n",
      "   \",\"x {\n",
      "   \": [\"\":[\"y\": [\"y\",  \" \"labelsaxes\": {\n",
      "    512 \"labels\": [\"axes\":  \"axes\":"
     ]
    },
    {
     "name": "stderr",
     "output_type": "stream",
     "text": [
      "2023-12-10 21:34:35.147 | INFO     | schema_agents.provider.openai_api:update_cost:101 - Total running cost: $1.500 | Max budget: $10.000 | Current cost: $0.004, prompt_tokens=342, completion_tokens=24\n",
      "2023-12-10 21:34:35.200 | INFO     | schema_agents.provider.openai_api:update_cost:101 - Total running cost: $1.504 | Max budget: $10.000 | Current cost: $0.004, prompt_tokens=342, completion_tokens=24\n"
     ]
    },
    {
     "name": "stdout",
     "output_type": "stream",
     "text": [
      "3],\n",
      "  \" \"labels  \" \"labels {\n",
      "     \" {\n",
      "    \"labelsy\", \"labelsy\",y\", \"labels\",\"x\": [\" {\n",
      "    \"xaxes\": \"labels\",\"c {\n",
      "   \": [\"  \"axes\": {\n",
      "   y\", {\n",
      "    {\n",
      "   \": [\"\"]}} {\n",
      "   axes\":axes\":axes\": \"x\n",
      "Generating LabeledImage (finished): {\"shape\":[384,512,3],\"axes\":{\"labels\":[\"y\",\"x\",\"c\"]}}\n",
      "Warning: not supported field items\n",
      "Warning: not supported field items\n",
      "Warning: not supported field allOf\n",
      "\": [\"\": [\" \"x \"labels \"labels \"x, \",\"c\", \" \"labels\": [\"y\",\": [\"y\", \"labelsaxes\":\"]}}\n",
      "Generating LabeledImage (finished): {\"shape\":[400,400,3],\"axes\":{\"labels\":[\"y\",\"x\",\"c\"]}}\n",
      "Warning: not supported field items\n",
      "Warning: not supported field items\n",
      "Warning: not supported field allOf\n",
      " {\n",
      "    \"labels {\n",
      "    \"x \"labels \"labels \"labels {\n",
      "    {\n",
      "   \", \"\", \"\": [\"\": [\"y\",\": [c\"]\n",
      "y\",axes\": \"x\": [\"\", \"y\", \"x"
     ]
    },
    {
     "name": "stderr",
     "output_type": "stream",
     "text": [
      "2023-12-10 21:34:35.299 | INFO     | schema_agents.provider.openai_api:update_cost:101 - Total running cost: $1.509 | Max budget: $10.000 | Current cost: $0.005, prompt_tokens=342, completion_tokens=38\n",
      "2023-12-10 21:34:35.382 | INFO     | schema_agents.provider.openai_api:update_cost:101 - Total running cost: $1.513 | Max budget: $10.000 | Current cost: $0.005, prompt_tokens=342, completion_tokens=38\n",
      "2023-12-10 21:34:35.391 | INFO     | schema_agents.provider.openai_api:update_cost:101 - Total running cost: $1.518 | Max budget: $10.000 | Current cost: $0.005, prompt_tokens=342, completion_tokens=38\n",
      "2023-12-10 21:34:35.394 | INFO     | schema_agents.provider.openai_api:update_cost:101 - Total running cost: $1.522 | Max budget: $10.000 | Current cost: $0.005, prompt_tokens=342, completion_tokens=38\n",
      "2023-12-10 21:34:35.452 | INFO     | schema_agents.provider.openai_api:update_cost:101 - Total running cost: $1.527 | Max budget: $10.000 | Current cost: $0.005, prompt_tokens=342, completion_tokens=38\n"
     ]
    },
    {
     "name": "stdout",
     "output_type": "stream",
     "text": [
      "y\",3],\n",
      "\": [\" {\n",
      "   y\", \"labels \"labels \"labelsc\"]\n",
      "c\"]\n",
      "\": [\"\", \"\": [\" \"labels \"labels\": [\"\": [\" \"x \"x  }\n",
      "}\n",
      "Generating LabeledImage (finished): {\n",
      "  \"shape\": [512, 512, 3],\n",
      "  \"axes\": {\n",
      "    \"labels\": [\"y\", \"x\", \"c\"]\n",
      "  }\n",
      "}\n",
      "Warning: not supported field items\n",
      "Warning: not supported field items\n",
      "Warning: not supported field allOf\n",
      "y\",y\", {\n",
      "     \"\", \"c\"]\n",
      "y\",axes\":\", \" \"labels {\n",
      "   \": [\"512,y\",\": [\" \"labels \"x\", \"\": [\"\", \"\": [\"c\"]\n",
      "\": [\" \"xy\",y\", \"labelsy\",  \" \"xc\"]\n",
      " \"xy\",  }\n",
      "}\n",
      "Generating LabeledImage (finished): {\n",
      "  \"shape\": [440, 512, 3],\n",
      "  \"axes\": {\n",
      "    \"labels\": [\"y\", \"x\", \"c\"]\n",
      "  }\n",
      "}\n",
      "Warning: not supported field items\n",
      "Warning: not supported field items\n",
      "Warning: not supported field allOf\n",
      "  }\n",
      "}\n",
      "Generating LabeledImage (finished): {\n",
      "  \"shape\": [217, 318, 3],\n",
      "  \"axes\": {\n",
      "    \"labels\": [\"y\", \"x\", \"c\"]\n",
      "  }\n",
      "}\n",
      "Warning: not supported field items\n",
      "Warning: not supported field items\n",
      "Warning: not supported field allOf\n",
      "  }\n",
      " \"x  \"}\n",
      "Generating LabeledImage (finished): {\n",
      "  \"shape\": [512, 512, 3],\n",
      "  \"axes\": {\n",
      "    \"labels\": [\"y\", \"x\", \"c\"]\n",
      "  }\n",
      "}\n",
      "Warning: not supported field items\n",
      "Warning: not supported field items\n",
      "Warning: not supported field allOf\n",
      " \"xy\",y\",\": [\"c\"]\n",
      "y\",c\"]\n",
      " \"x\", \"c\"]\n",
      "\": [\"y\", \"xaxes\":y\",  }\n",
      "}\n",
      "Generating LabeledImage (finished): {\n",
      "  \"shape\": [383, 512, 3],\n",
      "  \"axes\": {\n",
      "    \"labels\": [\"y\", \"x\", \"c\"]\n",
      "  }\n",
      "}\n",
      "Warning: not supported field items\n",
      "Warning: not supported field items\n",
      "Warning: not supported field allOf\n",
      " \"x \"x \"x\", \"\", \" 512"
     ]
    },
    {
     "name": "stderr",
     "output_type": "stream",
     "text": [
      "2023-12-10 21:34:35.493 | INFO     | schema_agents.provider.openai_api:update_cost:101 - Total running cost: $1.531 | Max budget: $10.000 | Current cost: $0.005, prompt_tokens=342, completion_tokens=38\n",
      "2023-12-10 21:34:35.504 | INFO     | schema_agents.provider.openai_api:update_cost:101 - Total running cost: $1.536 | Max budget: $10.000 | Current cost: $0.005, prompt_tokens=342, completion_tokens=38\n",
      "2023-12-10 21:34:35.609 | INFO     | schema_agents.provider.openai_api:update_cost:101 - Total running cost: $1.540 | Max budget: $10.000 | Current cost: $0.005, prompt_tokens=342, completion_tokens=38\n",
      "2023-12-10 21:34:35.614 | INFO     | schema_agents.provider.openai_api:update_cost:101 - Total running cost: $1.545 | Max budget: $10.000 | Current cost: $0.005, prompt_tokens=342, completion_tokens=38\n",
      "2023-12-10 21:34:35.635 | INFO     | schema_agents.provider.openai_api:update_cost:101 - Total running cost: $1.550 | Max budget: $10.000 | Current cost: $0.005, prompt_tokens=342, completion_tokens=38\n"
     ]
    },
    {
     "name": "stdout",
     "output_type": "stream",
     "text": [
      "\n",
      "Generating LabeledImage (start): \n",
      "\n",
      "Generating LabeledImage (start): \n",
      " \"x\", \"axes\":y\", {\n",
      "   \n",
      "Generating LabeledImage (start): \n",
      "y\",  }\n",
      "}\n",
      "Generating LabeledImage (finished): {\n",
      "  \"shape\": [512, 512, 3],\n",
      "  \"axes\": {\n",
      "    \"labels\": [\"y\", \"x\", \"c\"]\n",
      "  }\n",
      "}\n",
      "\", \"Warning: not supported field items\n",
      "Warning: not supported field items\n",
      "Warning: not supported field allOf\n",
      "\n",
      "Generating LabeledImage (start): \n",
      " \"x\", \"  }\n",
      "}\n",
      "Generating LabeledImage (finished): {\n",
      "  \"shape\": [384, 512, 3],\n",
      "  \"axes\": {\n",
      "    \"labels\": [\"y\", \"x\", \"c\"]\n",
      "  }\n",
      "}\n",
      " \"xWarning: not supported field items\n",
      "Warning: not supported field items\n",
      "Warning: not supported field allOf\n",
      "\n",
      "Generating LabeledImage (start): \n",
      "{\n",
      " \"x\", \"c\"]\n",
      "c\"]\n",
      "\", \" \"labels\", \"\n",
      "Generating LabeledImage (start): \n",
      "\n",
      "Generating LabeledImage (start): \n",
      " \"x\", \"\n",
      "Generating LabeledImage (start): \n",
      " \"x\", \"{\n",
      " \n",
      "Generating LabeledImage (start): \n",
      "\", \"{\n",
      " \n",
      "Generating LabeledImage (start): \n",
      "c\"]\n",
      " \"x\n",
      "Generating LabeledImage (start): \n",
      "\n",
      "Generating LabeledImage (start): \n",
      "{\n",
      " \n",
      "Generating LabeledImage (start): \n",
      "\n",
      "Generating LabeledImage (start): \n",
      "\", \"{\n",
      " \", \"\n",
      "Generating LabeledImage (start): \n",
      "\n",
      "Generating LabeledImage (start): \n",
      "{\n",
      " \", \"  \"\n",
      "Generating LabeledImage (start): \n",
      "c\"]\n",
      "  }\n",
      "}\n",
      "Generating LabeledImage (finished): {\n",
      "  \"shape\": [512, 512, 3],\n",
      "  \"axes\": {\n",
      "    \"labels\": [\"y\", \"x\", \"c\"]\n",
      "  }\n",
      "}\n",
      "Warning: not supported field items\n",
      "Warning: not supported field items\n",
      "Warning: not supported field allOf\n",
      "\n",
      "Generating LabeledImage (start): \n",
      "  }\n",
      "\", \"\", \"\n",
      "Generating LabeledImage (start): \n",
      "\n",
      "Generating LabeledImage (start): \n",
      "}\n",
      "Generating LabeledImage (finished): {\n",
      "  \"shape\": [300, 400, 3],\n",
      "  \"axes\": {\n",
      "    \"labels\": [\"y\", \"x\", \"c\"]\n",
      "  }\n",
      "}\n",
      "Warning: not supported field items\n",
      "Warning: not supported field items\n",
      "Warning: not supported field allOf\n",
      "\n",
      "Generating LabeledImage (start): \n",
      "\n",
      "Generating LabeledImage (start): \n",
      "c\"]\n",
      "c\"]\n",
      "{\"shapec\"]\n",
      "c\"]\n",
      "c\"]\n",
      "{\n",
      " {\n",
      "   }\n",
      "}\n",
      "Generating LabeledImage (finished): {\n",
      "  \"shape\": [288, 288, 3],\n",
      "  \"axes\": {\n",
      "    \"labels\": [\"y\", \"x\", \"c\"]\n",
      "  }\n",
      "}\n",
      "Warning: not supported field items\n",
      "Warning: not supported field items\n",
      "Warning: not supported field allOf\n",
      "\n",
      "Generating LabeledImage (start): \n",
      "\": [\"{\n",
      " \n",
      "Generating LabeledImage (start): \n",
      "{\n",
      " {\n",
      " \n",
      "Generating LabeledImage (start): \n",
      " \"shape\n",
      "Generating LabeledImage (start): \n",
      " \"shape{\n",
      " {\n",
      " \", \"{\n",
      " {\n",
      " , \": [\" \"shape\n",
      "Generating LabeledImage (start): \n",
      "\n",
      "Generating LabeledImage (start): \n",
      " \"shape \"shape{\n",
      " c\"]\n",
      "c\"]\n"
     ]
    },
    {
     "name": "stderr",
     "output_type": "stream",
     "text": [
      "2023-12-10 21:34:35.681 | INFO     | schema_agents.provider.openai_api:update_cost:101 - Total running cost: $1.554 | Max budget: $10.000 | Current cost: $0.005, prompt_tokens=342, completion_tokens=38\n",
      "2023-12-10 21:34:35.699 | INFO     | schema_agents.provider.openai_api:update_cost:101 - Total running cost: $1.559 | Max budget: $10.000 | Current cost: $0.005, prompt_tokens=342, completion_tokens=38\n",
      "2023-12-10 21:34:35.705 | INFO     | schema_agents.provider.openai_api:update_cost:101 - Total running cost: $1.563 | Max budget: $10.000 | Current cost: $0.005, prompt_tokens=342, completion_tokens=38\n",
      "2023-12-10 21:34:35.707 | INFO     | schema_agents.provider.openai_api:update_cost:101 - Total running cost: $1.568 | Max budget: $10.000 | Current cost: $0.005, prompt_tokens=342, completion_tokens=38\n",
      "2023-12-10 21:34:35.713 | INFO     | schema_agents.provider.openai_api:update_cost:101 - Total running cost: $1.572 | Max budget: $10.000 | Current cost: $0.005, prompt_tokens=342, completion_tokens=38\n",
      "2023-12-10 21:34:35.715 | INFO     | schema_agents.provider.openai_api:update_cost:101 - Total running cost: $1.577 | Max budget: $10.000 | Current cost: $0.005, prompt_tokens=342, completion_tokens=38\n",
      "2023-12-10 21:34:35.738 | INFO     | schema_agents.provider.openai_api:update_cost:101 - Total running cost: $1.581 | Max budget: $10.000 | Current cost: $0.005, prompt_tokens=342, completion_tokens=38\n",
      "2023-12-10 21:34:35.743 | INFO     | schema_agents.provider.openai_api:update_cost:101 - Total running cost: $1.586 | Max budget: $10.000 | Current cost: $0.005, prompt_tokens=342, completion_tokens=38\n",
      "2023-12-10 21:34:35.775 | INFO     | schema_agents.provider.openai_api:update_cost:101 - Total running cost: $1.591 | Max budget: $10.000 | Current cost: $0.005, prompt_tokens=342, completion_tokens=38\n",
      "2023-12-10 21:34:35.823 | INFO     | schema_agents.provider.openai_api:update_cost:101 - Total running cost: $1.595 | Max budget: $10.000 | Current cost: $0.005, prompt_tokens=342, completion_tokens=38\n",
      "2023-12-10 21:34:35.857 | INFO     | schema_agents.provider.openai_api:update_cost:101 - Total running cost: $1.600 | Max budget: $10.000 | Current cost: $0.005, prompt_tokens=342, completion_tokens=38\n"
     ]
    },
    {
     "name": "stdout",
     "output_type": "stream",
     "text": [
      "shape\":  }\n",
      "}\n",
      "Generating LabeledImage (finished): {\n",
      "  \"shape\": [383, 512, 3],\n",
      "  \"axes\": {\n",
      "    \"labels\": [\"y\", \"x\", \"c\"]\n",
      "  }\n",
      "}\n",
      "Warning: not supported field items\n",
      "Warning: not supported field items\n",
      "Warning: not supported field allOf\n",
      "\n",
      "Generating LabeledImage (start): \n",
      "c\"]\n",
      " \"labels  }\n",
      "}\n",
      "Generating LabeledImage (finished): {\n",
      "  \"shape\": [512, 384, 3],\n",
      "  \"axes\": {\n",
      "    \"labels\": [\"y\", \"x\", \"c\"]\n",
      "  }\n",
      "}\n",
      "Warning: not supported field items\n",
      "Warning: not supported field items\n",
      "Warning: not supported field allOf\n",
      "  }\n",
      "}\n",
      "Generating LabeledImage (finished): {\n",
      "  \"shape\": [288, 512, 3],\n",
      "  \"axes\": {\n",
      "    \"labels\": [\"y\", \"x\", \"c\"]\n",
      "  }\n",
      "}\n",
      "Warning: not supported field items\n",
      "Warning: not supported field items\n",
      "Warning: not supported field allOf\n",
      "y\",  }\n",
      "}\n",
      "Generating LabeledImage (finished): {\n",
      "  \"shape\": [384, 512, 3],\n",
      "  \"axes\": {\n",
      "    \"labels\": [\"y\", \"x\", \"c\"]\n",
      "  }\n",
      "}\n",
      "Warning: not supported field items\n",
      "Warning: not supported field items\n",
      "Warning: not supported field allOf\n",
      "\":[512  }\n",
      "}\n",
      "Generating LabeledImage (finished): {\n",
      "  \"shape\": [342, 512, 3],\n",
      "  \"axes\": {\n",
      "    \"labels\": [\"y\", \"x\", \"c\"]\n",
      "  }\n",
      "}\n",
      "Warning: not supported field items\n",
      "Warning: not supported field items\n",
      "Warning: not supported field allOf\n",
      "  }\n",
      "}\n",
      "Generating LabeledImage (finished): {\n",
      "  \"shape\": [192, 262, 3],\n",
      "  \"axes\": {\n",
      "    \"labels\": [\"y\", \"x\", \"c\"]\n",
      "  }\n",
      "}\n",
      "c\"]\n",
      "Warning: not supported field items\n",
      "Warning: not supported field items\n",
      "Warning: not supported field allOf\n",
      "{\n",
      "  \"shapey\", \"shape \"shape \"shape\": [ \"shape\": [ \"shape{\n",
      "  \"shape \"shape  }\n",
      "}\n",
      "Generating LabeledImage (finished): {\n",
      "  \"shape\": [382, 512, 3],\n",
      "  \"axes\": {\n",
      "    \"labels\": [\"y\", \"x\", \"c\"]\n",
      "  }\n",
      "}\n",
      "Warning: not supported field items\n",
      "Warning: not supported field items\n",
      "Warning: not supported field allOf\n",
      "{\"shape  }\n",
      " \"shape\": [}\n",
      "Generating LabeledImage (finished): {\n",
      "  \"shape\": [308, 512, 3],\n",
      "  \"axes\": {\n",
      "    \"labels\": [\"y\", \"x\", \"c\"]\n",
      "  }\n",
      "}\n",
      "Warning: not supported field items\n",
      "Warning: not supported field items\n",
      "Warning: not supported field allOf\n",
      "{\n",
      " \": [{\n",
      "  \"shape{\n",
      " \": [ \"x [2503],\n",
      "  }\n",
      "}\n",
      "Generating LabeledImage (finished): {\n",
      "  \"shape\": [408, 512, 3],\n",
      "  \"axes\": {\n",
      "    \"labels\": [\"y\", \"x\", \"c\"]\n",
      "  }\n",
      "}\n",
      "{\n",
      " Warning: not supported field items\n",
      "Warning: not supported field items\n",
      "Warning: not supported field allOf\n",
      "{\n",
      " {\n",
      " {\n",
      "  \"x{\n",
      " ,455\": [{\n",
      "  \"labels\": [c\"]\n",
      "\": [\": [383,\": [384,\": [\": [\": [\": [  }\n",
      "}\n",
      "Generating LabeledImage (finished): {\n",
      "  \"shape\": [308, 512, 3],\n",
      "  \"axes\": {\n",
      "    \"labels\": [\"y\", \"x\", \"c\"]\n",
      "  }\n",
      "}\n",
      "Warning: not supported field items\n",
      "Warning: not supported field items\n",
      "Warning: not supported field allOf\n",
      "{\n",
      " 383,\", \"c\"]\n",
      "\": [c\"]\n",
      "292, {\n",
      "    \"shape\", \"288,,   }\n",
      "}\n",
      "Generating LabeledImage (finished): {\n",
      "  \"shape\": [360, 480, 3],\n",
      "  \"axes\": {\n",
      "    \"labels\": [\"y\", \"x\", \"c\"]\n",
      "  }\n",
      "}\n",
      "Warning: not supported field items\n",
      "Warning: not supported field items\n",
      "Warning: not supported field allOf\n",
      " \"shape \"shape  \",3"
     ]
    },
    {
     "name": "stderr",
     "output_type": "stream",
     "text": [
      "2023-12-10 21:34:35.957 | INFO     | schema_agents.provider.openai_api:update_cost:101 - Total running cost: $1.604 | Max budget: $10.000 | Current cost: $0.005, prompt_tokens=342, completion_tokens=38\n",
      "2023-12-10 21:34:35.964 | INFO     | schema_agents.provider.openai_api:update_cost:101 - Total running cost: $1.609 | Max budget: $10.000 | Current cost: $0.005, prompt_tokens=342, completion_tokens=38\n",
      "2023-12-10 21:34:35.973 | INFO     | schema_agents.provider.openai_api:update_cost:101 - Total running cost: $1.613 | Max budget: $10.000 | Current cost: $0.005, prompt_tokens=342, completion_tokens=38\n",
      "2023-12-10 21:34:36.054 | INFO     | schema_agents.provider.openai_api:update_cost:101 - Total running cost: $1.618 | Max budget: $10.000 | Current cost: $0.005, prompt_tokens=342, completion_tokens=38\n",
      "2023-12-10 21:34:36.080 | INFO     | schema_agents.provider.openai_api:update_cost:101 - Total running cost: $1.623 | Max budget: $10.000 | Current cost: $0.005, prompt_tokens=342, completion_tokens=38\n"
     ]
    },
    {
     "name": "stdout",
     "output_type": "stream",
     "text": [
      "383,c\"]\n",
      "408,168,\":[376385, 512 \"shape 512421, \"shape\": [\"383, \"shape360,364,383, 512 \"shape \"shape 512 \"shapec\"]\n",
      "268, 512 \"shape \"shape360, \"shape  }\n",
      "}\n",
      "Generating LabeledImage (finished): {\n",
      "  \"shape\": [505, 512, 3],\n",
      "  \"axes\": {\n",
      "    \"labels\": [\"y\", \"x\", \"c\"]\n",
      "  }\n",
      "}\n",
      "Warning: not supported field items\n",
      "Warning: not supported field items\n",
      "Warning: not supported field allOf\n",
      "c\"]\n",
      "  }\n",
      "}\n",
      "Generating LabeledImage (finished): {\n",
      "  \"shape\": [194, 259, 3],\n",
      "  \"axes\": {\n",
      "    \"labels\": [\"y\", \"x\", \"c\"]\n",
      "  }\n",
      "}\n",
      "Warning: not supported field items\n",
      "Warning: not supported field items\n",
      "Warning: not supported field allOf\n",
      " 512  }\n",
      "}\n",
      "Generating LabeledImage (finished): {\n",
      "  \"shape\": [367, 324, 3],\n",
      "  \"axes\": {\n",
      "    \"labels\": [\"y\", \"x\", \"c\"]\n",
      "  }\n",
      "}\n",
      "Warning: not supported field items\n",
      "Warning: not supported field items\n",
      "Warning: not supported field allOf\n",
      " 512 512],\"axes\": [ 512,  512,  300 480 512\": [,400 512,  380, \": [\": [,  3\": [ \"labels\": [\": [\": [\": [axes\":  }\n",
      "}\n",
      "Generating LabeledImage (finished): {\n",
      "  \"shape\": [135, 512, 3],\n",
      "  \"axes\": {\n",
      "    \"labels\": [\"y\", \"x\", \"c\"]\n",
      "  }\n",
      "}\n",
      "Warning: not supported field items\n",
      "Warning: not supported field items\n",
      "Warning: not supported field allOf\n",
      "\":{\"labels, \": [, \": [, 3],\n",
      "3],\n",
      ", , , ,   }\n",
      "}\n",
      "Generating LabeledImage (finished): {\n",
      "  \"shape\": [576, 720, 3],\n",
      "  \"axes\": {\n",
      "    \"labels\": [\"y\", \"x\", \"c\"]\n",
      "  }\n",
      "}\n",
      "Warning: not supported field items\n",
      "Warning: not supported field items\n",
      "Warning: not supported field allOf\n",
      ", 3],\n"
     ]
    },
    {
     "name": "stderr",
     "output_type": "stream",
     "text": [
      "2023-12-10 21:34:36.269 | INFO     | schema_agents.provider.openai_api:update_cost:101 - Total running cost: $1.627 | Max budget: $10.000 | Current cost: $0.005, prompt_tokens=342, completion_tokens=38\n"
     ]
    },
    {
     "name": "stdout",
     "output_type": "stream",
     "text": [
      "\": [3],\n",
      ", 384,],\n",
      " \": [\"\":[\"y3],\n",
      "384,3],\n",
      "3],\n",
      "328,383,  \"3],\n",
      "3],\n",
      "  \"194,3],\n",
      ",33],\n",
      "3],\n",
      "  \"  \"3],\n",
      "  \"300,385,383,384, \"axes383, {\n",
      "   3],\n",
      "383,384,\",\"xy\",  \"  \"  \"  \"axes\":  \"\": [\"  \"axes\":  \"  \"axes\":axes\": 512axes\":  \"  }\n",
      "}\n",
      "Generating LabeledImage (finished): {\n",
      "  \"shape\": [383, 512, 3],\n",
      "  \"axes\": {\n",
      "    \"labels\": [\"y\", \"x\", \"c\"]\n",
      "  }\n",
      "}\n",
      "Warning: not supported field items\n",
      "Warning: not supported field items\n",
      "Warning: not supported field allOf\n",
      " 512\": [\"y\",],\"axes 512c\"]\n",
      "\": {\n",
      " 512 260"
     ]
    },
    {
     "name": "stderr",
     "output_type": "stream",
     "text": [
      "2023-12-10 21:34:36.317 | INFO     | schema_agents.provider.openai_api:update_cost:101 - Total running cost: $1.632 | Max budget: $10.000 | Current cost: $0.005, prompt_tokens=342, completion_tokens=38\n",
      "2023-12-10 21:34:36.352 | INFO     | schema_agents.provider.openai_api:update_cost:101 - Total running cost: $1.636 | Max budget: $10.000 | Current cost: $0.004, prompt_tokens=342, completion_tokens=24\n"
     ]
    },
    {
     "name": "stdout",
     "output_type": "stream",
     "text": [
      ",  \"labels\",\"caxes\":  }\n",
      "}\n",
      "Generating LabeledImage (finished): {\n",
      "  \"shape\": [380, 500, 3],\n",
      "  \"axes\": {\n",
      "    \"labels\": [\"y\", \"x\", \"c\"]\n",
      "  }\n",
      "}\n",
      "Warning: not supported field items\n",
      "Warning: not supported field items\n",
      "Warning: not supported field allOf\n",
      " 512axes\": 512axes\": 512 500axes\":y\", {\n",
      "    {\n",
      "   axes\":axes\":3],\n",
      "axes\":y\", 512 512 \"xaxes\": {\n",
      "    \"x {\n",
      "    {\n",
      "   \"]}}\n",
      "Generating LabeledImage (finished): {\"shape\":[512,455,3],\"axes\":{\"labels\":[\"y\",\"x\",\"c\"]}}\n",
      "Warning: not supported field items\n",
      "Warning: not supported field items\n",
      "Warning: not supported field allOf\n",
      "axes\": 512    \"  \" \"xaxes\":,  {\n",
      "    \"x \"labels {\n",
      "    {\n",
      "   , \": [\" {\n",
      "   \":{\"labels {\n",
      "    {\n",
      "    \"labels,  {\n",
      "    {\n",
      "   ,  {\n",
      "    \"labels\", \" \"labels,  {\n",
      "    \"labelslabels\":, , , \", \", , , \", \" \"labels \"labelsc\"]\n",
      " \"labels \"labels\": [\",  \"labels\": [\" \"labels \"labels \"labels \"labels"
     ]
    },
    {
     "name": "stderr",
     "output_type": "stream",
     "text": [
      "2023-12-10 21:34:36.566 | INFO     | schema_agents.provider.openai_api:update_cost:101 - Total running cost: $1.640 | Max budget: $10.000 | Current cost: $0.005, prompt_tokens=342, completion_tokens=38\n",
      "2023-12-10 21:34:36.602 | INFO     | schema_agents.provider.openai_api:update_cost:101 - Total running cost: $1.645 | Max budget: $10.000 | Current cost: $0.005, prompt_tokens=342, completion_tokens=38\n",
      "2023-12-10 21:34:36.620 | INFO     | schema_agents.provider.openai_api:update_cost:101 - Total running cost: $1.649 | Max budget: $10.000 | Current cost: $0.005, prompt_tokens=342, completion_tokens=38\n"
     ]
    },
    {
     "name": "stdout",
     "output_type": "stream",
     "text": [
      "\": [\"y\",\": [\"\", \" \"labels\": [\" [\"yc\"]\n",
      "3],\n",
      "3],\n",
      "\":[\"y3],\n",
      "c\"]\n",
      "3],\n",
      "3],\n",
      "  }\n",
      "}\n",
      "Generating LabeledImage (finished): {\n",
      "  \"shape\": [225, 225, 3],\n",
      "  \"axes\": {\n",
      "    \"labels\": [\"y\", \"x\", \"c\"]\n",
      "  }\n",
      "}\n",
      "Warning: not supported field items\n",
      "Warning: not supported field items\n",
      "Warning: not supported field allOf\n",
      "\": [\"\": [\"\": [\"\": [\"y\",\": [\"y\",\": [\"\": [\"3],\n",
      "\": [\"3],\n",
      "\": [\"3],\n",
      "3],\n",
      "y\",  }\n",
      "}\n",
      "Generating LabeledImage (finished): {\n",
      "  \"shape\": [340, 512, 3],\n",
      "  \"axes\": {\n",
      "    \"labels\": [\"y\", \"x\", \"c\"]\n",
      "  }\n",
      "}\n",
      "Warning: not supported field items\n",
      "Warning: not supported field items\n",
      "Warning: not supported field allOf\n",
      "3],\n",
      "y\",\": [\"y\",3],\n",
      "\", \"  }\n",
      "}\n",
      "Generating LabeledImage (finished): {\n",
      "  \"shape\": [186, 271, 3],\n",
      "  \"axes\": {\n",
      "    \"labels\": [\"y\", \"x\", \"c\"]\n",
      "  }\n",
      "}\n",
      " \"xWarning: not supported field items\n",
      "Warning: not supported field items\n",
      "Warning: not supported field allOf\n",
      "3],\n",
      "y\",y\",y\",y\", \"xy\",  \" \"xy\",y\",y\",y\", \"x  \" \"x\",\"xy\", \"x  \"  \"x\",  \""
     ]
    },
    {
     "name": "stderr",
     "output_type": "stream",
     "text": [
      "2023-12-10 21:34:36.886 | INFO     | schema_agents.provider.openai_api:update_cost:101 - Total running cost: $1.654 | Max budget: $10.000 | Current cost: $0.004, prompt_tokens=342, completion_tokens=24\n",
      "2023-12-10 21:34:36.917 | INFO     | schema_agents.provider.openai_api:update_cost:101 - Total running cost: $1.658 | Max budget: $10.000 | Current cost: $0.005, prompt_tokens=342, completion_tokens=38\n",
      "2023-12-10 21:34:36.919 | INFO     | schema_agents.provider.openai_api:update_cost:101 - Total running cost: $1.663 | Max budget: $10.000 | Current cost: $0.005, prompt_tokens=342, completion_tokens=38\n",
      "2023-12-10 21:34:36.922 | INFO     | schema_agents.provider.openai_api:update_cost:101 - Total running cost: $1.667 | Max budget: $10.000 | Current cost: $0.005, prompt_tokens=342, completion_tokens=38\n"
     ]
    },
    {
     "name": "stdout",
     "output_type": "stream",
     "text": [
      "  \"  \"\", \"  \"  \" \"x \"x  \" \"x \"x \"x  \" \"x\", \" \"x \"x \"x\", \"\", \" \"x  \"\", \"\", \"axes\":\", \"\",\"c \"caxes\":\", \"\", \"c\"]\n",
      "axes\":\", \"\", \"c\"]\n",
      "\", \"\", \"\", \"axes\":c\"]\n",
      "\", \"c\"]\n",
      "\", \"c\"]\n",
      "\"]\n",
      " axes\":axes\":axes\":axes\":axes\":axes\":\"]}}\n",
      "Generating LabeledImage (finished): {\"shape\":[376,400,3],\"axes\":{\"labels\":[\"y\",\"x\",\"c\"]}}\n",
      "Warning: not supported field items\n",
      "Warning: not supported field items\n",
      "Warning: not supported field allOf\n",
      "axes\":c\"]\n",
      "c\"]\n",
      "c\"]\n",
      "  }\n",
      "}\n",
      "Generating LabeledImage (finished): {\n",
      "  \"shape\": [383, 512, 3],\n",
      "  \"axes\": {\n",
      "    \"labels\": [\"y\", \"x\", \"c\"]\n",
      "  }\n",
      "}\n",
      "c\"]\n",
      "Warning: not supported field items\n",
      "Warning: not supported field items\n",
      "Warning: not supported field allOf\n",
      "c\"]\n",
      " }\n",
      "}\n",
      "Generating LabeledImage (finished): {\n",
      "  \"shape\": [250, 360, 3],\n",
      "  \"axes\": {\n",
      "    \"labels\": [\"y\", \"x\", \"c\"]\n",
      "  }\n",
      "}\n",
      "Warning: not supported field items\n",
      "Warning: not supported field items\n",
      "Warning: not supported field allOf\n",
      "  }\n",
      "}\n",
      "Generating LabeledImage (finished): {\n",
      "  \"shape\": [384, 512, 3],\n",
      "  \"axes\": {\n",
      "    \"labels\": [\"y\", \"x\", \"c\"]\n",
      "  }\n",
      "}\n",
      "Warning: not supported field items\n",
      "Warning: not supported field items\n",
      "Warning: not supported field allOf\n",
      "c\"]\n"
     ]
    },
    {
     "name": "stderr",
     "output_type": "stream",
     "text": [
      "2023-12-10 21:34:36.934 | INFO     | schema_agents.provider.openai_api:update_cost:101 - Total running cost: $1.672 | Max budget: $10.000 | Current cost: $0.005, prompt_tokens=342, completion_tokens=38\n",
      "2023-12-10 21:34:36.942 | INFO     | schema_agents.provider.openai_api:update_cost:101 - Total running cost: $1.676 | Max budget: $10.000 | Current cost: $0.005, prompt_tokens=342, completion_tokens=38\n",
      "2023-12-10 21:34:36.949 | INFO     | schema_agents.provider.openai_api:update_cost:101 - Total running cost: $1.681 | Max budget: $10.000 | Current cost: $0.005, prompt_tokens=342, completion_tokens=38\n",
      "2023-12-10 21:34:36.984 | INFO     | schema_agents.provider.openai_api:update_cost:101 - Total running cost: $1.686 | Max budget: $10.000 | Current cost: $0.005, prompt_tokens=342, completion_tokens=38\n",
      "2023-12-10 21:34:36.989 | INFO     | schema_agents.provider.openai_api:update_cost:101 - Total running cost: $1.690 | Max budget: $10.000 | Current cost: $0.005, prompt_tokens=342, completion_tokens=38\n",
      "2023-12-10 21:34:36.998 | INFO     | schema_agents.provider.openai_api:update_cost:101 - Total running cost: $1.695 | Max budget: $10.000 | Current cost: $0.005, prompt_tokens=342, completion_tokens=38\n"
     ]
    },
    {
     "name": "stdout",
     "output_type": "stream",
     "text": [
      "c\"]\n",
      "c\"]\n",
      "c\"]\n",
      "  }\n",
      "}\n",
      "Generating LabeledImage (finished): {\n",
      "  \"shape\": [383, 512, 3],\n",
      "  \"axes\": {\n",
      "    \"labels\": [\"y\", \"x\", \"c\"]\n",
      "  }\n",
      "}\n",
      "Warning: not supported field items\n",
      "Warning: not supported field items\n",
      "Warning: not supported field allOf\n",
      "  }\n",
      "}\n",
      "Generating LabeledImage (finished): {\n",
      "  \"shape\": [383, 512, 3],\n",
      "  \"axes\": {\n",
      "    \"labels\": [\"y\", \"x\", \"c\"]\n",
      "  }\n",
      "}\n",
      "Warning: not supported field items\n",
      "Warning: not supported field items\n",
      "Warning: not supported field allOf\n",
      "c\"]\n",
      "  }\n",
      "}\n",
      "Generating LabeledImage (finished): {\n",
      "  \"shape\": [288, 512, 3],\n",
      "  \"axes\": {\n",
      "    \"labels\": [\"y\", \"x\", \"c\"]\n",
      "  }\n",
      "}\n",
      "Warning: not supported field items\n",
      "Warning: not supported field items\n",
      "Warning: not supported field allOf\n",
      " {\n",
      "    {\n",
      "    {\n",
      "    {\n",
      "     }\n",
      "}\n",
      "Generating LabeledImage (finished): {\n",
      "  \"shape\": [383, 512, 3],\n",
      "  \"axes\": {\n",
      "    \"labels\": [\"y\", \"x\", \"c\"]\n",
      "  }\n",
      "}\n",
      "Warning: not supported field items\n",
      "Warning: not supported field items\n",
      "Warning: not supported field allOf\n",
      "  }\n",
      "}\n",
      "Generating LabeledImage (finished): {\n",
      "  \"shape\": [408, 512, 3],\n",
      "  \"axes\": {\n",
      "    \"labels\": [\"y\", \"x\", \"c\"]\n",
      "  }\n",
      "}\n",
      "Warning: not supported field items\n",
      "Warning: not supported field items\n",
      "Warning: not supported field allOf\n",
      " {\n",
      "     }\n",
      "}\n",
      "Generating LabeledImage (finished): {\n",
      "  \"shape\": [512, 512, 3],\n",
      "  \"axes\": {\n",
      "    \"labels\": [\"y\", \"x\", \"c\"]\n",
      "  }\n",
      "}\n",
      " {\n",
      "    {\n",
      "   Warning: not supported field items\n",
      "Warning: not supported field items\n",
      "Warning: not supported field allOf\n",
      " {\n",
      "    {\n",
      "    {\n",
      "    {\n",
      "    \"labels \"labels \"labels \"labels"
     ]
    },
    {
     "name": "stderr",
     "output_type": "stream",
     "text": [
      "2023-12-10 21:34:37.146 | INFO     | schema_agents.provider.openai_api:update_cost:101 - Total running cost: $1.699 | Max budget: $10.000 | Current cost: $0.005, prompt_tokens=342, completion_tokens=38\n",
      "2023-12-10 21:34:37.148 | INFO     | schema_agents.provider.openai_api:update_cost:101 - Total running cost: $1.704 | Max budget: $10.000 | Current cost: $0.005, prompt_tokens=342, completion_tokens=38\n",
      "2023-12-10 21:34:37.152 | INFO     | schema_agents.provider.openai_api:update_cost:101 - Total running cost: $1.708 | Max budget: $10.000 | Current cost: $0.005, prompt_tokens=342, completion_tokens=38\n",
      "2023-12-10 21:34:37.157 | INFO     | schema_agents.provider.openai_api:update_cost:101 - Total running cost: $1.713 | Max budget: $10.000 | Current cost: $0.005, prompt_tokens=342, completion_tokens=38\n",
      "2023-12-10 21:34:37.158 | INFO     | schema_agents.provider.openai_api:update_cost:101 - Total running cost: $1.717 | Max budget: $10.000 | Current cost: $0.005, prompt_tokens=342, completion_tokens=38\n",
      "2023-12-10 21:34:37.161 | INFO     | schema_agents.provider.openai_api:update_cost:101 - Total running cost: $1.722 | Max budget: $10.000 | Current cost: $0.005, prompt_tokens=342, completion_tokens=38\n",
      "2023-12-10 21:34:37.164 | INFO     | schema_agents.provider.openai_api:update_cost:101 - Total running cost: $1.727 | Max budget: $10.000 | Current cost: $0.005, prompt_tokens=342, completion_tokens=38\n",
      "2023-12-10 21:34:37.169 | INFO     | schema_agents.provider.openai_api:update_cost:101 - Total running cost: $1.731 | Max budget: $10.000 | Current cost: $0.005, prompt_tokens=342, completion_tokens=38\n",
      "2023-12-10 21:34:37.206 | INFO     | schema_agents.provider.openai_api:update_cost:101 - Total running cost: $1.736 | Max budget: $10.000 | Current cost: $0.005, prompt_tokens=342, completion_tokens=38\n"
     ]
    },
    {
     "name": "stdout",
     "output_type": "stream",
     "text": [
      " \"labels \"labels \"labels \"labels  }\n",
      "}\n",
      "Generating LabeledImage (finished): {\n",
      "  \"shape\": [385, 512, 3],\n",
      "  \"axes\": {\n",
      "    \"labels\": [\"y\", \"x\", \"c\"]\n",
      "  }\n",
      "}\n",
      " \"labelsWarning: not supported field items\n",
      "Warning: not supported field items\n",
      "Warning: not supported field allOf\n",
      "  }\n",
      "}\n",
      "Generating LabeledImage (finished): {\n",
      "  \"shape\": [168, 300, 3],\n",
      "  \"axes\": {\n",
      "    \"labels\": [\"y\", \"x\", \"c\"]\n",
      "  }\n",
      "}\n",
      "Warning: not supported field items\n",
      "Warning: not supported field items\n",
      "Warning: not supported field allOf\n",
      "  }\n",
      "}\n",
      "Generating LabeledImage (finished): {\n",
      "  \"shape\": [383, 512, 3],\n",
      "  \"axes\": {\n",
      "    \"labels\": [\"y\", \"x\", \"c\"]\n",
      "  }\n",
      "}\n",
      "Warning: not supported field items\n",
      "Warning: not supported field items\n",
      "Warning: not supported field allOf\n",
      " \"labels  }\n",
      "}\n",
      "Generating LabeledImage (finished): {\n",
      "  \"shape\": [421, 512, 3],\n",
      "  \"axes\": {\n",
      "    \"labels\": [\"y\", \"x\", \"c\"]\n",
      "  }\n",
      "}\n",
      "  }\n",
      "}\n",
      "Generating LabeledImage (finished): {\n",
      "  \"shape\": [360, 480, 3],\n",
      "  \"axes\": {\n",
      "    \"labels\": [\"y\", \"x\", \"c\"]\n",
      "  }\n",
      "}\n",
      "Warning: not supported field items\n",
      "Warning: not supported field items\n",
      "Warning: not supported field allOf\n",
      "Warning: not supported field items\n",
      "Warning: not supported field items\n",
      "Warning: not supported field allOf\n",
      "  }\n",
      "}\n",
      "Generating LabeledImage (finished): {\n",
      "  \"shape\": [383, 512, 3],\n",
      "  \"axes\": {\n",
      "    \"labels\": [\"y\", \"x\", \"c\"]\n",
      "  }\n",
      "}\n",
      "Warning: not supported field items\n",
      "Warning: not supported field items\n",
      "Warning: not supported field allOf\n",
      "  }\n",
      "}\n",
      "Generating LabeledImage (finished): {\n",
      "  \"shape\": [364, 512, 3],\n",
      "  \"axes\": {\n",
      "    \"labels\": [\"y\", \"x\", \"c\"]\n",
      "  }\n",
      "}\n",
      "Warning: not supported field items\n",
      "Warning: not supported field items\n",
      "Warning: not supported field allOf\n",
      "  }\n",
      "}\n",
      "Generating LabeledImage (finished): {\n",
      "  \"shape\": [268, 380, 3],\n",
      "  \"axes\": {\n",
      "    \"labels\": [\"y\", \"x\", \"c\"]\n",
      "  }\n",
      "}\n",
      "Warning: not supported field items\n",
      "Warning: not supported field items\n",
      "Warning: not supported field allOf\n",
      " \"labelsc\"]\n",
      "  }\n",
      "}\n",
      "Generating LabeledImage (finished): {\n",
      "  \"shape\": [292, 512, 3],\n",
      "  \"axes\": {\n",
      "    \"labels\": [\"y\", \"x\", \"c\"]\n",
      "  }\n",
      "}\n",
      "Warning: not supported field items\n",
      "Warning: not supported field items\n",
      "Warning: not supported field allOf\n",
      "\": [\"\": [\"\": [\"\": [\"\": [\"\": [\"\": [\"\": [\"\": [\"\": [\"\": [\"c\"]\n",
      "y\",y\",y\",y\",y\",y\",y\",y\",y\",y\",y\", \"x \"x \"x \"xaxes\": \"x \"x \"x"
     ]
    },
    {
     "name": "stderr",
     "output_type": "stream",
     "text": [
      "2023-12-10 21:34:37.651 | INFO     | schema_agents.provider.openai_api:update_cost:101 - Total running cost: $1.740 | Max budget: $10.000 | Current cost: $0.005, prompt_tokens=342, completion_tokens=38\n"
     ]
    },
    {
     "name": "stdout",
     "output_type": "stream",
     "text": [
      " {\n",
      "    \"x \"x \"x \"labels\": [\"y\", \"x\", \"\", \"\", \"\", \"  }\n",
      "}\n",
      "Generating LabeledImage (finished): {\n",
      "  \"shape\": [340, 512, 3],\n",
      "  \"axes\": {\n",
      "    \"labels\": [\"y\", \"x\", \"c\"]\n",
      "  }\n",
      "}\n",
      "\", \"Warning: not supported field items\n",
      "Warning: not supported field items\n",
      "Warning: not supported field allOf\n",
      "\", \"\", \"\", \"\", \"\", \"\", \"c\"]\n"
     ]
    },
    {
     "name": "stderr",
     "output_type": "stream",
     "text": [
      "2023-12-10 21:34:37.889 | INFO     | schema_agents.provider.openai_api:update_cost:101 - Total running cost: $1.745 | Max budget: $10.000 | Current cost: $0.005, prompt_tokens=342, completion_tokens=38\n",
      "2023-12-10 21:34:37.893 | INFO     | schema_agents.provider.openai_api:update_cost:101 - Total running cost: $1.749 | Max budget: $10.000 | Current cost: $0.005, prompt_tokens=342, completion_tokens=38\n",
      "2023-12-10 21:34:37.897 | INFO     | schema_agents.provider.openai_api:update_cost:101 - Total running cost: $1.754 | Max budget: $10.000 | Current cost: $0.005, prompt_tokens=342, completion_tokens=38\n",
      "2023-12-10 21:34:37.900 | INFO     | schema_agents.provider.openai_api:update_cost:101 - Total running cost: $1.758 | Max budget: $10.000 | Current cost: $0.005, prompt_tokens=342, completion_tokens=38\n",
      "2023-12-10 21:34:37.905 | INFO     | schema_agents.provider.openai_api:update_cost:101 - Total running cost: $1.763 | Max budget: $10.000 | Current cost: $0.005, prompt_tokens=342, completion_tokens=38\n",
      "2023-12-10 21:34:37.938 | INFO     | schema_agents.provider.openai_api:update_cost:101 - Total running cost: $1.768 | Max budget: $10.000 | Current cost: $0.005, prompt_tokens=342, completion_tokens=38\n",
      "2023-12-10 21:34:37.940 | INFO     | schema_agents.provider.openai_api:update_cost:101 - Total running cost: $1.772 | Max budget: $10.000 | Current cost: $0.005, prompt_tokens=342, completion_tokens=38\n",
      "2023-12-10 21:34:37.942 | INFO     | schema_agents.provider.openai_api:update_cost:101 - Total running cost: $1.777 | Max budget: $10.000 | Current cost: $0.005, prompt_tokens=342, completion_tokens=38\n",
      "2023-12-10 21:34:37.953 | INFO     | schema_agents.provider.openai_api:update_cost:101 - Total running cost: $1.781 | Max budget: $10.000 | Current cost: $0.005, prompt_tokens=342, completion_tokens=38\n",
      "2023-12-10 21:34:37.956 | INFO     | schema_agents.provider.openai_api:update_cost:101 - Total running cost: $1.786 | Max budget: $10.000 | Current cost: $0.005, prompt_tokens=342, completion_tokens=38\n"
     ]
    },
    {
     "name": "stdout",
     "output_type": "stream",
     "text": [
      "c\"]\n",
      "c\"]\n",
      "c\"]\n",
      "c\"]\n",
      "c\"]\n",
      "c\"]\n",
      "c\"]\n",
      "c\"]\n",
      "c\"]\n",
      "c\"]\n",
      "  }\n",
      "}\n",
      "Generating LabeledImage (finished): {\n",
      "  \"shape\": [384, 512, 3],\n",
      "  \"axes\": {\n",
      "    \"labels\": [\"y\", \"x\", \"c\"]\n",
      "  }\n",
      "}\n",
      "Warning: not supported field items\n",
      "Warning: not supported field items\n",
      "Warning: not supported field allOf\n",
      "  }\n",
      "}\n",
      "Generating LabeledImage (finished): {\n",
      "  \"shape\": [384, 512, 3],\n",
      "  \"axes\": {\n",
      "    \"labels\": [\"y\", \"x\", \"c\"]\n",
      "  }\n",
      "}\n",
      "Warning: not supported field items\n",
      "Warning: not supported field items\n",
      "Warning: not supported field allOf\n",
      "  }\n",
      "}\n",
      "Generating LabeledImage (finished): {\n",
      "  \"shape\": [328, 512, 3],\n",
      "  \"axes\": {\n",
      "    \"labels\": [\"y\", \"x\", \"c\"]\n",
      "  }\n",
      "}\n",
      "Warning: not supported field items\n",
      "Warning: not supported field items\n",
      "Warning: not supported field allOf\n",
      "  }\n",
      "}\n",
      "Generating LabeledImage (finished): {\n",
      "  \"shape\": [383, 512, 3],\n",
      "  \"axes\": {\n",
      "    \"labels\": [\"y\", \"x\", \"c\"]\n",
      "  }\n",
      "}\n",
      "Warning: not supported field items\n",
      "Warning: not supported field items\n",
      "Warning: not supported field allOf\n",
      "  }\n",
      "}\n",
      "Generating LabeledImage (finished): {\n",
      "  \"shape\": [194, 260, 3],\n",
      "  \"axes\": {\n",
      "    \"labels\": [\"y\", \"x\", \"c\"]\n",
      "  }\n",
      "}\n",
      "Warning: not supported field items\n",
      "Warning: not supported field items\n",
      "Warning: not supported field allOf\n",
      "  }\n",
      "}\n",
      "Generating LabeledImage (finished): {\n",
      "  \"shape\": [385, 512, 3],\n",
      "  \"axes\": {\n",
      "    \"labels\": [\"y\", \"x\", \"c\"]\n",
      "  }\n",
      "}\n",
      "  }\n",
      "}\n",
      "Generating LabeledImage (finished): {\n",
      "  \"shape\": [384, 512, 3],\n",
      "  \"axes\": {\n",
      "    \"labels\": [\"y\", \"x\", \"c\"]\n",
      "  }\n",
      "}\n",
      "Warning: not supported field items\n",
      "Warning: not supported field items\n",
      "Warning: not supported field allOf\n",
      "  }\n",
      "}\n",
      "Generating LabeledImage (finished): {\n",
      "  \"shape\": [383, 512, 3],\n",
      "  \"axes\": {\n",
      "    \"labels\": [\"y\", \"x\", \"c\"]\n",
      "  }\n",
      "}\n",
      "Warning: not supported field items\n",
      "Warning: not supported field items\n",
      "Warning: not supported field allOf\n",
      "Warning: not supported field items\n",
      "Warning: not supported field items\n",
      "Warning: not supported field allOf\n",
      " \"x  }\n",
      "}\n",
      "Generating LabeledImage (finished): {\n",
      "  \"shape\": [383, 512, 3],\n",
      "  \"axes\": {\n",
      "    \"labels\": [\"y\", \"x\", \"c\"]\n",
      "  }\n",
      "}\n",
      "Warning: not supported field items\n",
      "Warning: not supported field items\n",
      "Warning: not supported field allOf\n",
      "  }\n",
      "}\n",
      "Generating LabeledImage (finished): {\n",
      "  \"shape\": [383, 512, 3],\n",
      "  \"axes\": {\n",
      "    \"labels\": [\"y\", \"x\", \"c\"]\n",
      "  }\n",
      "}\n",
      "Warning: not supported field items\n",
      "Warning: not supported field items\n",
      "Warning: not supported field allOf\n"
     ]
    },
    {
     "name": "stderr",
     "output_type": "stream",
     "text": [
      "2023-12-10 21:34:37.976 | INFO     | schema_agents.provider.openai_api:update_cost:101 - Total running cost: $1.790 | Max budget: $10.000 | Current cost: $0.005, prompt_tokens=342, completion_tokens=38\n",
      "2023-12-10 21:34:37.982 | INFO     | schema_agents.provider.openai_api:update_cost:101 - Total running cost: $1.795 | Max budget: $10.000 | Current cost: $0.005, prompt_tokens=342, completion_tokens=38\n"
     ]
    },
    {
     "name": "stdout",
     "output_type": "stream",
     "text": [
      "\", \"  }\n",
      "}\n",
      "Generating LabeledImage (finished): {\n",
      "  \"shape\": [384, 512, 3],\n",
      "  \"axes\": {\n",
      "    \"labels\": [\"y\", \"x\", \"c\"]\n",
      "  }\n",
      "}\n",
      "c\"]\n",
      "Warning: not supported field items\n",
      "Warning: not supported field items\n",
      "Warning: not supported field allOf\n",
      "  }\n",
      "}\n",
      "Generating LabeledImage (finished): {\n",
      "  \"shape\": [300, 500, 3],\n",
      "  \"axes\": {\n",
      "    \"labels\": [\"y\", \"x\", \"c\"]\n",
      "  }\n",
      "}\n",
      "Warning: not supported field items\n",
      "Warning: not supported field items\n",
      "Warning: not supported field allOf\n",
      "Embedded database includes 68 vectors\n"
     ]
    },
    {
     "name": "stderr",
     "output_type": "stream",
     "text": [
      "Safety Counter Progress:   0%|          | 0/6800 [00:00<?, ?it/s]\n",
      "/var/folders/sk/fd7tk3_558qfmyld_br712rc0000gn/T/ipykernel_86453/3672850623.py:9: RuntimeWarning: coroutine 'test_test' was never awaited\n",
      "  representative_images = await test_test()\n",
      "RuntimeWarning: Enable tracemalloc to get the object allocation traceback\n"
     ]
    }
   ],
   "source": [
    "async def test_test():\n",
    "    db_path = \"../tmp/image_db/\"\n",
    "    out_dir = \"/Users/gkreder/Downloads/test_cellpose_db\"\n",
    "    suffix = \"cellpose_test\"\n",
    "    cellpose_test_dir = \"/Users/gkreder/Downloads/test\"\n",
    "    input_files = [os.path.join(cellpose_test_dir, x) for x in os.listdir(cellpose_test_dir) if x.endswith('_img.png')]\n",
    "    representative_images = await get_representative_images(input_files, verbose = True)\n",
    "    return(representative_images)\n",
    "representative_images = await test_test()\n",
    "# fig, axes = test_images(representative_images, out_dir, suffix, db_path, single_output_file=True)"
   ]
  }
 ],
 "metadata": {
  "kernelspec": {
   "display_name": "novel-designer",
   "language": "python",
   "name": "python3"
  },
  "language_info": {
   "codemirror_mode": {
    "name": "ipython",
    "version": 3
   },
   "file_extension": ".py",
   "mimetype": "text/x-python",
   "name": "python",
   "nbconvert_exporter": "python",
   "pygments_lexer": "ipython3",
   "version": "3.10.13"
  }
 },
 "nbformat": 4,
 "nbformat_minor": 2
}
