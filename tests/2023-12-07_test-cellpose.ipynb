{
 "cells": [
  {
   "cell_type": "code",
   "execution_count": 107,
   "metadata": {},
   "outputs": [
    {
     "name": "stdout",
     "output_type": "stream",
     "text": [
      "The autoreload extension is already loaded. To reload it, use:\n",
      "  %reload_ext autoreload\n"
     ]
    }
   ],
   "source": [
    "%load_ext autoreload\n",
    "%autoreload 2\n",
    "import os\n",
    "import typing as T\n",
    "import pickle as pkl\n",
    "import matplotlib.pyplot as plt\n",
    "import sys\n",
    "import cv2\n",
    "import yaml\n",
    "import requests\n",
    "import torch\n",
    "import scipy\n",
    "import torch.nn as nn\n",
    "import numpy as np\n",
    "from xarray import DataArray\n",
    "from tqdm.auto import tqdm\n",
    "import io\n",
    "from PIL import Image\n",
    "from bioimageio_chatbot.image_processor import *\n",
    "import numpy as np\n",
    "from scipy.spatial.distance import cosine\n",
    "from random import choice"
   ]
  },
  {
   "cell_type": "code",
   "execution_count": 112,
   "metadata": {},
   "outputs": [],
   "source": [
    "# # Function to compute pairwise cosine distances\n",
    "# def compute_pairwise_distances(embedded_db : list):\n",
    "#     n = len(embedded_db)\n",
    "#     distances = np.zeros((n, n))\n",
    "#     for i in range(n):\n",
    "#         for j in range(n):\n",
    "#             if i != j:\n",
    "#                 distances[i, j] = cosine(embedded_db[i][2], embedded_db[j][2])\n",
    "#             else:\n",
    "#                 # distances[i, j] = np.inf  # Set the diagonal to infinity\n",
    "#                 distances[i, j] = 0  # Set the diagonal to infinity\n",
    "#     return distances\n",
    "\n",
    "# Function to find the minimum distance to any vector in the representative_db\n",
    "def min_distance_to_representative(vector : list, representative_db : list):\n",
    "    min_distance = np.inf\n",
    "    for _, _, rep_vector in representative_db:\n",
    "        distance = cosine(vector, rep_vector)\n",
    "        if distance < min_distance:\n",
    "            min_distance = distance\n",
    "    return min_distance\n",
    "\n",
    "def get_representative_images(input_files : list, verbose : bool = False,\n",
    "                              grayscale : bool = True, random_seed : int = 2010,\n",
    "                              threshold_distance : float = 0.25, safety_iter : int = 100):\n",
    "    image_processor = ImageProcessor()\n",
    "    embedded_db = []\n",
    "    input_files_interable = tqdm(input_files) if verbose else input_files\n",
    "    for input_image_path in input_files_interable:\n",
    "        fname = os.path.basename(input_image_path)\n",
    "        input_image = image_processor.read_image(input_image_path)\n",
    "        input_axes = guess_image_axes(input_image.shape)\n",
    "        embedded_image = image_processor.embed_image(input_image, input_axes, grayscale = grayscale)\n",
    "        embedded_db.append((fname, input_image_path, embedded_image))\n",
    "    np.random.seed(random_seed)\n",
    "    representative_db = []\n",
    "    safety_counter = 0\n",
    "    # Add vectors to representative_db until the condition is met\n",
    "    while True:\n",
    "        # random_vector = choice(embedded_db)\n",
    "        random_idx = np.random.choice(len(embedded_db), replace = False)\n",
    "        random_vector = embedded_db[random_idx]\n",
    "        if min_distance_to_representative(random_vector[2], representative_db) > threshold_distance:\n",
    "            representative_db.append(random_vector)\n",
    "        # Check if all vectors in embedded_db have been compared\n",
    "        if all(min_distance_to_representative(vector[2], representative_db) <= threshold_distance for vector in embedded_db):\n",
    "            break\n",
    "        safety_counter += 1\n",
    "        if safety_counter > safety_iter * len(input_files):\n",
    "            sys.exit('Error - sampling loop iterations exceeded past safety number')\n",
    "    return([v[1] for v in representative_db])\n",
    "\n",
    "    # # Compute pairwise distances\n",
    "    # pairwise_distances = compute_pairwise_distances(embedded_db)\n"
   ]
  },
  {
   "cell_type": "code",
   "execution_count": 115,
   "metadata": {},
   "outputs": [
    {
     "name": "stderr",
     "output_type": "stream",
     "text": [
      "100%|██████████| 68/68 [00:04<00:00, 14.28it/s]\n"
     ]
    },
    {
     "name": "stdout",
     "output_type": "stream",
     "text": [
      "done\n"
     ]
    }
   ],
   "source": [
    "input_files = [os.path.join(cellpose_test_dir, x) for x in os.listdir(cellpose_test_dir) if x.endswith('_img.png')]\n",
    "representative_images = get_representative_images(input_files, verbose = True)"
   ]
  },
  {
   "cell_type": "code",
   "execution_count": 116,
   "metadata": {},
   "outputs": [
    {
     "name": "stderr",
     "output_type": "stream",
     "text": [
      "100%|██████████| 25/25 [00:16<00:00,  1.55it/s]\n"
     ]
    }
   ],
   "source": [
    "db_path = \"../tmp/image_db/\"\n",
    "out_dir = \"/Users/gkreder/Downloads/cellpose_test_representative_search\"\n",
    "suffix = \"cellpose_test\"\n",
    "fig, axes = test_images(representative_images, out_dir, suffix, db_path, single_output_file=True)"
   ]
  }
 ],
 "metadata": {
  "kernelspec": {
   "display_name": "novel-designer",
   "language": "python",
   "name": "python3"
  },
  "language_info": {
   "codemirror_mode": {
    "name": "ipython",
    "version": 3
   },
   "file_extension": ".py",
   "mimetype": "text/x-python",
   "name": "python",
   "nbconvert_exporter": "python",
   "pygments_lexer": "ipython3",
   "version": "3.10.13"
  }
 },
 "nbformat": 4,
 "nbformat_minor": 2
}
