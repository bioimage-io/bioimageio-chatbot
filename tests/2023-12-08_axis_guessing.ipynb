{
 "cells": [
  {
   "cell_type": "code",
   "execution_count": 2,
   "metadata": {},
   "outputs": [
    {
     "name": "stderr",
     "output_type": "stream",
     "text": [
      "/Users/gkreder/miniconda3/envs/novel-designer/lib/python3.10/site-packages/tqdm/auto.py:21: TqdmWarning: IProgress not found. Please update jupyter and ipywidgets. See https://ipywidgets.readthedocs.io/en/stable/user_install.html\n",
      "  from .autonotebook import tqdm as notebook_tqdm\n",
      "\u001b[32m2023-12-08 10:48:49.993\u001b[0m | \u001b[1mINFO    \u001b[0m | \u001b[36mschema_agents.config\u001b[0m:\u001b[36m__init__\u001b[0m:\u001b[36m44\u001b[0m - \u001b[1mConfig loading done.\u001b[0m\n",
      "\u001b[32m2023-12-08 10:48:49.993\u001b[0m | \u001b[1mINFO    \u001b[0m | \u001b[36mschema_agents.config\u001b[0m:\u001b[36m__init__\u001b[0m:\u001b[36m55\u001b[0m - \u001b[1mSet OPENAI_API_BASE in case of network issues\u001b[0m\n"
     ]
    }
   ],
   "source": [
    "%load_ext autoreload\n",
    "%autoreload 2\n",
    "import os\n",
    "import sys\n",
    "import pickle as pkl\n",
    "import matplotlib.pyplot as plt\n",
    "import torch.nn as nn\n",
    "import numpy as np\n",
    "from xarray import DataArray\n",
    "from tqdm.auto import tqdm\n",
    "from PIL import Image\n",
    "\n",
    "import asyncio\n",
    "from schema_agents.role import Role\n",
    "from schema_agents.schema import Message\n",
    "from pydantic import BaseModel, Field\n",
    "from typing import List\n",
    "\n",
    "from bioimageio_chatbot.image_processor import *\n"
   ]
  },
  {
   "cell_type": "code",
   "execution_count": 3,
   "metadata": {},
   "outputs": [],
   "source": [
    "class SearchAndRunModelByImage(BaseModel):\n",
    "    \"\"\"Search bioimage model zoo for the best model to analyze user's image and run the model according to user's request\"\"\"\n",
    "    request: str = Field(description=\"The user's request\")\n",
    "\n",
    "class InputImageDescription(BaseModel):\n",
    "    \"\"\"\"Some description of the input image\"\"\"\n",
    "    image_shape: tuple = Field(description = \"The shape of the input image.\")\n",
    "    # image_dtype: str = Field(description = \"The dtype of the input image.\")\n",
    "    # image_filename: str = Field(description = \"The filename of the input image.\")\n",
    "\n",
    "class InputImageAxes(BaseModel):\n",
    "    \"\"\"The axes of the input image\"\"\"\n",
    "    axes: str = Field(description=\"The axes of the input image, for example 'cyx', 'cyxz', 'tczyx'...\")\n",
    "\n",
    "async def guess_image_axes(input_image_description : InputImageDescription, role: Role = None) -> InputImageAxes:\n",
    "      \"\"\"Guess the axis labels given the provided image description\"\"\"\n",
    "      response = await role.aask(input_image_description, InputImageAxes)\n",
    "      return(response)"
   ]
  },
  {
   "cell_type": "code",
   "execution_count": 5,
   "metadata": {},
   "outputs": [
    {
     "name": "stderr",
     "output_type": "stream",
     "text": [
      "\u001b[32m2023-12-08 10:49:18.931\u001b[0m | \u001b[1mINFO    \u001b[0m | \u001b[36mschema_agents.provider.openai_api\u001b[0m:\u001b[36m__init__\u001b[0m:\u001b[36m150\u001b[0m - \u001b[1mOpenAI API model: gpt-4-1106-preview\u001b[0m\n",
      "\u001b[32m2023-12-08 10:49:18.931\u001b[0m | \u001b[1mINFO    \u001b[0m | \u001b[36mschema_agents.role\u001b[0m:\u001b[36mset_event_bus\u001b[0m:\u001b[36m83\u001b[0m - \u001b[1mMounting Melman(Customer Service) to event bus: Customer Service - Melman.\u001b[0m\n"
     ]
    },
    {
     "name": "stdout",
     "output_type": "stream",
     "text": [
      "\n",
      "Generating InputImageAxes (start): \n",
      "{\"axes\":\"cyx\"}\n",
      "Generating InputImageAxes (finished): {\"axes\":\"cyx\"}\n"
     ]
    },
    {
     "name": "stderr",
     "output_type": "stream",
     "text": [
      "\u001b[32m2023-12-08 10:49:21.354\u001b[0m | \u001b[1mINFO    \u001b[0m | \u001b[36mschema_agents.provider.openai_api\u001b[0m:\u001b[36mupdate_cost\u001b[0m:\u001b[36m101\u001b[0m - \u001b[1mTotal running cost: $0.003 | Max budget: $10.000 | Current cost: $0.003, prompt_tokens=236, completion_tokens=9\u001b[0m\n"
     ]
    },
    {
     "name": "stdout",
     "output_type": "stream",
     "text": [
      "Warning: not supported field items\n",
      "\n",
      "Generating InputImageAxes (start): \n"
     ]
    },
    {
     "name": "stderr",
     "output_type": "stream",
     "text": [
      "\u001b[32m2023-12-08 10:49:22.562\u001b[0m | \u001b[1mINFO    \u001b[0m | \u001b[36mschema_agents.provider.openai_api\u001b[0m:\u001b[36mupdate_cost\u001b[0m:\u001b[36m101\u001b[0m - \u001b[1mTotal running cost: $0.005 | Max budget: $10.000 | Current cost: $0.003, prompt_tokens=238, completion_tokens=10\u001b[0m\n"
     ]
    },
    {
     "name": "stdout",
     "output_type": "stream",
     "text": [
      "{\"axes\":\"tzyx\"}\n",
      "Generating InputImageAxes (finished): {\"axes\":\"tzyx\"}\n",
      "Warning: not supported field items\n",
      "\n",
      "Generating InputImageAxes (start): \n",
      "{\"axes"
     ]
    },
    {
     "name": "stderr",
     "output_type": "stream",
     "text": [
      "\u001b[32m2023-12-08 10:49:26.016\u001b[0m | \u001b[1mINFO    \u001b[0m | \u001b[36mschema_agents.provider.openai_api\u001b[0m:\u001b[36mupdate_cost\u001b[0m:\u001b[36m101\u001b[0m - \u001b[1mTotal running cost: $0.008 | Max budget: $10.000 | Current cost: $0.003, prompt_tokens=238, completion_tokens=10\u001b[0m\n"
     ]
    },
    {
     "name": "stdout",
     "output_type": "stream",
     "text": [
      "\":\"tczyx\"}\n",
      "Generating InputImageAxes (finished): {\"axes\":\"tczyx\"}\n",
      "Warning: not supported field items\n",
      "\n",
      "Generating InputImageAxes (start): \n",
      "{\"axes\":\"tc"
     ]
    },
    {
     "name": "stderr",
     "output_type": "stream",
     "text": [
      "\u001b[32m2023-12-08 10:49:27.037\u001b[0m | \u001b[1mINFO    \u001b[0m | \u001b[36mschema_agents.provider.openai_api\u001b[0m:\u001b[36mupdate_cost\u001b[0m:\u001b[36m101\u001b[0m - \u001b[1mTotal running cost: $0.011 | Max budget: $10.000 | Current cost: $0.003, prompt_tokens=238, completion_tokens=10\u001b[0m\n"
     ]
    },
    {
     "name": "stdout",
     "output_type": "stream",
     "text": [
      "zyx\"}\n",
      "Generating InputImageAxes (finished): {\"axes\":\"tczyx\"}\n",
      "Warning: not supported field items\n",
      "\n",
      "Generating InputImageAxes (start): \n",
      "{\"axes"
     ]
    },
    {
     "name": "stderr",
     "output_type": "stream",
     "text": [
      "\u001b[32m2023-12-08 10:49:28.216\u001b[0m | \u001b[1mINFO    \u001b[0m | \u001b[36mschema_agents.provider.openai_api\u001b[0m:\u001b[36mupdate_cost\u001b[0m:\u001b[36m101\u001b[0m - \u001b[1mTotal running cost: $0.013 | Max budget: $10.000 | Current cost: $0.003, prompt_tokens=238, completion_tokens=10\u001b[0m\n"
     ]
    },
    {
     "name": "stdout",
     "output_type": "stream",
     "text": [
      "\":\"tczyx\"}\n",
      "Generating InputImageAxes (finished): {\"axes\":\"tczyx\"}\n",
      "Warning: not supported field items\n",
      "\n",
      "Generating InputImageAxes (start): \n",
      "{\"axes"
     ]
    },
    {
     "name": "stderr",
     "output_type": "stream",
     "text": [
      "\u001b[32m2023-12-08 10:49:29.258\u001b[0m | \u001b[1mINFO    \u001b[0m | \u001b[36mschema_agents.provider.openai_api\u001b[0m:\u001b[36mupdate_cost\u001b[0m:\u001b[36m101\u001b[0m - \u001b[1mTotal running cost: $0.016 | Max budget: $10.000 | Current cost: $0.003, prompt_tokens=236, completion_tokens=9\u001b[0m\n"
     ]
    },
    {
     "name": "stdout",
     "output_type": "stream",
     "text": [
      "\":\"cyx\"}\n",
      "Generating InputImageAxes (finished): {\"axes\":\"cyx\"}\n",
      "Warning: not supported field items\n",
      "\n",
      "Generating InputImageAxes (start): \n",
      "{\"axes"
     ]
    },
    {
     "name": "stderr",
     "output_type": "stream",
     "text": [
      "\u001b[32m2023-12-08 10:49:30.326\u001b[0m | \u001b[1mINFO    \u001b[0m | \u001b[36mschema_agents.provider.openai_api\u001b[0m:\u001b[36mupdate_cost\u001b[0m:\u001b[36m101\u001b[0m - \u001b[1mTotal running cost: $0.019 | Max budget: $10.000 | Current cost: $0.003, prompt_tokens=238, completion_tokens=10\u001b[0m\n"
     ]
    },
    {
     "name": "stdout",
     "output_type": "stream",
     "text": [
      "\":\"tczyx\"}\n",
      "Generating InputImageAxes (finished): {\"axes\":\"tczyx\"}\n",
      "Warning: not supported field items\n",
      "\n",
      "Generating InputImageAxes (start): \n",
      "{\"axes"
     ]
    },
    {
     "name": "stderr",
     "output_type": "stream",
     "text": [
      "\u001b[32m2023-12-08 10:49:31.374\u001b[0m | \u001b[1mINFO    \u001b[0m | \u001b[36mschema_agents.provider.openai_api\u001b[0m:\u001b[36mupdate_cost\u001b[0m:\u001b[36m101\u001b[0m - \u001b[1mTotal running cost: $0.021 | Max budget: $10.000 | Current cost: $0.003, prompt_tokens=238, completion_tokens=10\u001b[0m\n"
     ]
    },
    {
     "name": "stdout",
     "output_type": "stream",
     "text": [
      "\":\"tzyx\"}\n",
      "Generating InputImageAxes (finished): {\"axes\":\"tzyx\"}\n",
      "Warning: not supported field items\n",
      "\n",
      "Generating InputImageAxes (start): \n",
      "{\"axes\":\"cy"
     ]
    },
    {
     "name": "stderr",
     "output_type": "stream",
     "text": [
      "\u001b[32m2023-12-08 10:49:32.088\u001b[0m | \u001b[1mINFO    \u001b[0m | \u001b[36mschema_agents.provider.openai_api\u001b[0m:\u001b[36mupdate_cost\u001b[0m:\u001b[36m101\u001b[0m - \u001b[1mTotal running cost: $0.024 | Max budget: $10.000 | Current cost: $0.003, prompt_tokens=238, completion_tokens=9\u001b[0m\n"
     ]
    },
    {
     "name": "stdout",
     "output_type": "stream",
     "text": [
      "x\"}\n",
      "Generating InputImageAxes (finished): {\"axes\":\"cyx\"}\n",
      "Warning: not supported field items\n",
      "\n",
      "Generating InputImageAxes (start): \n",
      "{\"axes\":\"cy"
     ]
    },
    {
     "name": "stderr",
     "output_type": "stream",
     "text": [
      "\u001b[32m2023-12-08 10:49:32.836\u001b[0m | \u001b[1mINFO    \u001b[0m | \u001b[36mschema_agents.provider.openai_api\u001b[0m:\u001b[36mupdate_cost\u001b[0m:\u001b[36m101\u001b[0m - \u001b[1mTotal running cost: $0.027 | Max budget: $10.000 | Current cost: $0.003, prompt_tokens=238, completion_tokens=9\u001b[0m\n"
     ]
    },
    {
     "name": "stdout",
     "output_type": "stream",
     "text": [
      "x\"}\n",
      "Generating InputImageAxes (finished): {\"axes\":\"cyx\"}\n",
      "Warning: not supported field items\n",
      "\n",
      "Generating InputImageAxes (start): \n",
      "{\"axes"
     ]
    },
    {
     "name": "stderr",
     "output_type": "stream",
     "text": [
      "\u001b[32m2023-12-08 10:49:33.978\u001b[0m | \u001b[1mINFO    \u001b[0m | \u001b[36mschema_agents.provider.openai_api\u001b[0m:\u001b[36mupdate_cost\u001b[0m:\u001b[36m101\u001b[0m - \u001b[1mTotal running cost: $0.029 | Max budget: $10.000 | Current cost: $0.003, prompt_tokens=236, completion_tokens=9\u001b[0m\n"
     ]
    },
    {
     "name": "stdout",
     "output_type": "stream",
     "text": [
      "\":\"cyx\"}\n",
      "Generating InputImageAxes (finished): {\"axes\":\"cyx\"}\n",
      "Warning: not supported field items\n"
     ]
    },
    {
     "ename": "ReadTimeout",
     "evalue": "",
     "output_type": "error",
     "traceback": [
      "\u001b[0;31m---------------------------------------------------------------------------\u001b[0m",
      "\u001b[0;31mSSLWantReadError\u001b[0m                          Traceback (most recent call last)",
      "File \u001b[0;32m~/miniconda3/envs/novel-designer/lib/python3.10/site-packages/anyio/streams/tls.py:131\u001b[0m, in \u001b[0;36mTLSStream._call_sslobject_method\u001b[0;34m(self, func, *args)\u001b[0m\n\u001b[1;32m    130\u001b[0m \u001b[39mtry\u001b[39;00m:\n\u001b[0;32m--> 131\u001b[0m     result \u001b[39m=\u001b[39m func(\u001b[39m*\u001b[39;49margs)\n\u001b[1;32m    132\u001b[0m \u001b[39mexcept\u001b[39;00m ssl\u001b[39m.\u001b[39mSSLWantReadError:\n",
      "File \u001b[0;32m~/miniconda3/envs/novel-designer/lib/python3.10/ssl.py:917\u001b[0m, in \u001b[0;36mSSLObject.read\u001b[0;34m(self, len, buffer)\u001b[0m\n\u001b[1;32m    916\u001b[0m \u001b[39melse\u001b[39;00m:\n\u001b[0;32m--> 917\u001b[0m     v \u001b[39m=\u001b[39m \u001b[39mself\u001b[39;49m\u001b[39m.\u001b[39;49m_sslobj\u001b[39m.\u001b[39;49mread(\u001b[39mlen\u001b[39;49m)\n\u001b[1;32m    918\u001b[0m \u001b[39mreturn\u001b[39;00m v\n",
      "\u001b[0;31mSSLWantReadError\u001b[0m: The operation did not complete (read) (_ssl.c:2578)",
      "\nDuring handling of the above exception, another exception occurred:\n",
      "\u001b[0;31mCancelledError\u001b[0m                            Traceback (most recent call last)",
      "File \u001b[0;32m~/miniconda3/envs/novel-designer/lib/python3.10/site-packages/httpcore/_backends/anyio.py:34\u001b[0m, in \u001b[0;36mAnyIOStream.read\u001b[0;34m(self, max_bytes, timeout)\u001b[0m\n\u001b[1;32m     33\u001b[0m \u001b[39mtry\u001b[39;00m:\n\u001b[0;32m---> 34\u001b[0m     \u001b[39mreturn\u001b[39;00m \u001b[39mawait\u001b[39;00m \u001b[39mself\u001b[39m\u001b[39m.\u001b[39m_stream\u001b[39m.\u001b[39mreceive(max_bytes\u001b[39m=\u001b[39mmax_bytes)\n\u001b[1;32m     35\u001b[0m \u001b[39mexcept\u001b[39;00m anyio\u001b[39m.\u001b[39mEndOfStream:  \u001b[39m# pragma: nocover\u001b[39;00m\n",
      "File \u001b[0;32m~/miniconda3/envs/novel-designer/lib/python3.10/site-packages/anyio/streams/tls.py:196\u001b[0m, in \u001b[0;36mTLSStream.receive\u001b[0;34m(self, max_bytes)\u001b[0m\n\u001b[1;32m    195\u001b[0m \u001b[39masync\u001b[39;00m \u001b[39mdef\u001b[39;00m \u001b[39mreceive\u001b[39m(\u001b[39mself\u001b[39m, max_bytes: \u001b[39mint\u001b[39m \u001b[39m=\u001b[39m \u001b[39m65536\u001b[39m) \u001b[39m-\u001b[39m\u001b[39m>\u001b[39m \u001b[39mbytes\u001b[39m:\n\u001b[0;32m--> 196\u001b[0m     data \u001b[39m=\u001b[39m \u001b[39mawait\u001b[39;00m \u001b[39mself\u001b[39m\u001b[39m.\u001b[39m_call_sslobject_method(\u001b[39mself\u001b[39m\u001b[39m.\u001b[39m_ssl_object\u001b[39m.\u001b[39mread, max_bytes)\n\u001b[1;32m    197\u001b[0m     \u001b[39mif\u001b[39;00m \u001b[39mnot\u001b[39;00m data:\n",
      "File \u001b[0;32m~/miniconda3/envs/novel-designer/lib/python3.10/site-packages/anyio/streams/tls.py:138\u001b[0m, in \u001b[0;36mTLSStream._call_sslobject_method\u001b[0;34m(self, func, *args)\u001b[0m\n\u001b[1;32m    136\u001b[0m         \u001b[39mawait\u001b[39;00m \u001b[39mself\u001b[39m\u001b[39m.\u001b[39mtransport_stream\u001b[39m.\u001b[39msend(\u001b[39mself\u001b[39m\u001b[39m.\u001b[39m_write_bio\u001b[39m.\u001b[39mread())\n\u001b[0;32m--> 138\u001b[0m     data \u001b[39m=\u001b[39m \u001b[39mawait\u001b[39;00m \u001b[39mself\u001b[39m\u001b[39m.\u001b[39mtransport_stream\u001b[39m.\u001b[39mreceive()\n\u001b[1;32m    139\u001b[0m \u001b[39mexcept\u001b[39;00m EndOfStream:\n",
      "File \u001b[0;32m~/miniconda3/envs/novel-designer/lib/python3.10/site-packages/anyio/_backends/_asyncio.py:1203\u001b[0m, in \u001b[0;36mSocketStream.receive\u001b[0;34m(self, max_bytes)\u001b[0m\n\u001b[1;32m   1202\u001b[0m \u001b[39mself\u001b[39m\u001b[39m.\u001b[39m_transport\u001b[39m.\u001b[39mresume_reading()\n\u001b[0;32m-> 1203\u001b[0m \u001b[39mawait\u001b[39;00m \u001b[39mself\u001b[39m\u001b[39m.\u001b[39m_protocol\u001b[39m.\u001b[39mread_event\u001b[39m.\u001b[39mwait()\n\u001b[1;32m   1204\u001b[0m \u001b[39mself\u001b[39m\u001b[39m.\u001b[39m_transport\u001b[39m.\u001b[39mpause_reading()\n",
      "File \u001b[0;32m~/miniconda3/envs/novel-designer/lib/python3.10/asyncio/locks.py:214\u001b[0m, in \u001b[0;36mEvent.wait\u001b[0;34m(self)\u001b[0m\n\u001b[1;32m    213\u001b[0m \u001b[39mtry\u001b[39;00m:\n\u001b[0;32m--> 214\u001b[0m     \u001b[39mawait\u001b[39;00m fut\n\u001b[1;32m    215\u001b[0m     \u001b[39mreturn\u001b[39;00m \u001b[39mTrue\u001b[39;00m\n",
      "\u001b[0;31mCancelledError\u001b[0m: ",
      "\nDuring handling of the above exception, another exception occurred:\n",
      "\u001b[0;31mTimeoutError\u001b[0m                              Traceback (most recent call last)",
      "File \u001b[0;32m~/miniconda3/envs/novel-designer/lib/python3.10/site-packages/httpcore/_exceptions.py:10\u001b[0m, in \u001b[0;36mmap_exceptions\u001b[0;34m(map)\u001b[0m\n\u001b[1;32m      9\u001b[0m \u001b[39mtry\u001b[39;00m:\n\u001b[0;32m---> 10\u001b[0m     \u001b[39myield\u001b[39;00m\n\u001b[1;32m     11\u001b[0m \u001b[39mexcept\u001b[39;00m \u001b[39mException\u001b[39;00m \u001b[39mas\u001b[39;00m exc:  \u001b[39m# noqa: PIE786\u001b[39;00m\n",
      "File \u001b[0;32m~/miniconda3/envs/novel-designer/lib/python3.10/site-packages/httpcore/_backends/anyio.py:32\u001b[0m, in \u001b[0;36mAnyIOStream.read\u001b[0;34m(self, max_bytes, timeout)\u001b[0m\n\u001b[1;32m     31\u001b[0m \u001b[39mwith\u001b[39;00m map_exceptions(exc_map):\n\u001b[0;32m---> 32\u001b[0m     \u001b[39mwith\u001b[39;00m anyio\u001b[39m.\u001b[39mfail_after(timeout):\n\u001b[1;32m     33\u001b[0m         \u001b[39mtry\u001b[39;00m:\n",
      "File \u001b[0;32m~/miniconda3/envs/novel-designer/lib/python3.10/site-packages/anyio/_core/_tasks.py:119\u001b[0m, in \u001b[0;36mFailAfterContextManager.__exit__\u001b[0;34m(self, exc_type, exc_val, exc_tb)\u001b[0m\n\u001b[1;32m    118\u001b[0m \u001b[39mif\u001b[39;00m \u001b[39mself\u001b[39m\u001b[39m.\u001b[39m_cancel_scope\u001b[39m.\u001b[39mcancel_called:\n\u001b[0;32m--> 119\u001b[0m     \u001b[39mraise\u001b[39;00m \u001b[39mTimeoutError\u001b[39;00m\n\u001b[1;32m    121\u001b[0m \u001b[39mreturn\u001b[39;00m retval\n",
      "\u001b[0;31mTimeoutError\u001b[0m: ",
      "\nThe above exception was the direct cause of the following exception:\n",
      "\u001b[0;31mReadTimeout\u001b[0m                               Traceback (most recent call last)",
      "File \u001b[0;32m~/miniconda3/envs/novel-designer/lib/python3.10/site-packages/httpx/_transports/default.py:66\u001b[0m, in \u001b[0;36mmap_httpcore_exceptions\u001b[0;34m()\u001b[0m\n\u001b[1;32m     65\u001b[0m \u001b[39mtry\u001b[39;00m:\n\u001b[0;32m---> 66\u001b[0m     \u001b[39myield\u001b[39;00m\n\u001b[1;32m     67\u001b[0m \u001b[39mexcept\u001b[39;00m \u001b[39mException\u001b[39;00m \u001b[39mas\u001b[39;00m exc:\n",
      "File \u001b[0;32m~/miniconda3/envs/novel-designer/lib/python3.10/site-packages/httpx/_transports/default.py:366\u001b[0m, in \u001b[0;36mAsyncHTTPTransport.handle_async_request\u001b[0;34m(self, request)\u001b[0m\n\u001b[1;32m    365\u001b[0m \u001b[39mwith\u001b[39;00m map_httpcore_exceptions():\n\u001b[0;32m--> 366\u001b[0m     resp \u001b[39m=\u001b[39m \u001b[39mawait\u001b[39;00m \u001b[39mself\u001b[39m\u001b[39m.\u001b[39m_pool\u001b[39m.\u001b[39mhandle_async_request(req)\n\u001b[1;32m    368\u001b[0m \u001b[39massert\u001b[39;00m \u001b[39misinstance\u001b[39m(resp\u001b[39m.\u001b[39mstream, typing\u001b[39m.\u001b[39mAsyncIterable)\n",
      "File \u001b[0;32m~/miniconda3/envs/novel-designer/lib/python3.10/site-packages/httpcore/_async/connection_pool.py:268\u001b[0m, in \u001b[0;36mAsyncConnectionPool.handle_async_request\u001b[0;34m(self, request)\u001b[0m\n\u001b[1;32m    267\u001b[0m         \u001b[39mawait\u001b[39;00m \u001b[39mself\u001b[39m\u001b[39m.\u001b[39mresponse_closed(status)\n\u001b[0;32m--> 268\u001b[0m     \u001b[39mraise\u001b[39;00m exc\n\u001b[1;32m    269\u001b[0m \u001b[39melse\u001b[39;00m:\n",
      "File \u001b[0;32m~/miniconda3/envs/novel-designer/lib/python3.10/site-packages/httpcore/_async/connection_pool.py:251\u001b[0m, in \u001b[0;36mAsyncConnectionPool.handle_async_request\u001b[0;34m(self, request)\u001b[0m\n\u001b[1;32m    250\u001b[0m \u001b[39mtry\u001b[39;00m:\n\u001b[0;32m--> 251\u001b[0m     response \u001b[39m=\u001b[39m \u001b[39mawait\u001b[39;00m connection\u001b[39m.\u001b[39mhandle_async_request(request)\n\u001b[1;32m    252\u001b[0m \u001b[39mexcept\u001b[39;00m ConnectionNotAvailable:\n\u001b[1;32m    253\u001b[0m     \u001b[39m# The ConnectionNotAvailable exception is a special case, that\u001b[39;00m\n\u001b[1;32m    254\u001b[0m     \u001b[39m# indicates we need to retry the request on a new connection.\u001b[39;00m\n\u001b[0;32m   (...)\u001b[0m\n\u001b[1;32m    258\u001b[0m     \u001b[39m# might end up as an HTTP/2 connection, but which actually ends\u001b[39;00m\n\u001b[1;32m    259\u001b[0m     \u001b[39m# up as HTTP/1.1.\u001b[39;00m\n",
      "File \u001b[0;32m~/miniconda3/envs/novel-designer/lib/python3.10/site-packages/httpcore/_async/connection.py:103\u001b[0m, in \u001b[0;36mAsyncHTTPConnection.handle_async_request\u001b[0;34m(self, request)\u001b[0m\n\u001b[1;32m    101\u001b[0m         \u001b[39mraise\u001b[39;00m ConnectionNotAvailable()\n\u001b[0;32m--> 103\u001b[0m \u001b[39mreturn\u001b[39;00m \u001b[39mawait\u001b[39;00m \u001b[39mself\u001b[39m\u001b[39m.\u001b[39m_connection\u001b[39m.\u001b[39mhandle_async_request(request)\n",
      "File \u001b[0;32m~/miniconda3/envs/novel-designer/lib/python3.10/site-packages/httpcore/_async/http11.py:133\u001b[0m, in \u001b[0;36mAsyncHTTP11Connection.handle_async_request\u001b[0;34m(self, request)\u001b[0m\n\u001b[1;32m    132\u001b[0m         \u001b[39mawait\u001b[39;00m \u001b[39mself\u001b[39m\u001b[39m.\u001b[39m_response_closed()\n\u001b[0;32m--> 133\u001b[0m \u001b[39mraise\u001b[39;00m exc\n",
      "File \u001b[0;32m~/miniconda3/envs/novel-designer/lib/python3.10/site-packages/httpcore/_async/http11.py:111\u001b[0m, in \u001b[0;36mAsyncHTTP11Connection.handle_async_request\u001b[0;34m(self, request)\u001b[0m\n\u001b[1;32m    103\u001b[0m \u001b[39masync\u001b[39;00m \u001b[39mwith\u001b[39;00m Trace(\n\u001b[1;32m    104\u001b[0m     \u001b[39m\"\u001b[39m\u001b[39mreceive_response_headers\u001b[39m\u001b[39m\"\u001b[39m, logger, request, kwargs\n\u001b[1;32m    105\u001b[0m ) \u001b[39mas\u001b[39;00m trace:\n\u001b[1;32m    106\u001b[0m     (\n\u001b[1;32m    107\u001b[0m         http_version,\n\u001b[1;32m    108\u001b[0m         status,\n\u001b[1;32m    109\u001b[0m         reason_phrase,\n\u001b[1;32m    110\u001b[0m         headers,\n\u001b[0;32m--> 111\u001b[0m     ) \u001b[39m=\u001b[39m \u001b[39mawait\u001b[39;00m \u001b[39mself\u001b[39m\u001b[39m.\u001b[39m_receive_response_headers(\u001b[39m*\u001b[39m\u001b[39m*\u001b[39mkwargs)\n\u001b[1;32m    112\u001b[0m     trace\u001b[39m.\u001b[39mreturn_value \u001b[39m=\u001b[39m (\n\u001b[1;32m    113\u001b[0m         http_version,\n\u001b[1;32m    114\u001b[0m         status,\n\u001b[1;32m    115\u001b[0m         reason_phrase,\n\u001b[1;32m    116\u001b[0m         headers,\n\u001b[1;32m    117\u001b[0m     )\n",
      "File \u001b[0;32m~/miniconda3/envs/novel-designer/lib/python3.10/site-packages/httpcore/_async/http11.py:176\u001b[0m, in \u001b[0;36mAsyncHTTP11Connection._receive_response_headers\u001b[0;34m(self, request)\u001b[0m\n\u001b[1;32m    175\u001b[0m \u001b[39mwhile\u001b[39;00m \u001b[39mTrue\u001b[39;00m:\n\u001b[0;32m--> 176\u001b[0m     event \u001b[39m=\u001b[39m \u001b[39mawait\u001b[39;00m \u001b[39mself\u001b[39m\u001b[39m.\u001b[39m_receive_event(timeout\u001b[39m=\u001b[39mtimeout)\n\u001b[1;32m    177\u001b[0m     \u001b[39mif\u001b[39;00m \u001b[39misinstance\u001b[39m(event, h11\u001b[39m.\u001b[39mResponse):\n",
      "File \u001b[0;32m~/miniconda3/envs/novel-designer/lib/python3.10/site-packages/httpcore/_async/http11.py:212\u001b[0m, in \u001b[0;36mAsyncHTTP11Connection._receive_event\u001b[0;34m(self, timeout)\u001b[0m\n\u001b[1;32m    211\u001b[0m \u001b[39mif\u001b[39;00m event \u001b[39mis\u001b[39;00m h11\u001b[39m.\u001b[39mNEED_DATA:\n\u001b[0;32m--> 212\u001b[0m     data \u001b[39m=\u001b[39m \u001b[39mawait\u001b[39;00m \u001b[39mself\u001b[39m\u001b[39m.\u001b[39m_network_stream\u001b[39m.\u001b[39mread(\n\u001b[1;32m    213\u001b[0m         \u001b[39mself\u001b[39m\u001b[39m.\u001b[39mREAD_NUM_BYTES, timeout\u001b[39m=\u001b[39mtimeout\n\u001b[1;32m    214\u001b[0m     )\n\u001b[1;32m    216\u001b[0m     \u001b[39m# If we feed this case through h11 we'll raise an exception like:\u001b[39;00m\n\u001b[1;32m    217\u001b[0m     \u001b[39m#\u001b[39;00m\n\u001b[1;32m    218\u001b[0m     \u001b[39m#     httpcore.RemoteProtocolError: can't handle event type\u001b[39;00m\n\u001b[0;32m   (...)\u001b[0m\n\u001b[1;32m    222\u001b[0m     \u001b[39m# perspective. Instead we handle this case distinctly and treat\u001b[39;00m\n\u001b[1;32m    223\u001b[0m     \u001b[39m# it as a ConnectError.\u001b[39;00m\n",
      "File \u001b[0;32m~/miniconda3/envs/novel-designer/lib/python3.10/site-packages/httpcore/_backends/anyio.py:31\u001b[0m, in \u001b[0;36mAnyIOStream.read\u001b[0;34m(self, max_bytes, timeout)\u001b[0m\n\u001b[1;32m     26\u001b[0m exc_map \u001b[39m=\u001b[39m {\n\u001b[1;32m     27\u001b[0m     \u001b[39mTimeoutError\u001b[39;00m: ReadTimeout,\n\u001b[1;32m     28\u001b[0m     anyio\u001b[39m.\u001b[39mBrokenResourceError: ReadError,\n\u001b[1;32m     29\u001b[0m     anyio\u001b[39m.\u001b[39mClosedResourceError: ReadError,\n\u001b[1;32m     30\u001b[0m }\n\u001b[0;32m---> 31\u001b[0m \u001b[39mwith\u001b[39;00m map_exceptions(exc_map):\n\u001b[1;32m     32\u001b[0m     \u001b[39mwith\u001b[39;00m anyio\u001b[39m.\u001b[39mfail_after(timeout):\n",
      "File \u001b[0;32m~/miniconda3/envs/novel-designer/lib/python3.10/contextlib.py:153\u001b[0m, in \u001b[0;36m_GeneratorContextManager.__exit__\u001b[0;34m(self, typ, value, traceback)\u001b[0m\n\u001b[1;32m    152\u001b[0m \u001b[39mtry\u001b[39;00m:\n\u001b[0;32m--> 153\u001b[0m     \u001b[39mself\u001b[39;49m\u001b[39m.\u001b[39;49mgen\u001b[39m.\u001b[39;49mthrow(typ, value, traceback)\n\u001b[1;32m    154\u001b[0m \u001b[39mexcept\u001b[39;00m \u001b[39mStopIteration\u001b[39;00m \u001b[39mas\u001b[39;00m exc:\n\u001b[1;32m    155\u001b[0m     \u001b[39m# Suppress StopIteration *unless* it's the same exception that\u001b[39;00m\n\u001b[1;32m    156\u001b[0m     \u001b[39m# was passed to throw().  This prevents a StopIteration\u001b[39;00m\n\u001b[1;32m    157\u001b[0m     \u001b[39m# raised inside the \"with\" statement from being suppressed.\u001b[39;00m\n",
      "File \u001b[0;32m~/miniconda3/envs/novel-designer/lib/python3.10/site-packages/httpcore/_exceptions.py:14\u001b[0m, in \u001b[0;36mmap_exceptions\u001b[0;34m(map)\u001b[0m\n\u001b[1;32m     13\u001b[0m     \u001b[39mif\u001b[39;00m \u001b[39misinstance\u001b[39m(exc, from_exc):\n\u001b[0;32m---> 14\u001b[0m         \u001b[39mraise\u001b[39;00m to_exc(exc) \u001b[39mfrom\u001b[39;00m \u001b[39mexc\u001b[39;00m\n\u001b[1;32m     15\u001b[0m \u001b[39mraise\u001b[39;00m\n",
      "\u001b[0;31mReadTimeout\u001b[0m: ",
      "\nThe above exception was the direct cause of the following exception:\n",
      "\u001b[0;31mReadTimeout\u001b[0m                               Traceback (most recent call last)",
      "\u001b[1;32m/Users/gkreder/bioimageio-chatbot/tests/2023-12-08_axis_guessing.ipynb Cell 3\u001b[0m line \u001b[0;36m3\n\u001b[1;32m     <a href='vscode-notebook-cell:/Users/gkreder/bioimageio-chatbot/tests/2023-12-08_axis_guessing.ipynb#W5sZmlsZQ%3D%3D?line=27'>28</a>\u001b[0m     \u001b[39mreturn\u001b[39;00m((input_images, true_shapes, true_axes, guessed_axes))\n\u001b[1;32m     <a href='vscode-notebook-cell:/Users/gkreder/bioimageio-chatbot/tests/2023-12-08_axis_guessing.ipynb#W5sZmlsZQ%3D%3D?line=29'>30</a>\u001b[0m loop \u001b[39m=\u001b[39m asyncio\u001b[39m.\u001b[39mget_event_loop()\n\u001b[0;32m---> <a href='vscode-notebook-cell:/Users/gkreder/bioimageio-chatbot/tests/2023-12-08_axis_guessing.ipynb#W5sZmlsZQ%3D%3D?line=30'>31</a>\u001b[0m f \u001b[39m=\u001b[39m \u001b[39mawait\u001b[39;00m main()\n\u001b[1;32m     <a href='vscode-notebook-cell:/Users/gkreder/bioimageio-chatbot/tests/2023-12-08_axis_guessing.ipynb#W5sZmlsZQ%3D%3D?line=31'>32</a>\u001b[0m \u001b[39m# loop.create_task(main())\u001b[39;00m\n\u001b[1;32m     <a href='vscode-notebook-cell:/Users/gkreder/bioimageio-chatbot/tests/2023-12-08_axis_guessing.ipynb#W5sZmlsZQ%3D%3D?line=32'>33</a>\u001b[0m \u001b[39m# loop.run_forever()\u001b[39;00m\n\u001b[1;32m     <a href='vscode-notebook-cell:/Users/gkreder/bioimageio-chatbot/tests/2023-12-08_axis_guessing.ipynb#W5sZmlsZQ%3D%3D?line=33'>34</a>\u001b[0m loop\u001b[39m.\u001b[39mrun_until_complete(f)\n",
      "\u001b[1;32m/Users/gkreder/bioimageio-chatbot/tests/2023-12-08_axis_guessing.ipynb Cell 3\u001b[0m line \u001b[0;36m2\n\u001b[1;32m     <a href='vscode-notebook-cell:/Users/gkreder/bioimageio-chatbot/tests/2023-12-08_axis_guessing.ipynb#W5sZmlsZQ%3D%3D?line=20'>21</a>\u001b[0m desc \u001b[39m=\u001b[39m InputImageDescription(image_shape\u001b[39m=\u001b[39minput_image\u001b[39m.\u001b[39mshape)\n\u001b[1;32m     <a href='vscode-notebook-cell:/Users/gkreder/bioimageio-chatbot/tests/2023-12-08_axis_guessing.ipynb#W5sZmlsZQ%3D%3D?line=21'>22</a>\u001b[0m m \u001b[39m=\u001b[39m Message(content \u001b[39m=\u001b[39m \u001b[39m'\u001b[39m\u001b[39mguess the image axes\u001b[39m\u001b[39m'\u001b[39m, data \u001b[39m=\u001b[39m desc, role \u001b[39m=\u001b[39m \u001b[39m'\u001b[39m\u001b[39mUser\u001b[39m\u001b[39m'\u001b[39m)\n\u001b[0;32m---> <a href='vscode-notebook-cell:/Users/gkreder/bioimageio-chatbot/tests/2023-12-08_axis_guessing.ipynb#W5sZmlsZQ%3D%3D?line=22'>23</a>\u001b[0m responses \u001b[39m=\u001b[39m \u001b[39mawait\u001b[39;00m customer_service\u001b[39m.\u001b[39mhandle(m)\n\u001b[1;32m     <a href='vscode-notebook-cell:/Users/gkreder/bioimageio-chatbot/tests/2023-12-08_axis_guessing.ipynb#W5sZmlsZQ%3D%3D?line=23'>24</a>\u001b[0m guess \u001b[39m=\u001b[39m responses[\u001b[39m0\u001b[39m]\u001b[39m.\u001b[39mdata\u001b[39m.\u001b[39maxes\n\u001b[1;32m     <a href='vscode-notebook-cell:/Users/gkreder/bioimageio-chatbot/tests/2023-12-08_axis_guessing.ipynb#W5sZmlsZQ%3D%3D?line=24'>25</a>\u001b[0m guessed_axes\u001b[39m.\u001b[39mappend(guess)\n",
      "File \u001b[0;32m~/schema-agents/schema_agents/role.py:193\u001b[0m, in \u001b[0;36mRole.handle\u001b[0;34m(self, msg)\u001b[0m\n\u001b[1;32m    191\u001b[0m         responses\u001b[39m.\u001b[39mappend(\u001b[39mself\u001b[39m\u001b[39m.\u001b[39m_run_action(action, msg))\n\u001b[1;32m    192\u001b[0m \u001b[39masync\u001b[39;00m \u001b[39mwith\u001b[39;00m create_session_context(\u001b[39mid\u001b[39m\u001b[39m=\u001b[39mmsg\u001b[39m.\u001b[39msession_id, role_setting\u001b[39m=\u001b[39m\u001b[39mself\u001b[39m\u001b[39m.\u001b[39m_setting):\n\u001b[0;32m--> 193\u001b[0m     responses \u001b[39m=\u001b[39m \u001b[39mawait\u001b[39;00m asyncio\u001b[39m.\u001b[39mgather(\u001b[39m*\u001b[39mresponses)\n\u001b[1;32m    195\u001b[0m outputs \u001b[39m=\u001b[39m []  \n\u001b[1;32m    196\u001b[0m \u001b[39mfor\u001b[39;00m response \u001b[39min\u001b[39;00m responses:\n",
      "File \u001b[0;32m~/schema-agents/schema_agents/role.py:159\u001b[0m, in \u001b[0;36mRole._run_action\u001b[0;34m(self, action, msg)\u001b[0m\n\u001b[1;32m    156\u001b[0m         kwargs[p\u001b[39m.\u001b[39mname] \u001b[39m=\u001b[39m \u001b[39mNone\u001b[39;00m\n\u001b[1;32m    158\u001b[0m \u001b[39mif\u001b[39;00m inspect\u001b[39m.\u001b[39miscoroutinefunction(action):\n\u001b[0;32m--> 159\u001b[0m     \u001b[39mreturn\u001b[39;00m \u001b[39mawait\u001b[39;00m action(\u001b[39m*\u001b[39m\u001b[39m*\u001b[39mkwargs)\n\u001b[1;32m    160\u001b[0m \u001b[39melse\u001b[39;00m:\n\u001b[1;32m    161\u001b[0m     \u001b[39mreturn\u001b[39;00m action(\u001b[39m*\u001b[39m\u001b[39m*\u001b[39mkwargs)\n",
      "\u001b[1;32m/Users/gkreder/bioimageio-chatbot/tests/2023-12-08_axis_guessing.ipynb Cell 3\u001b[0m line \u001b[0;36m1\n\u001b[1;32m     <a href='vscode-notebook-cell:/Users/gkreder/bioimageio-chatbot/tests/2023-12-08_axis_guessing.ipynb#W5sZmlsZQ%3D%3D?line=14'>15</a>\u001b[0m \u001b[39masync\u001b[39;00m \u001b[39mdef\u001b[39;00m \u001b[39mguess_image_axes\u001b[39m(input_image_description : InputImageDescription, role: Role \u001b[39m=\u001b[39m \u001b[39mNone\u001b[39;00m) \u001b[39m-\u001b[39m\u001b[39m>\u001b[39m InputImageAxes:\n\u001b[1;32m     <a href='vscode-notebook-cell:/Users/gkreder/bioimageio-chatbot/tests/2023-12-08_axis_guessing.ipynb#W5sZmlsZQ%3D%3D?line=15'>16</a>\u001b[0m \u001b[39m      \u001b[39m\u001b[39m\"\"\"Guess the axis labels given the provided image description\"\"\"\u001b[39;00m\n\u001b[0;32m---> <a href='vscode-notebook-cell:/Users/gkreder/bioimageio-chatbot/tests/2023-12-08_axis_guessing.ipynb#W5sZmlsZQ%3D%3D?line=16'>17</a>\u001b[0m       response \u001b[39m=\u001b[39m \u001b[39mawait\u001b[39;00m role\u001b[39m.\u001b[39maask(input_image_description, InputImageAxes)\n\u001b[1;32m     <a href='vscode-notebook-cell:/Users/gkreder/bioimageio-chatbot/tests/2023-12-08_axis_guessing.ipynb#W5sZmlsZQ%3D%3D?line=17'>18</a>\u001b[0m       \u001b[39mreturn\u001b[39;00m(response)\n",
      "File \u001b[0;32m~/schema-agents/schema_agents/role.py:273\u001b[0m, in \u001b[0;36mRole.aask\u001b[0;34m(self, req, output_schema, prompt)\u001b[0m\n\u001b[1;32m    271\u001b[0m \u001b[39melse\u001b[39;00m:\n\u001b[1;32m    272\u001b[0m     function_call \u001b[39m=\u001b[39m \u001b[39m\"\u001b[39m\u001b[39mauto\u001b[39m\u001b[39m\"\u001b[39m\n\u001b[0;32m--> 273\u001b[0m response \u001b[39m=\u001b[39m \u001b[39mawait\u001b[39;00m \u001b[39mself\u001b[39m\u001b[39m.\u001b[39m_llm\u001b[39m.\u001b[39maask(messages, system_msgs, functions\u001b[39m=\u001b[39mfunctions, function_call\u001b[39m=\u001b[39mfunction_call, event_bus\u001b[39m=\u001b[39m\u001b[39mself\u001b[39m\u001b[39m.\u001b[39m_event_bus)\n\u001b[1;32m    274\u001b[0m \u001b[39mtry\u001b[39;00m:\n\u001b[1;32m    275\u001b[0m     schema_names \u001b[39m=\u001b[39m \u001b[39m\"\u001b[39m\u001b[39m,\u001b[39m\u001b[39m\"\u001b[39m\u001b[39m.\u001b[39mjoin([\u001b[39mf\u001b[39m\u001b[39m\"\u001b[39m\u001b[39m`\u001b[39m\u001b[39m{\u001b[39;00ms\u001b[39m.\u001b[39m\u001b[39m__name__\u001b[39m\u001b[39m}\u001b[39;00m\u001b[39m`\u001b[39m\u001b[39m\"\u001b[39m \u001b[39mfor\u001b[39;00m s \u001b[39min\u001b[39;00m output_types])\n",
      "File \u001b[0;32m~/schema-agents/schema_agents/provider/base_gpt_api.py:69\u001b[0m, in \u001b[0;36mBaseGPTAPI.aask\u001b[0;34m(self, msg, system_msgs, functions, function_call, event_bus)\u001b[0m\n\u001b[1;32m     67\u001b[0m     f_names \u001b[39m=\u001b[39m [f[\u001b[39m\"\u001b[39m\u001b[39mname\u001b[39m\u001b[39m\"\u001b[39m] \u001b[39mfor\u001b[39;00m f \u001b[39min\u001b[39;00m functions]\n\u001b[1;32m     68\u001b[0m     \u001b[39massert\u001b[39;00m \u001b[39mlen\u001b[39m(functions) \u001b[39m==\u001b[39m \u001b[39mlen\u001b[39m(\u001b[39mset\u001b[39m(f_names)), \u001b[39mf\u001b[39m\u001b[39m\"\u001b[39m\u001b[39mfunctions must have unique names, but got \u001b[39m\u001b[39m{\u001b[39;00mf_names\u001b[39m}\u001b[39;00m\u001b[39m\"\u001b[39m\n\u001b[0;32m---> 69\u001b[0m     rsp \u001b[39m=\u001b[39m \u001b[39mawait\u001b[39;00m \u001b[39mself\u001b[39m\u001b[39m.\u001b[39macompletion_function(messages, functions\u001b[39m=\u001b[39mfunctions, function_call\u001b[39m=\u001b[39mfunction_call, event_bus\u001b[39m=\u001b[39mevent_bus)\n\u001b[1;32m     70\u001b[0m \u001b[39melse\u001b[39;00m:\n\u001b[1;32m     71\u001b[0m     rsp \u001b[39m=\u001b[39m \u001b[39mawait\u001b[39;00m \u001b[39mself\u001b[39m\u001b[39m.\u001b[39macompletion_text(messages, stream\u001b[39m=\u001b[39m\u001b[39mTrue\u001b[39;00m, event_bus\u001b[39m=\u001b[39mevent_bus)\n",
      "File \u001b[0;32m~/schema-agents/schema_agents/provider/openai_api.py:277\u001b[0m, in \u001b[0;36mOpenAIGPTAPI.acompletion_function\u001b[0;34m(self, messages, functions, function_call, event_bus)\u001b[0m\n\u001b[1;32m    274\u001b[0m \u001b[39masync\u001b[39;00m \u001b[39mdef\u001b[39;00m \u001b[39macompletion_function\u001b[39m(\u001b[39mself\u001b[39m, messages: \u001b[39mlist\u001b[39m[\u001b[39mdict\u001b[39m], functions: List[Dict[\u001b[39mstr\u001b[39m, Any]]\u001b[39m=\u001b[39m\u001b[39mNone\u001b[39;00m, function_call: Union[\u001b[39mstr\u001b[39m, Dict[\u001b[39mstr\u001b[39m, \u001b[39mstr\u001b[39m]]\u001b[39m=\u001b[39m\u001b[39mNone\u001b[39;00m, event_bus: EventBus\u001b[39m=\u001b[39m\u001b[39mNone\u001b[39;00m) \u001b[39m-\u001b[39m\u001b[39m>\u001b[39m \u001b[39mdict\u001b[39m:\n\u001b[1;32m    275\u001b[0m     \u001b[39m# if isinstance(messages[0], Message):\u001b[39;00m\n\u001b[1;32m    276\u001b[0m     \u001b[39m#     messages = self.messages_to_dict(messages)\u001b[39;00m\n\u001b[0;32m--> 277\u001b[0m     rsp \u001b[39m=\u001b[39m \u001b[39mawait\u001b[39;00m \u001b[39mself\u001b[39m\u001b[39m.\u001b[39m_achat_completion_stream(messages, functions\u001b[39m=\u001b[39mfunctions, function_call\u001b[39m=\u001b[39mfunction_call, event_bus\u001b[39m=\u001b[39mevent_bus)\n\u001b[1;32m    278\u001b[0m     \u001b[39mreturn\u001b[39;00m rsp\n",
      "File \u001b[0;32m~/schema-agents/schema_agents/provider/openai_api.py:171\u001b[0m, in \u001b[0;36mOpenAIGPTAPI._achat_completion_stream\u001b[0;34m(self, messages, event_bus, **kwargs)\u001b[0m\n\u001b[1;32m    170\u001b[0m \u001b[39masync\u001b[39;00m \u001b[39mdef\u001b[39;00m \u001b[39m_achat_completion_stream\u001b[39m(\u001b[39mself\u001b[39m, messages: \u001b[39mlist\u001b[39m[\u001b[39mdict\u001b[39m], event_bus: EventBus\u001b[39m=\u001b[39m\u001b[39mNone\u001b[39;00m, \u001b[39m*\u001b[39m\u001b[39m*\u001b[39mkwargs) \u001b[39m-\u001b[39m\u001b[39m>\u001b[39m \u001b[39mstr\u001b[39m:\n\u001b[0;32m--> 171\u001b[0m     response \u001b[39m=\u001b[39m \u001b[39mawait\u001b[39;00m \u001b[39mself\u001b[39m\u001b[39m.\u001b[39maclient\u001b[39m.\u001b[39mchat\u001b[39m.\u001b[39mcompletions\u001b[39m.\u001b[39mcreate(\n\u001b[1;32m    172\u001b[0m         \u001b[39m*\u001b[39m\u001b[39m*\u001b[39m\u001b[39mself\u001b[39m\u001b[39m.\u001b[39m_cons_kwargs(messages, functions\u001b[39m=\u001b[39mkwargs\u001b[39m.\u001b[39mget(\u001b[39m\"\u001b[39m\u001b[39mfunctions\u001b[39m\u001b[39m\"\u001b[39m)),\n\u001b[1;32m    173\u001b[0m         stream\u001b[39m=\u001b[39m\u001b[39mTrue\u001b[39;00m,\n\u001b[1;32m    174\u001b[0m         \u001b[39m*\u001b[39m\u001b[39m*\u001b[39mkwargs\n\u001b[1;32m    175\u001b[0m     )\n\u001b[1;32m    177\u001b[0m     \u001b[39m# create variables to collect the stream of chunks\u001b[39;00m\n\u001b[1;32m    178\u001b[0m     collected_chunks \u001b[39m=\u001b[39m []\n",
      "File \u001b[0;32m~/miniconda3/envs/novel-designer/lib/python3.10/site-packages/openai/resources/chat/completions.py:1191\u001b[0m, in \u001b[0;36mAsyncCompletions.create\u001b[0;34m(self, messages, model, frequency_penalty, function_call, functions, logit_bias, max_tokens, n, presence_penalty, response_format, seed, stop, stream, temperature, tool_choice, tools, top_p, user, extra_headers, extra_query, extra_body, timeout)\u001b[0m\n\u001b[1;32m   1145\u001b[0m \u001b[39m@required_args\u001b[39m([\u001b[39m\"\u001b[39m\u001b[39mmessages\u001b[39m\u001b[39m\"\u001b[39m, \u001b[39m\"\u001b[39m\u001b[39mmodel\u001b[39m\u001b[39m\"\u001b[39m], [\u001b[39m\"\u001b[39m\u001b[39mmessages\u001b[39m\u001b[39m\"\u001b[39m, \u001b[39m\"\u001b[39m\u001b[39mmodel\u001b[39m\u001b[39m\"\u001b[39m, \u001b[39m\"\u001b[39m\u001b[39mstream\u001b[39m\u001b[39m\"\u001b[39m])\n\u001b[1;32m   1146\u001b[0m \u001b[39masync\u001b[39;00m \u001b[39mdef\u001b[39;00m \u001b[39mcreate\u001b[39m(\n\u001b[1;32m   1147\u001b[0m     \u001b[39mself\u001b[39m,\n\u001b[0;32m   (...)\u001b[0m\n\u001b[1;32m   1189\u001b[0m     timeout: \u001b[39mfloat\u001b[39m \u001b[39m|\u001b[39m httpx\u001b[39m.\u001b[39mTimeout \u001b[39m|\u001b[39m \u001b[39mNone\u001b[39;00m \u001b[39m|\u001b[39m NotGiven \u001b[39m=\u001b[39m NOT_GIVEN,\n\u001b[1;32m   1190\u001b[0m ) \u001b[39m-\u001b[39m\u001b[39m>\u001b[39m ChatCompletion \u001b[39m|\u001b[39m AsyncStream[ChatCompletionChunk]:\n\u001b[0;32m-> 1191\u001b[0m     \u001b[39mreturn\u001b[39;00m \u001b[39mawait\u001b[39;00m \u001b[39mself\u001b[39m\u001b[39m.\u001b[39m_post(\n\u001b[1;32m   1192\u001b[0m         \u001b[39m\"\u001b[39m\u001b[39m/chat/completions\u001b[39m\u001b[39m\"\u001b[39m,\n\u001b[1;32m   1193\u001b[0m         body\u001b[39m=\u001b[39mmaybe_transform(\n\u001b[1;32m   1194\u001b[0m             {\n\u001b[1;32m   1195\u001b[0m                 \u001b[39m\"\u001b[39m\u001b[39mmessages\u001b[39m\u001b[39m\"\u001b[39m: messages,\n\u001b[1;32m   1196\u001b[0m                 \u001b[39m\"\u001b[39m\u001b[39mmodel\u001b[39m\u001b[39m\"\u001b[39m: model,\n\u001b[1;32m   1197\u001b[0m                 \u001b[39m\"\u001b[39m\u001b[39mfrequency_penalty\u001b[39m\u001b[39m\"\u001b[39m: frequency_penalty,\n\u001b[1;32m   1198\u001b[0m                 \u001b[39m\"\u001b[39m\u001b[39mfunction_call\u001b[39m\u001b[39m\"\u001b[39m: function_call,\n\u001b[1;32m   1199\u001b[0m                 \u001b[39m\"\u001b[39m\u001b[39mfunctions\u001b[39m\u001b[39m\"\u001b[39m: functions,\n\u001b[1;32m   1200\u001b[0m                 \u001b[39m\"\u001b[39m\u001b[39mlogit_bias\u001b[39m\u001b[39m\"\u001b[39m: logit_bias,\n\u001b[1;32m   1201\u001b[0m                 \u001b[39m\"\u001b[39m\u001b[39mmax_tokens\u001b[39m\u001b[39m\"\u001b[39m: max_tokens,\n\u001b[1;32m   1202\u001b[0m                 \u001b[39m\"\u001b[39m\u001b[39mn\u001b[39m\u001b[39m\"\u001b[39m: n,\n\u001b[1;32m   1203\u001b[0m                 \u001b[39m\"\u001b[39m\u001b[39mpresence_penalty\u001b[39m\u001b[39m\"\u001b[39m: presence_penalty,\n\u001b[1;32m   1204\u001b[0m                 \u001b[39m\"\u001b[39m\u001b[39mresponse_format\u001b[39m\u001b[39m\"\u001b[39m: response_format,\n\u001b[1;32m   1205\u001b[0m                 \u001b[39m\"\u001b[39m\u001b[39mseed\u001b[39m\u001b[39m\"\u001b[39m: seed,\n\u001b[1;32m   1206\u001b[0m                 \u001b[39m\"\u001b[39m\u001b[39mstop\u001b[39m\u001b[39m\"\u001b[39m: stop,\n\u001b[1;32m   1207\u001b[0m                 \u001b[39m\"\u001b[39m\u001b[39mstream\u001b[39m\u001b[39m\"\u001b[39m: stream,\n\u001b[1;32m   1208\u001b[0m                 \u001b[39m\"\u001b[39m\u001b[39mtemperature\u001b[39m\u001b[39m\"\u001b[39m: temperature,\n\u001b[1;32m   1209\u001b[0m                 \u001b[39m\"\u001b[39m\u001b[39mtool_choice\u001b[39m\u001b[39m\"\u001b[39m: tool_choice,\n\u001b[1;32m   1210\u001b[0m                 \u001b[39m\"\u001b[39m\u001b[39mtools\u001b[39m\u001b[39m\"\u001b[39m: tools,\n\u001b[1;32m   1211\u001b[0m                 \u001b[39m\"\u001b[39m\u001b[39mtop_p\u001b[39m\u001b[39m\"\u001b[39m: top_p,\n\u001b[1;32m   1212\u001b[0m                 \u001b[39m\"\u001b[39m\u001b[39muser\u001b[39m\u001b[39m\"\u001b[39m: user,\n\u001b[1;32m   1213\u001b[0m             },\n\u001b[1;32m   1214\u001b[0m             completion_create_params\u001b[39m.\u001b[39mCompletionCreateParams,\n\u001b[1;32m   1215\u001b[0m         ),\n\u001b[1;32m   1216\u001b[0m         options\u001b[39m=\u001b[39mmake_request_options(\n\u001b[1;32m   1217\u001b[0m             extra_headers\u001b[39m=\u001b[39mextra_headers, extra_query\u001b[39m=\u001b[39mextra_query, extra_body\u001b[39m=\u001b[39mextra_body, timeout\u001b[39m=\u001b[39mtimeout\n\u001b[1;32m   1218\u001b[0m         ),\n\u001b[1;32m   1219\u001b[0m         cast_to\u001b[39m=\u001b[39mChatCompletion,\n\u001b[1;32m   1220\u001b[0m         stream\u001b[39m=\u001b[39mstream \u001b[39mor\u001b[39;00m \u001b[39mFalse\u001b[39;00m,\n\u001b[1;32m   1221\u001b[0m         stream_cls\u001b[39m=\u001b[39mAsyncStream[ChatCompletionChunk],\n\u001b[1;32m   1222\u001b[0m     )\n",
      "File \u001b[0;32m~/miniconda3/envs/novel-designer/lib/python3.10/site-packages/openai/_base_client.py:1480\u001b[0m, in \u001b[0;36mAsyncAPIClient.post\u001b[0;34m(self, path, cast_to, body, files, options, stream, stream_cls)\u001b[0m\n\u001b[1;32m   1466\u001b[0m \u001b[39masync\u001b[39;00m \u001b[39mdef\u001b[39;00m \u001b[39mpost\u001b[39m(\n\u001b[1;32m   1467\u001b[0m     \u001b[39mself\u001b[39m,\n\u001b[1;32m   1468\u001b[0m     path: \u001b[39mstr\u001b[39m,\n\u001b[0;32m   (...)\u001b[0m\n\u001b[1;32m   1475\u001b[0m     stream_cls: \u001b[39mtype\u001b[39m[_AsyncStreamT] \u001b[39m|\u001b[39m \u001b[39mNone\u001b[39;00m \u001b[39m=\u001b[39m \u001b[39mNone\u001b[39;00m,\n\u001b[1;32m   1476\u001b[0m ) \u001b[39m-\u001b[39m\u001b[39m>\u001b[39m ResponseT \u001b[39m|\u001b[39m _AsyncStreamT:\n\u001b[1;32m   1477\u001b[0m     opts \u001b[39m=\u001b[39m FinalRequestOptions\u001b[39m.\u001b[39mconstruct(\n\u001b[1;32m   1478\u001b[0m         method\u001b[39m=\u001b[39m\u001b[39m\"\u001b[39m\u001b[39mpost\u001b[39m\u001b[39m\"\u001b[39m, url\u001b[39m=\u001b[39mpath, json_data\u001b[39m=\u001b[39mbody, files\u001b[39m=\u001b[39m\u001b[39mawait\u001b[39;00m async_to_httpx_files(files), \u001b[39m*\u001b[39m\u001b[39m*\u001b[39moptions\n\u001b[1;32m   1479\u001b[0m     )\n\u001b[0;32m-> 1480\u001b[0m     \u001b[39mreturn\u001b[39;00m \u001b[39mawait\u001b[39;00m \u001b[39mself\u001b[39m\u001b[39m.\u001b[39mrequest(cast_to, opts, stream\u001b[39m=\u001b[39mstream, stream_cls\u001b[39m=\u001b[39mstream_cls)\n",
      "File \u001b[0;32m~/miniconda3/envs/novel-designer/lib/python3.10/site-packages/openai/_base_client.py:1275\u001b[0m, in \u001b[0;36mAsyncAPIClient.request\u001b[0;34m(self, cast_to, options, stream, stream_cls, remaining_retries)\u001b[0m\n\u001b[1;32m   1266\u001b[0m \u001b[39masync\u001b[39;00m \u001b[39mdef\u001b[39;00m \u001b[39mrequest\u001b[39m(\n\u001b[1;32m   1267\u001b[0m     \u001b[39mself\u001b[39m,\n\u001b[1;32m   1268\u001b[0m     cast_to: Type[ResponseT],\n\u001b[0;32m   (...)\u001b[0m\n\u001b[1;32m   1273\u001b[0m     remaining_retries: Optional[\u001b[39mint\u001b[39m] \u001b[39m=\u001b[39m \u001b[39mNone\u001b[39;00m,\n\u001b[1;32m   1274\u001b[0m ) \u001b[39m-\u001b[39m\u001b[39m>\u001b[39m ResponseT \u001b[39m|\u001b[39m _AsyncStreamT:\n\u001b[0;32m-> 1275\u001b[0m     \u001b[39mreturn\u001b[39;00m \u001b[39mawait\u001b[39;00m \u001b[39mself\u001b[39m\u001b[39m.\u001b[39m_request(\n\u001b[1;32m   1276\u001b[0m         cast_to\u001b[39m=\u001b[39mcast_to,\n\u001b[1;32m   1277\u001b[0m         options\u001b[39m=\u001b[39moptions,\n\u001b[1;32m   1278\u001b[0m         stream\u001b[39m=\u001b[39mstream,\n\u001b[1;32m   1279\u001b[0m         stream_cls\u001b[39m=\u001b[39mstream_cls,\n\u001b[1;32m   1280\u001b[0m         remaining_retries\u001b[39m=\u001b[39mremaining_retries,\n\u001b[1;32m   1281\u001b[0m     )\n",
      "File \u001b[0;32m~/miniconda3/envs/novel-designer/lib/python3.10/site-packages/openai/_base_client.py:1299\u001b[0m, in \u001b[0;36mAsyncAPIClient._request\u001b[0;34m(self, cast_to, options, stream, stream_cls, remaining_retries)\u001b[0m\n\u001b[1;32m   1296\u001b[0m \u001b[39mawait\u001b[39;00m \u001b[39mself\u001b[39m\u001b[39m.\u001b[39m_prepare_request(request)\n\u001b[1;32m   1298\u001b[0m \u001b[39mtry\u001b[39;00m:\n\u001b[0;32m-> 1299\u001b[0m     response \u001b[39m=\u001b[39m \u001b[39mawait\u001b[39;00m \u001b[39mself\u001b[39m\u001b[39m.\u001b[39m_client\u001b[39m.\u001b[39msend(request, auth\u001b[39m=\u001b[39m\u001b[39mself\u001b[39m\u001b[39m.\u001b[39mcustom_auth, stream\u001b[39m=\u001b[39mstream)\n\u001b[1;32m   1300\u001b[0m     log\u001b[39m.\u001b[39mdebug(\n\u001b[1;32m   1301\u001b[0m         \u001b[39m'\u001b[39m\u001b[39mHTTP Request: \u001b[39m\u001b[39m%s\u001b[39;00m\u001b[39m \u001b[39m\u001b[39m%s\u001b[39;00m\u001b[39m \u001b[39m\u001b[39m\"\u001b[39m\u001b[39m%i\u001b[39;00m\u001b[39m \u001b[39m\u001b[39m%s\u001b[39;00m\u001b[39m\"\u001b[39m\u001b[39m'\u001b[39m, request\u001b[39m.\u001b[39mmethod, request\u001b[39m.\u001b[39murl, response\u001b[39m.\u001b[39mstatus_code, response\u001b[39m.\u001b[39mreason_phrase\n\u001b[1;32m   1302\u001b[0m     )\n\u001b[1;32m   1303\u001b[0m     response\u001b[39m.\u001b[39mraise_for_status()\n",
      "File \u001b[0;32m~/miniconda3/envs/novel-designer/lib/python3.10/site-packages/httpx/_client.py:1617\u001b[0m, in \u001b[0;36mAsyncClient.send\u001b[0;34m(self, request, stream, auth, follow_redirects)\u001b[0m\n\u001b[1;32m   1609\u001b[0m follow_redirects \u001b[39m=\u001b[39m (\n\u001b[1;32m   1610\u001b[0m     \u001b[39mself\u001b[39m\u001b[39m.\u001b[39mfollow_redirects\n\u001b[1;32m   1611\u001b[0m     \u001b[39mif\u001b[39;00m \u001b[39misinstance\u001b[39m(follow_redirects, UseClientDefault)\n\u001b[1;32m   1612\u001b[0m     \u001b[39melse\u001b[39;00m follow_redirects\n\u001b[1;32m   1613\u001b[0m )\n\u001b[1;32m   1615\u001b[0m auth \u001b[39m=\u001b[39m \u001b[39mself\u001b[39m\u001b[39m.\u001b[39m_build_request_auth(request, auth)\n\u001b[0;32m-> 1617\u001b[0m response \u001b[39m=\u001b[39m \u001b[39mawait\u001b[39;00m \u001b[39mself\u001b[39m\u001b[39m.\u001b[39m_send_handling_auth(\n\u001b[1;32m   1618\u001b[0m     request,\n\u001b[1;32m   1619\u001b[0m     auth\u001b[39m=\u001b[39mauth,\n\u001b[1;32m   1620\u001b[0m     follow_redirects\u001b[39m=\u001b[39mfollow_redirects,\n\u001b[1;32m   1621\u001b[0m     history\u001b[39m=\u001b[39m[],\n\u001b[1;32m   1622\u001b[0m )\n\u001b[1;32m   1623\u001b[0m \u001b[39mtry\u001b[39;00m:\n\u001b[1;32m   1624\u001b[0m     \u001b[39mif\u001b[39;00m \u001b[39mnot\u001b[39;00m stream:\n",
      "File \u001b[0;32m~/miniconda3/envs/novel-designer/lib/python3.10/site-packages/httpx/_client.py:1645\u001b[0m, in \u001b[0;36mAsyncClient._send_handling_auth\u001b[0;34m(self, request, auth, follow_redirects, history)\u001b[0m\n\u001b[1;32m   1642\u001b[0m request \u001b[39m=\u001b[39m \u001b[39mawait\u001b[39;00m auth_flow\u001b[39m.\u001b[39m\u001b[39m__anext__\u001b[39m()\n\u001b[1;32m   1644\u001b[0m \u001b[39mwhile\u001b[39;00m \u001b[39mTrue\u001b[39;00m:\n\u001b[0;32m-> 1645\u001b[0m     response \u001b[39m=\u001b[39m \u001b[39mawait\u001b[39;00m \u001b[39mself\u001b[39m\u001b[39m.\u001b[39m_send_handling_redirects(\n\u001b[1;32m   1646\u001b[0m         request,\n\u001b[1;32m   1647\u001b[0m         follow_redirects\u001b[39m=\u001b[39mfollow_redirects,\n\u001b[1;32m   1648\u001b[0m         history\u001b[39m=\u001b[39mhistory,\n\u001b[1;32m   1649\u001b[0m     )\n\u001b[1;32m   1650\u001b[0m     \u001b[39mtry\u001b[39;00m:\n\u001b[1;32m   1651\u001b[0m         \u001b[39mtry\u001b[39;00m:\n",
      "File \u001b[0;32m~/miniconda3/envs/novel-designer/lib/python3.10/site-packages/httpx/_client.py:1682\u001b[0m, in \u001b[0;36mAsyncClient._send_handling_redirects\u001b[0;34m(self, request, follow_redirects, history)\u001b[0m\n\u001b[1;32m   1679\u001b[0m \u001b[39mfor\u001b[39;00m hook \u001b[39min\u001b[39;00m \u001b[39mself\u001b[39m\u001b[39m.\u001b[39m_event_hooks[\u001b[39m\"\u001b[39m\u001b[39mrequest\u001b[39m\u001b[39m\"\u001b[39m]:\n\u001b[1;32m   1680\u001b[0m     \u001b[39mawait\u001b[39;00m hook(request)\n\u001b[0;32m-> 1682\u001b[0m response \u001b[39m=\u001b[39m \u001b[39mawait\u001b[39;00m \u001b[39mself\u001b[39m\u001b[39m.\u001b[39m_send_single_request(request)\n\u001b[1;32m   1683\u001b[0m \u001b[39mtry\u001b[39;00m:\n\u001b[1;32m   1684\u001b[0m     \u001b[39mfor\u001b[39;00m hook \u001b[39min\u001b[39;00m \u001b[39mself\u001b[39m\u001b[39m.\u001b[39m_event_hooks[\u001b[39m\"\u001b[39m\u001b[39mresponse\u001b[39m\u001b[39m\"\u001b[39m]:\n",
      "File \u001b[0;32m~/miniconda3/envs/novel-designer/lib/python3.10/site-packages/httpx/_client.py:1719\u001b[0m, in \u001b[0;36mAsyncClient._send_single_request\u001b[0;34m(self, request)\u001b[0m\n\u001b[1;32m   1714\u001b[0m     \u001b[39mraise\u001b[39;00m \u001b[39mRuntimeError\u001b[39;00m(\n\u001b[1;32m   1715\u001b[0m         \u001b[39m\"\u001b[39m\u001b[39mAttempted to send an sync request with an AsyncClient instance.\u001b[39m\u001b[39m\"\u001b[39m\n\u001b[1;32m   1716\u001b[0m     )\n\u001b[1;32m   1718\u001b[0m \u001b[39mwith\u001b[39;00m request_context(request\u001b[39m=\u001b[39mrequest):\n\u001b[0;32m-> 1719\u001b[0m     response \u001b[39m=\u001b[39m \u001b[39mawait\u001b[39;00m transport\u001b[39m.\u001b[39mhandle_async_request(request)\n\u001b[1;32m   1721\u001b[0m \u001b[39massert\u001b[39;00m \u001b[39misinstance\u001b[39m(response\u001b[39m.\u001b[39mstream, AsyncByteStream)\n\u001b[1;32m   1722\u001b[0m response\u001b[39m.\u001b[39mrequest \u001b[39m=\u001b[39m request\n",
      "File \u001b[0;32m~/miniconda3/envs/novel-designer/lib/python3.10/site-packages/httpx/_transports/default.py:365\u001b[0m, in \u001b[0;36mAsyncHTTPTransport.handle_async_request\u001b[0;34m(self, request)\u001b[0m\n\u001b[1;32m    351\u001b[0m \u001b[39massert\u001b[39;00m \u001b[39misinstance\u001b[39m(request\u001b[39m.\u001b[39mstream, AsyncByteStream)\n\u001b[1;32m    353\u001b[0m req \u001b[39m=\u001b[39m httpcore\u001b[39m.\u001b[39mRequest(\n\u001b[1;32m    354\u001b[0m     method\u001b[39m=\u001b[39mrequest\u001b[39m.\u001b[39mmethod,\n\u001b[1;32m    355\u001b[0m     url\u001b[39m=\u001b[39mhttpcore\u001b[39m.\u001b[39mURL(\n\u001b[0;32m   (...)\u001b[0m\n\u001b[1;32m    363\u001b[0m     extensions\u001b[39m=\u001b[39mrequest\u001b[39m.\u001b[39mextensions,\n\u001b[1;32m    364\u001b[0m )\n\u001b[0;32m--> 365\u001b[0m \u001b[39mwith\u001b[39;00m map_httpcore_exceptions():\n\u001b[1;32m    366\u001b[0m     resp \u001b[39m=\u001b[39m \u001b[39mawait\u001b[39;00m \u001b[39mself\u001b[39m\u001b[39m.\u001b[39m_pool\u001b[39m.\u001b[39mhandle_async_request(req)\n\u001b[1;32m    368\u001b[0m \u001b[39massert\u001b[39;00m \u001b[39misinstance\u001b[39m(resp\u001b[39m.\u001b[39mstream, typing\u001b[39m.\u001b[39mAsyncIterable)\n",
      "File \u001b[0;32m~/miniconda3/envs/novel-designer/lib/python3.10/contextlib.py:153\u001b[0m, in \u001b[0;36m_GeneratorContextManager.__exit__\u001b[0;34m(self, typ, value, traceback)\u001b[0m\n\u001b[1;32m    151\u001b[0m     value \u001b[39m=\u001b[39m typ()\n\u001b[1;32m    152\u001b[0m \u001b[39mtry\u001b[39;00m:\n\u001b[0;32m--> 153\u001b[0m     \u001b[39mself\u001b[39;49m\u001b[39m.\u001b[39;49mgen\u001b[39m.\u001b[39;49mthrow(typ, value, traceback)\n\u001b[1;32m    154\u001b[0m \u001b[39mexcept\u001b[39;00m \u001b[39mStopIteration\u001b[39;00m \u001b[39mas\u001b[39;00m exc:\n\u001b[1;32m    155\u001b[0m     \u001b[39m# Suppress StopIteration *unless* it's the same exception that\u001b[39;00m\n\u001b[1;32m    156\u001b[0m     \u001b[39m# was passed to throw().  This prevents a StopIteration\u001b[39;00m\n\u001b[1;32m    157\u001b[0m     \u001b[39m# raised inside the \"with\" statement from being suppressed.\u001b[39;00m\n\u001b[1;32m    158\u001b[0m     \u001b[39mreturn\u001b[39;00m exc \u001b[39mis\u001b[39;00m \u001b[39mnot\u001b[39;00m value\n",
      "File \u001b[0;32m~/miniconda3/envs/novel-designer/lib/python3.10/site-packages/httpx/_transports/default.py:83\u001b[0m, in \u001b[0;36mmap_httpcore_exceptions\u001b[0;34m()\u001b[0m\n\u001b[1;32m     80\u001b[0m     \u001b[39mraise\u001b[39;00m\n\u001b[1;32m     82\u001b[0m message \u001b[39m=\u001b[39m \u001b[39mstr\u001b[39m(exc)\n\u001b[0;32m---> 83\u001b[0m \u001b[39mraise\u001b[39;00m mapped_exc(message) \u001b[39mfrom\u001b[39;00m \u001b[39mexc\u001b[39;00m\n",
      "\u001b[0;31mReadTimeout\u001b[0m: "
     ]
    }
   ],
   "source": [
    "async def main():\n",
    "    db_path = \"../tmp/image_db/\"\n",
    "    image_dir = \"../tmp/image_db/input_images/\"\n",
    "\n",
    "    customer_service = Role(name = \"Melman\",\n",
    "                    profile = \"Customer Service\",\n",
    "                    goal=\"Your goal as Melman from Madagascar, the community knowledge base manager, is to assist users in effectively utilizing the knowledge base for bioimage analysis. You are responsible for answering user questions, providing clarifications, retrieving relevant documents, and executing scripts as needed. Your overarching objective is to make the user experience both educational and enjoyable.\",\n",
    "                constraints=None,\n",
    "                actions=[guess_image_axes])\n",
    "    event_bus = customer_service.get_event_bus()\n",
    "    event_bus.register_default_events()\n",
    "    input_images = [os.path.join(image_dir, x) for x in os.listdir(image_dir) if x.endswith('.npy')]\n",
    "    image_processor = ImageProcessor()\n",
    "    guessed_axes = []\n",
    "    true_axes = []\n",
    "    true_shapes = []\n",
    "    for input_image_path in input_images:\n",
    "        model_name = os.path.splitext(os.path.basename(input_image_path))[0]\n",
    "        input_axes = get_axes(db_path, model_name)\n",
    "        input_image = image_processor.read_image(input_image_path)\n",
    "        desc = InputImageDescription(image_shape=input_image.shape)\n",
    "        m = Message(content = 'guess the image axes', data = desc, role = 'User')\n",
    "        responses = await customer_service.handle(m)\n",
    "        guess = responses[0].data.axes\n",
    "        guessed_axes.append(guess)\n",
    "        true_axes.append(input_axes)\n",
    "        true_shapes.append(input_image.shape)\n",
    "    return((input_images, true_shapes, true_axes, guessed_axes))\n",
    "\n",
    "loop = asyncio.get_event_loop()\n",
    "f = await main()\n",
    "# loop.create_task(main())\n",
    "# loop.run_forever()\n",
    "loop.run_until_complete(f)"
   ]
  },
  {
   "cell_type": "code",
   "execution_count": 89,
   "metadata": {},
   "outputs": [
    {
     "ename": "RuntimeError",
     "evalue": "Cannot close a running event loop",
     "output_type": "error",
     "traceback": [
      "\u001b[0;31m---------------------------------------------------------------------------\u001b[0m",
      "\u001b[0;31mRuntimeError\u001b[0m                              Traceback (most recent call last)",
      "\u001b[1;32m/Users/gkreder/bioimageio-chatbot/tests/2023-12-08_axis_guessing.ipynb Cell 4\u001b[0m line \u001b[0;36m2\n\u001b[1;32m      <a href='vscode-notebook-cell:/Users/gkreder/bioimageio-chatbot/tests/2023-12-08_axis_guessing.ipynb#X10sZmlsZQ%3D%3D?line=0'>1</a>\u001b[0m \u001b[39mif\u001b[39;00m loop\u001b[39m.\u001b[39mis_running():\n\u001b[0;32m----> <a href='vscode-notebook-cell:/Users/gkreder/bioimageio-chatbot/tests/2023-12-08_axis_guessing.ipynb#X10sZmlsZQ%3D%3D?line=1'>2</a>\u001b[0m     loop\u001b[39m.\u001b[39;49mclose()\n",
      "File \u001b[0;32m~/miniconda3/envs/novel-designer/lib/python3.10/asyncio/unix_events.py:68\u001b[0m, in \u001b[0;36m_UnixSelectorEventLoop.close\u001b[0;34m(self)\u001b[0m\n\u001b[1;32m     67\u001b[0m \u001b[39mdef\u001b[39;00m \u001b[39mclose\u001b[39m(\u001b[39mself\u001b[39m):\n\u001b[0;32m---> 68\u001b[0m     \u001b[39msuper\u001b[39;49m()\u001b[39m.\u001b[39;49mclose()\n\u001b[1;32m     69\u001b[0m     \u001b[39mif\u001b[39;00m \u001b[39mnot\u001b[39;00m sys\u001b[39m.\u001b[39mis_finalizing():\n\u001b[1;32m     70\u001b[0m         \u001b[39mfor\u001b[39;00m sig \u001b[39min\u001b[39;00m \u001b[39mlist\u001b[39m(\u001b[39mself\u001b[39m\u001b[39m.\u001b[39m_signal_handlers):\n",
      "File \u001b[0;32m~/miniconda3/envs/novel-designer/lib/python3.10/asyncio/selector_events.py:84\u001b[0m, in \u001b[0;36mBaseSelectorEventLoop.close\u001b[0;34m(self)\u001b[0m\n\u001b[1;32m     82\u001b[0m \u001b[39mdef\u001b[39;00m \u001b[39mclose\u001b[39m(\u001b[39mself\u001b[39m):\n\u001b[1;32m     83\u001b[0m     \u001b[39mif\u001b[39;00m \u001b[39mself\u001b[39m\u001b[39m.\u001b[39mis_running():\n\u001b[0;32m---> 84\u001b[0m         \u001b[39mraise\u001b[39;00m \u001b[39mRuntimeError\u001b[39;00m(\u001b[39m\"\u001b[39m\u001b[39mCannot close a running event loop\u001b[39m\u001b[39m\"\u001b[39m)\n\u001b[1;32m     85\u001b[0m     \u001b[39mif\u001b[39;00m \u001b[39mself\u001b[39m\u001b[39m.\u001b[39mis_closed():\n\u001b[1;32m     86\u001b[0m         \u001b[39mreturn\u001b[39;00m\n",
      "\u001b[0;31mRuntimeError\u001b[0m: Cannot close a running event loop"
     ]
    }
   ],
   "source": [
    "if loop.is_running():\n",
    "    loop.close()"
   ]
  },
  {
   "cell_type": "code",
   "execution_count": 1,
   "metadata": {},
   "outputs": [
    {
     "data": {
      "text/plain": [
       "<_UnixSelectorEventLoop running=True closed=False debug=False>"
      ]
     },
     "execution_count": 1,
     "metadata": {},
     "output_type": "execute_result"
    }
   ],
   "source": [
    "# loop.run_until_complete()\n",
    "import asyncio\n",
    "asyncio.get_event_loop()"
   ]
  },
  {
   "cell_type": "code",
   "execution_count": 93,
   "metadata": {},
   "outputs": [
    {
     "data": {
      "text/plain": [
       "<_UnixSelectorEventLoop running=True closed=False debug=False>"
      ]
     },
     "execution_count": 93,
     "metadata": {},
     "output_type": "execute_result"
    }
   ],
   "source": [
    "loop.clo"
   ]
  }
 ],
 "metadata": {
  "kernelspec": {
   "display_name": "novel-designer",
   "language": "python",
   "name": "python3"
  },
  "language_info": {
   "codemirror_mode": {
    "name": "ipython",
    "version": 3
   },
   "file_extension": ".py",
   "mimetype": "text/x-python",
   "name": "python",
   "nbconvert_exporter": "python",
   "pygments_lexer": "ipython3",
   "version": "3.10.13"
  }
 },
 "nbformat": 4,
 "nbformat_minor": 2
}
