{
 "cells": [
  {
   "cell_type": "code",
   "execution_count": 1,
   "metadata": {},
   "outputs": [
    {
     "name": "stderr",
     "output_type": "stream",
     "text": [
      "2023-12-10 19:57:23.193 | INFO     | schema_agents.config:__init__:44 - Config loading done.\n",
      "2023-12-10 19:57:23.193 | INFO     | schema_agents.config:__init__:55 - Set OPENAI_API_BASE in case of network issues\n",
      "/Users/gkreder/opt/miniconda3/envs/novel-designer/lib/python3.10/site-packages/tqdm/auto.py:22: TqdmWarning: IProgress not found. Please update jupyter and ipywidgets. See https://ipywidgets.readthedocs.io/en/stable/user_install.html\n",
      "  from .autonotebook import tqdm as notebook_tqdm\n"
     ]
    }
   ],
   "source": [
    "%load_ext autoreload\n",
    "%autoreload 2\n",
    "import os\n",
    "import sys\n",
    "import pickle as pkl\n",
    "import matplotlib.pyplot as plt\n",
    "import torch.nn as nn\n",
    "import numpy as np\n",
    "from xarray import DataArray\n",
    "from PIL import Image\n",
    "import xml.etree.ElementTree as ET\n",
    "from schema_agents.provider.openai_api import retry\n",
    "import shutil\n",
    "\n",
    "import asyncio\n",
    "from schema_agents.role import Role\n",
    "from schema_agents.schema import Message\n",
    "from pydantic import BaseModel, Field, validator\n",
    "\n",
    "from bioimageio_chatbot.image_processor import *\n"
   ]
  },
  {
   "cell_type": "code",
   "execution_count": 2,
   "metadata": {},
   "outputs": [],
   "source": [
    "db_path = \"../tmp/image_db/\"\n",
    "image_processor = ImageProcessor()\n",
    "db = get_torch_db(db_path, image_processor)"
   ]
  },
  {
   "cell_type": "code",
   "execution_count": 3,
   "metadata": {},
   "outputs": [],
   "source": [
    "cellpose_dir = os.path.join(db_path, 'cellpose_train-set_representatives')\n",
    "cellpose_temp_dir = os.path.join(db_path, \"cellpose_tmp\")\n",
    "if not os.path.exists(cellpose_dir):\n",
    "    os.makedirs(cellpose_temp_dir, exist_ok=True)\n",
    "    cellpose_link = \"https://drive.google.com/drive/folders/1js8urhijmL4h60JxTUDAE7AWmExEoKoP?usp=drive_link\"\n",
    "    cellpose_drive_id = \"1kEy9DHxkGeQHQDQco8CyaL1KEEPS6NYY\"\n",
    "    cellpose_zip_file = os.path.join(db_path, \"cellpose_train_reps.zip\")\n",
    "    wget_cmd = f\"wget --no-check-certificate 'https://docs.google.com/uc?export=download&id={cellpose_drive_id}' -O {cellpose_zip_file}\"\n",
    "    os.system(wget_cmd)\n",
    "    unzip_cmd = f\"unzip {cellpose_zip_file} -d {cellpose_temp_dir}\"\n",
    "    os.system(unzip_cmd)\n",
    "    shutil.move(os.path.join(cellpose_temp_dir, \"cellpose_train-set_representatives\"), db_path)\n",
    "    shutil.rmtree(cellpose_temp_dir, ignore_errors=True)\n",
    "# axis_guesser = Role(name = \"AxisGuesser\",\n",
    "#                 profile = \"Axis Guesser\",\n",
    "#                 goal=\"Your goal as AxisGuesser is read the shapes of input images and guess their axis labels using common sense.\",\n",
    "#             constraints=None,\n",
    "#             actions=[guess_image_axes, guess_all_axes])\n",
    "# event_bus = axis_guesser.get_event_bus()\n",
    "# event_bus.register_default_events()\n",
    "# input_images = [os.path.join(cellpose_dir, x) for x in os.listdir(cellpose_dir) if x.endswith('.png')]\n",
    "# image_processor = ImageProcessor()\n",
    "# guessed_axes = []\n",
    "# shapes = []\n",
    "for input_image_path in input_images:\n",
    "    input_image = image_processor.read_image(input_image_path)\n",
    "    shapes.append(input_image.shape)\n",
    "message_input = UnlabeledImages(unlabeled_images = [UnlabeledImage(shape = s) for s in shapes])\n",
    "m = Message(content = 'guess the image axes for each image in the list', data = message_input, role = 'User')\n",
    "responses = await axis_guesser.handle(m)\n",
    "guessed_axes = [''.join(x.axes.labels) for x in responses[0].data.labeled_images]\n",
    "svg_content = create_svg_table_unknown(input_images, shapes, guessed_axes)\n",
    "with open(os.path.join(db_path, 'cellpose_guessed_axes.svg'), \"w\") as file:\n",
    "    file.write(svg_content)"
   ]
  },
  {
   "cell_type": "code",
   "execution_count": 9,
   "metadata": {},
   "outputs": [
    {
     "data": {
      "text/plain": [
       "(385, 512, 3)"
      ]
     },
     "execution_count": 9,
     "metadata": {},
     "output_type": "execute_result"
    }
   ],
   "source": [
    "input_image.shape"
   ]
  },
  {
   "cell_type": "code",
   "execution_count": null,
   "metadata": {},
   "outputs": [],
   "source": []
  }
 ],
 "metadata": {
  "kernelspec": {
   "display_name": "novel-designer",
   "language": "python",
   "name": "python3"
  },
  "language_info": {
   "codemirror_mode": {
    "name": "ipython",
    "version": 3
   },
   "file_extension": ".py",
   "mimetype": "text/x-python",
   "name": "python",
   "nbconvert_exporter": "python",
   "pygments_lexer": "ipython3",
   "version": "3.10.13"
  }
 },
 "nbformat": 4,
 "nbformat_minor": 2
}
